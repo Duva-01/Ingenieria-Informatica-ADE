{
 "cells": [
  {
   "cell_type": "markdown",
   "metadata": {},
   "source": [
    "# Práctica 2: Estimación e Inferencia en Modelos de Regresión Lineales"
   ]
  },
  {
   "cell_type": "markdown",
   "metadata": {},
   "source": [
    "## Cuestiones"
   ]
  },
  {
   "cell_type": "code",
   "execution_count": 2,
   "metadata": {},
   "outputs": [
    {
     "ename": "ModuleNotFoundError",
     "evalue": "No module named 'wooldridge'",
     "output_type": "error",
     "traceback": [
      "\u001b[1;31m---------------------------------------------------------------------------\u001b[0m",
      "\u001b[1;31mModuleNotFoundError\u001b[0m                       Traceback (most recent call last)",
      "\u001b[1;32m<ipython-input-2-25c7f5eb121b>\u001b[0m in \u001b[0;36m<module>\u001b[1;34m\u001b[0m\n\u001b[0;32m      3\u001b[0m \u001b[1;32mimport\u001b[0m \u001b[0mstatsmodels\u001b[0m\u001b[1;33m.\u001b[0m\u001b[0mformula\u001b[0m\u001b[1;33m.\u001b[0m\u001b[0mapi\u001b[0m \u001b[1;32mas\u001b[0m \u001b[0msmf\u001b[0m\u001b[1;33m\u001b[0m\u001b[1;33m\u001b[0m\u001b[0m\n\u001b[0;32m      4\u001b[0m \u001b[1;32mimport\u001b[0m \u001b[0mmatplotlib\u001b[0m\u001b[1;33m.\u001b[0m\u001b[0mpylab\u001b[0m \u001b[1;32mas\u001b[0m \u001b[0mplt\u001b[0m\u001b[1;33m\u001b[0m\u001b[1;33m\u001b[0m\u001b[0m\n\u001b[1;32m----> 5\u001b[1;33m \u001b[1;32mfrom\u001b[0m \u001b[0mwooldridge\u001b[0m \u001b[1;32mimport\u001b[0m \u001b[1;33m*\u001b[0m\u001b[1;33m\u001b[0m\u001b[1;33m\u001b[0m\u001b[0m\n\u001b[0m",
      "\u001b[1;31mModuleNotFoundError\u001b[0m: No module named 'wooldridge'"
     ]
    }
   ],
   "source": [
    "import numpy as np\n",
    "import statsmodels.api as sm\n",
    "import statsmodels.formula.api as smf\n",
    "import matplotlib.pylab as plt\n",
    "from wooldridge import *"
   ]
  },
  {
   "cell_type": "markdown",
   "metadata": {},
   "source": [
    "1. Utilizando la base de datos **hprice1**:\n",
    "    - Estimar el modelo $\\log {\\rm price} = \\beta_0 + \\beta_1 \\log {\\rm lotsize} + \\beta_2 \\log{\\rm sqrft} + \\beta_3 {\\rm bdrms} + u$. Interpretar los resultados obtenidos.\n",
    "    - Obtener la predicción de $\\log {\\rm price}$ cuando ${\\rm lotsize}=20000$, ${\\rm sqrft}=2500$ y ${\\rm bdrms}=4$.\n",
    "    - Para explicar la variación de ${\\rm price}$, se considera también el modelo: ${\\rm price} = \\beta^\\prime_0 + \\beta_1^\\prime {\\rm sqrtft} + \\beta_2^\\prime {\\rm bdrms} + u^\\prime$. ¿Que modelo es más útil?"
   ]
  },
  {
   "cell_type": "code",
   "execution_count": null,
   "metadata": {},
   "outputs": [],
   "source": [
    "datos=dataWoo(\"hprice1\")\n",
    "y=datos[\"lprice\"]\n",
    "X=datos[[\"llotsize\", \"lsqrft\", \"bdrms\"]]\n",
    "\n"
   ]
  },
  {
   "cell_type": "code",
   "execution_count": null,
   "metadata": {},
   "outputs": [],
   "source": [
    "y1=datos[\"price\"]\n",
    "X1=datos[[\"sqrft\", \"bdrms\"]]\n",
    "\n"
   ]
  },
  {
   "cell_type": "markdown",
   "metadata": {},
   "source": [
    "2. Usando los datos de **vote1**:\n",
    "    - Estimar el modelo $voteA = \\beta_0 + \\beta_1 \\log(expendA) + \\beta_2 \\log(expendB) + \\beta_3 prtystrA + u$.\n",
    "    - ¿Cuál es la interpretación de $\\beta_1$?\n",
    "    - ¿Los gastos de A afectan a los resultados de las elecciones? ¿Y los gastos de B?\n",
    "    - Analizar la correcta especificación *lineal* del modelo con los Tests de Harvey-Collier y Reset de Ramsey.\n",
    "    - Establecer la hipótesis nula de que un aumento de $1\\%$ de aumento en los gastos de A es compensado por un aumento del $1\\%$ en los gastos de B. Contrastar estadísticamente."
   ]
  },
  {
   "cell_type": "code",
   "execution_count": null,
   "metadata": {},
   "outputs": [],
   "source": [
    "#dataWoo(\"vote1\", description=True)\n",
    "\n",
    "datos=dataWoo(\"vote1\")\n",
    "y=datos[\"voteA\"]\n",
    "X=datos[[\"lexpendA\", \"lexpendB\", \"prtystrA\"]]\n",
    "\n"
   ]
  },
  {
   "cell_type": "code",
   "execution_count": null,
   "metadata": {},
   "outputs": [],
   "source": [
    "import statsmodels.stats.diagnostic as diagn #Para el test de Harvey-Collier\n",
    "\n",
    "#diagn.linear_harvey_collier(mco3)\n"
   ]
  },
  {
   "cell_type": "code",
   "execution_count": null,
   "metadata": {},
   "outputs": [],
   "source": [
    "import statsmodels.stats.outliers_influence as oi #Para el test RESET de Ramsey\n",
    "\n",
    "\n",
    "#rr=oi.reset_ramsey(mco3, degree=2)\n",
    "#print(rr)\n"
   ]
  },
  {
   "cell_type": "markdown",
   "metadata": {},
   "source": [
    "\n",
    "\n",
    "\n",
    "\n",
    "\n",
    "\n",
    "3. Con los datos disponibles en **mlb1** se pretende analizar el efecto de diversas características de los jugadores de la liga de béisbol americana en su salario. Se propone el siguiente modelo:\n",
    "$$\n",
    "\\log (salary) = \\beta_0 + \\beta_1 years + \\beta_2 gamesyr + \\beta_3 bavg + \\beta_4 hrunsyr + \\beta_5 rbisyr + \\beta_6 runsyr + \\beta_7 fldperc + \\beta_8 allstar + \\beta_9 black + \\beta_{10} hispan + \\beta_{11} black \\times percblck + \\beta_{12} hispan \\times perchisp + u\n",
    "$$\n",
    "    - Estimar el modelo.\n",
    "    - ¿Son las variables $black$, $hispan$, $black\\times percblck$ y $hispan\\times perchisp$ conjuntamente significativas?\n",
    "    - ¿Cómo interpretarías los coeficientes de las variables \"raciales\"?\n",
    "    \n",
    "    \n",
    "    \n",
    "    \n",
    "    \n",
    "    \n",
    "    "
   ]
  },
  {
   "cell_type": "code",
   "execution_count": null,
   "metadata": {},
   "outputs": [],
   "source": [
    "datos=dataWoo(\"mlb1\")\n"
   ]
  },
  {
   "cell_type": "code",
   "execution_count": null,
   "metadata": {},
   "outputs": [],
   "source": [
    "#dataWoo(\"mlb1\", description=True)\n",
    "datos=dataWoo(\"mlb1\")\n"
   ]
  },
  {
   "cell_type": "markdown",
   "metadata": {},
   "source": [
    "4. Utilizar los datos de **gpa3** para analizar los promedios generales de calificaciones ($cumgpa$) de atletas universitarios en base a la puntuación del examen de acceso a la universidad ($sat$), el percentil alcanzado en bachiller ($hsperc$) y las horas de cursos universitarios ($totrs$):\n",
    "$$\n",
    "cumgpa = \\beta_0 + \\beta_1 sat + \\beta_2 hsperc + \\beta_3 tothrs + u\n",
    "$$\n",
    "    - Estimar el modelo anterior e interpreta los resultados.\n",
    "    - ¿Está el modelo adecuadamente espeficicado de forma lineal según los tests de Harvey-Collier y RESET de Ramsey?\n",
    "    - Para determinar si hay diferencias en las calificaciones entre hombres y mujeres del modelo anterior, considera el modelo con interacciones:\n",
    "    $$\n",
    "cumgpa = \\delta_0 + \\delta_1 sat + \\delta_2 hsperc + \\delta_3 tothrs + \\delta_4 female + \\delta_5 female\\times sat + \\delta_6 female \\times hsperc + \\delta_7 female \\times tothrs +  u\n",
    "$$  \n",
    "Estima el modelo e interpreta los coeficientes obtenidos.\n",
    "    - Contrasta la hipótesis $H_0: \\delta_4=\\delta_5=\\delta_6=\\delta_7=0$. ¿Qué se puede deducir de lo obtenido?"
   ]
  },
  {
   "cell_type": "code",
   "execution_count": null,
   "metadata": {
    "scrolled": true
   },
   "outputs": [],
   "source": [
    "#dataWoo(\"gpa3\", description=True)\n",
    "\n",
    "datos=dataWoo(\"gpa3\")\n",
    "\n",
    "y=datos[\"cumgpa\"]\n",
    "X=datos[[\"sat\", \"hsperc\", \"tothrs\"]]\n",
    "\n",
    "\n",
    "import statsmodels.stats.outliers_influence as oi #Para el test RESET de Ramsey\n",
    "import statsmodels.stats.diagnostic as diagn #Para el test de Harvey-Collier\n",
    "\n",
    "\n"
   ]
  },
  {
   "cell_type": "markdown",
   "metadata": {},
   "source": [
    "5. Usando los datos de **sleep75**, y sabiendo que el modelo de interés es:\n",
    "$$\n",
    "sleep = \\beta_0 + \\beta_1 totwrk + \\beta_2 educ + \\beta_3 age + \\beta_4 age^2 + \\beta_5 yngkid + u\n",
    "$$\n",
    "    - Estimar el modelo por separado para hombres y mujeres y deducir su hay diferencias importantes entre los dos modelos estimados. Obtener las sumas de cuadrados de los residuos $SCR_H$ y $SCR_M$.\n",
    "    - Estimar el modelo sin distinguir por género, y obtener $SCR$. Construir el estadístico:\n",
    "    $$\n",
    "    F_{exp} = \\frac{n-2k -2}{k+1} \\frac{SCR - (SCR_H+SCR_M)}{SCR_H + SCR_M} \\sim F_{k+1, n-2k-1}\n",
    "    $$\n",
    "    donde $n$ es el número total de observaciones y $k$ el número de variables del modelo ($5$).\n",
    "    - El estadístico $F_{exp}$ (**Test de Chow**) permite contrastar la hipótesis de que coeficientes de los modelos para hombres y mujeres coinciden. Comprobar si se rechaza o no esta hipótesis."
   ]
  },
  {
   "cell_type": "code",
   "execution_count": null,
   "metadata": {},
   "outputs": [],
   "source": [
    "datos=dataWoo(\"sleep75\")\n",
    "\n",
    "datosH=datos[datos[\"male\"]==1]\n",
    "\n",
    "yH=datosH[\"sleep\"]\n",
    "XH=datosH[[\"totwrk\", \"educ\", \"age\", \"agesq\", \"yngkid\"]]\n",
    "\n",
    "\n",
    "datosM=datos[datos[\"male\"]==0]\n",
    "\n",
    "yM=datosM[\"sleep\"]\n",
    "XM=datosM[[\"totwrk\", \"educ\", \"age\", \"agesq\", \"yngkid\"]]\n",
    "\n",
    "\n",
    "\n",
    "\n"
   ]
  },
  {
   "cell_type": "markdown",
   "metadata": {},
   "source": [
    "6. Aplicar el test de Chow del ejercicio anterior para determinar si existen diferencias entre géneros al analizar el modelo $\\log (wage) = \\beta_0 + \\beta_1 educ + \\beta_2 exper + \\beta_3 exper^2 + \\beta_4 tenure + \\beta_5 tenure^2 + u$ con los datos de **wage1**."
   ]
  },
  {
   "cell_type": "code",
   "execution_count": null,
   "metadata": {},
   "outputs": [],
   "source": [
    "datos"
   ]
  },
  {
   "cell_type": "markdown",
   "metadata": {},
   "source": [
    "7. Utilizando **apple**:\n",
    "    - Definir la variable binaria $eco=1$ si $ecolbs>0$ y $eco=0$ y si $ecolbs=0$. ¿Qué indica esa variable? ¿Cuál es la proporcion de familias que asegura que comprará manzanas ecoetiquetadas?\n",
    "    - Estimar el modelo $eco = \\beta_0 + \\beta_1 ecoprc + \\beta_2 regprc +\\beta_3 faminc + \\beta_4 hhsize + \\beta_5 educ + \\beta_6 age + u$. Interpretar $\\beta_1$ y $\\beta_2$.\n",
    "    - ¿Son conjuntamente significativas las variables que no corresponden a precios del modelo? ¿Qué variable independiente, además de las relacionadas con precios, parecen tener unefecto más importante sobre la decisión de comprar manzanas ecológicas? ¿Tiene sentido?\n",
    "    - Sustituir en el modelo la variable $faminc$ por $\\log (faminc)$ y estimar el nuevo modelo. ¿Qué modelo se ajusta mejor?\n",
    "    - Utilizar el Test de Chow para determinar si hay diferencias entre hombres y mujeres en su intención de comprar manzanas ecológicas."
   ]
  },
  {
   "cell_type": "code",
   "execution_count": null,
   "metadata": {},
   "outputs": [],
   "source": [
    "datos=dataWoo(\"apple\")\n",
    "#datos[datos[\"ecolbs\"] ==0, \"eco\"] = 0\n",
    "datos[\"eco\"]=0\n",
    "datos.loc[datos['ecolbs']>0.01, 'eco'] = 1\n",
    "datos[\"lfaminc\"]=np.log(datos[\"faminc\"])"
   ]
  },
  {
   "cell_type": "code",
   "execution_count": null,
   "metadata": {},
   "outputs": [],
   "source": [
    "datos"
   ]
  }
 ],
 "metadata": {
  "kernelspec": {
   "display_name": "Python 3",
   "language": "python",
   "name": "python3"
  },
  "language_info": {
   "codemirror_mode": {
    "name": "ipython",
    "version": 3
   },
   "file_extension": ".py",
   "mimetype": "text/x-python",
   "name": "python",
   "nbconvert_exporter": "python",
   "pygments_lexer": "ipython3",
   "version": "3.8.8"
  }
 },
 "nbformat": 4,
 "nbformat_minor": 2
}
