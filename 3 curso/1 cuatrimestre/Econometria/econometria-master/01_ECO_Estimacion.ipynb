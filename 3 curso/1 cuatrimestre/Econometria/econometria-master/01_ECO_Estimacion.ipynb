{
 "cells": [
  {
   "cell_type": "markdown",
   "metadata": {},
   "source": [
    "# Práctica 1: Estimación e Inferencia en Modelos de Regresión Lineales"
   ]
  },
  {
   "cell_type": "markdown",
   "metadata": {},
   "source": [
    "## Modelo 1"
   ]
  },
  {
   "cell_type": "markdown",
   "metadata": {},
   "source": [
    "Carguemos una base de datos de Woldridge \"csal1\""
   ]
  },
  {
   "cell_type": "code",
   "execution_count": 226,
   "metadata": {},
   "outputs": [
    {
     "name": "stdout",
     "output_type": "stream",
     "text": [
      "name of dataset: ceosal1\n",
      "no of variables: 12\n",
      "no of observations: 209\n",
      "\n",
      "+----------+-------------------------------+\n",
      "| variable | label                         |\n",
      "+----------+-------------------------------+\n",
      "| salary   | 1990 salary, thousands $      |\n",
      "| pcsalary | % change salary, 89-90        |\n",
      "| sales    | 1990 firm sales, millions $   |\n",
      "| roe      | return on equity, 88-90 avg   |\n",
      "| pcroe    | % change roe, 88-90           |\n",
      "| ros      | return on firm's stock, 88-90 |\n",
      "| indus    | =1 if industrial firm         |\n",
      "| finance  | =1 if financial firm          |\n",
      "| consprod | =1 if consumer product firm   |\n",
      "| utility  | =1 if transport. or utilties  |\n",
      "| lsalary  | natural log of salary         |\n",
      "| lsales   | natural log of sales          |\n",
      "+----------+-------------------------------+\n",
      "\n",
      "I took a random sample of data reported in the May 6, 1991 issue of\n",
      "Businessweek.\n"
     ]
    },
    {
     "data": {
      "text/html": [
       "<div>\n",
       "<style scoped>\n",
       "    .dataframe tbody tr th:only-of-type {\n",
       "        vertical-align: middle;\n",
       "    }\n",
       "\n",
       "    .dataframe tbody tr th {\n",
       "        vertical-align: top;\n",
       "    }\n",
       "\n",
       "    .dataframe thead th {\n",
       "        text-align: right;\n",
       "    }\n",
       "</style>\n",
       "<table border=\"1\" class=\"dataframe\">\n",
       "  <thead>\n",
       "    <tr style=\"text-align: right;\">\n",
       "      <th></th>\n",
       "      <th>salary</th>\n",
       "      <th>pcsalary</th>\n",
       "      <th>sales</th>\n",
       "      <th>roe</th>\n",
       "      <th>pcroe</th>\n",
       "      <th>ros</th>\n",
       "      <th>indus</th>\n",
       "      <th>finance</th>\n",
       "      <th>consprod</th>\n",
       "      <th>utility</th>\n",
       "      <th>lsalary</th>\n",
       "      <th>lsales</th>\n",
       "    </tr>\n",
       "  </thead>\n",
       "  <tbody>\n",
       "    <tr>\n",
       "      <th>0</th>\n",
       "      <td>1095</td>\n",
       "      <td>20</td>\n",
       "      <td>27595.000000</td>\n",
       "      <td>14.1</td>\n",
       "      <td>106.400002</td>\n",
       "      <td>191</td>\n",
       "      <td>1</td>\n",
       "      <td>0</td>\n",
       "      <td>0</td>\n",
       "      <td>0</td>\n",
       "      <td>6.998509</td>\n",
       "      <td>10.225389</td>\n",
       "    </tr>\n",
       "    <tr>\n",
       "      <th>1</th>\n",
       "      <td>1001</td>\n",
       "      <td>32</td>\n",
       "      <td>9958.000000</td>\n",
       "      <td>10.9</td>\n",
       "      <td>-30.600000</td>\n",
       "      <td>13</td>\n",
       "      <td>1</td>\n",
       "      <td>0</td>\n",
       "      <td>0</td>\n",
       "      <td>0</td>\n",
       "      <td>6.908755</td>\n",
       "      <td>9.206132</td>\n",
       "    </tr>\n",
       "    <tr>\n",
       "      <th>2</th>\n",
       "      <td>1122</td>\n",
       "      <td>9</td>\n",
       "      <td>6125.899902</td>\n",
       "      <td>23.5</td>\n",
       "      <td>-16.299999</td>\n",
       "      <td>14</td>\n",
       "      <td>1</td>\n",
       "      <td>0</td>\n",
       "      <td>0</td>\n",
       "      <td>0</td>\n",
       "      <td>7.022868</td>\n",
       "      <td>8.720281</td>\n",
       "    </tr>\n",
       "    <tr>\n",
       "      <th>3</th>\n",
       "      <td>578</td>\n",
       "      <td>-9</td>\n",
       "      <td>16246.000000</td>\n",
       "      <td>5.9</td>\n",
       "      <td>-25.700001</td>\n",
       "      <td>-21</td>\n",
       "      <td>1</td>\n",
       "      <td>0</td>\n",
       "      <td>0</td>\n",
       "      <td>0</td>\n",
       "      <td>6.359574</td>\n",
       "      <td>9.695602</td>\n",
       "    </tr>\n",
       "    <tr>\n",
       "      <th>4</th>\n",
       "      <td>1368</td>\n",
       "      <td>7</td>\n",
       "      <td>21783.199219</td>\n",
       "      <td>13.8</td>\n",
       "      <td>-3.000000</td>\n",
       "      <td>56</td>\n",
       "      <td>1</td>\n",
       "      <td>0</td>\n",
       "      <td>0</td>\n",
       "      <td>0</td>\n",
       "      <td>7.221105</td>\n",
       "      <td>9.988894</td>\n",
       "    </tr>\n",
       "    <tr>\n",
       "      <th>...</th>\n",
       "      <td>...</td>\n",
       "      <td>...</td>\n",
       "      <td>...</td>\n",
       "      <td>...</td>\n",
       "      <td>...</td>\n",
       "      <td>...</td>\n",
       "      <td>...</td>\n",
       "      <td>...</td>\n",
       "      <td>...</td>\n",
       "      <td>...</td>\n",
       "      <td>...</td>\n",
       "      <td>...</td>\n",
       "    </tr>\n",
       "    <tr>\n",
       "      <th>204</th>\n",
       "      <td>930</td>\n",
       "      <td>10</td>\n",
       "      <td>1509.099976</td>\n",
       "      <td>9.0</td>\n",
       "      <td>20.500000</td>\n",
       "      <td>131</td>\n",
       "      <td>0</td>\n",
       "      <td>0</td>\n",
       "      <td>0</td>\n",
       "      <td>1</td>\n",
       "      <td>6.835185</td>\n",
       "      <td>7.319269</td>\n",
       "    </tr>\n",
       "    <tr>\n",
       "      <th>205</th>\n",
       "      <td>525</td>\n",
       "      <td>3</td>\n",
       "      <td>1097.099976</td>\n",
       "      <td>15.5</td>\n",
       "      <td>20.100000</td>\n",
       "      <td>72</td>\n",
       "      <td>0</td>\n",
       "      <td>0</td>\n",
       "      <td>0</td>\n",
       "      <td>1</td>\n",
       "      <td>6.263398</td>\n",
       "      <td>7.000426</td>\n",
       "    </tr>\n",
       "    <tr>\n",
       "      <th>206</th>\n",
       "      <td>658</td>\n",
       "      <td>32</td>\n",
       "      <td>4542.600098</td>\n",
       "      <td>12.1</td>\n",
       "      <td>-7.800000</td>\n",
       "      <td>68</td>\n",
       "      <td>0</td>\n",
       "      <td>0</td>\n",
       "      <td>0</td>\n",
       "      <td>1</td>\n",
       "      <td>6.489205</td>\n",
       "      <td>8.421255</td>\n",
       "    </tr>\n",
       "    <tr>\n",
       "      <th>207</th>\n",
       "      <td>555</td>\n",
       "      <td>6</td>\n",
       "      <td>2023.000000</td>\n",
       "      <td>13.7</td>\n",
       "      <td>-14.600000</td>\n",
       "      <td>60</td>\n",
       "      <td>0</td>\n",
       "      <td>0</td>\n",
       "      <td>0</td>\n",
       "      <td>1</td>\n",
       "      <td>6.318968</td>\n",
       "      <td>7.612337</td>\n",
       "    </tr>\n",
       "    <tr>\n",
       "      <th>208</th>\n",
       "      <td>626</td>\n",
       "      <td>0</td>\n",
       "      <td>1442.500000</td>\n",
       "      <td>14.4</td>\n",
       "      <td>-10.200000</td>\n",
       "      <td>62</td>\n",
       "      <td>0</td>\n",
       "      <td>0</td>\n",
       "      <td>0</td>\n",
       "      <td>1</td>\n",
       "      <td>6.439351</td>\n",
       "      <td>7.274133</td>\n",
       "    </tr>\n",
       "  </tbody>\n",
       "</table>\n",
       "<p>209 rows × 12 columns</p>\n",
       "</div>"
      ],
      "text/plain": [
       "     salary  pcsalary         sales   roe       pcroe  ros  indus  finance  \\\n",
       "0      1095        20  27595.000000  14.1  106.400002  191      1        0   \n",
       "1      1001        32   9958.000000  10.9  -30.600000   13      1        0   \n",
       "2      1122         9   6125.899902  23.5  -16.299999   14      1        0   \n",
       "3       578        -9  16246.000000   5.9  -25.700001  -21      1        0   \n",
       "4      1368         7  21783.199219  13.8   -3.000000   56      1        0   \n",
       "..      ...       ...           ...   ...         ...  ...    ...      ...   \n",
       "204     930        10   1509.099976   9.0   20.500000  131      0        0   \n",
       "205     525         3   1097.099976  15.5   20.100000   72      0        0   \n",
       "206     658        32   4542.600098  12.1   -7.800000   68      0        0   \n",
       "207     555         6   2023.000000  13.7  -14.600000   60      0        0   \n",
       "208     626         0   1442.500000  14.4  -10.200000   62      0        0   \n",
       "\n",
       "     consprod  utility   lsalary     lsales  \n",
       "0           0        0  6.998509  10.225389  \n",
       "1           0        0  6.908755   9.206132  \n",
       "2           0        0  7.022868   8.720281  \n",
       "3           0        0  6.359574   9.695602  \n",
       "4           0        0  7.221105   9.988894  \n",
       "..        ...      ...       ...        ...  \n",
       "204         0        1  6.835185   7.319269  \n",
       "205         0        1  6.263398   7.000426  \n",
       "206         0        1  6.489205   8.421255  \n",
       "207         0        1  6.318968   7.612337  \n",
       "208         0        1  6.439351   7.274133  \n",
       "\n",
       "[209 rows x 12 columns]"
      ]
     },
     "execution_count": 226,
     "metadata": {},
     "output_type": "execute_result"
    }
   ],
   "source": [
    "import numpy as np\n",
    "import statsmodels.api as sm\n",
    "import statsmodels.formula.api as smf\n",
    "import matplotlib.pylab as plt\n",
    "from wooldridge import *\n",
    "\n",
    "dataWoo('ceosal1', description=True) #con description=True tenemos una descripción de las variables\n",
    "dataWoo('ceosal1')"
   ]
  },
  {
   "cell_type": "markdown",
   "metadata": {},
   "source": [
    "Llamamos \"datos\" a los datos de esa base de datos, y dentro de tal, notamos por \"y\" al salario de los CEOS y a \"X\" la matriz de datos con columna de unos (constante) y \"roe\" (rendimiento medio del CEO):"
   ]
  },
  {
   "cell_type": "code",
   "execution_count": 227,
   "metadata": {},
   "outputs": [],
   "source": [
    "datos=dataWoo('ceosal1')\n",
    "\n",
    "y=datos['salary']\n",
    "X=sm.add_constant(datos['roe'])"
   ]
  },
  {
   "cell_type": "markdown",
   "metadata": {},
   "source": [
    "## Estadísticos Descriptivos:"
   ]
  },
  {
   "cell_type": "code",
   "execution_count": 228,
   "metadata": {},
   "outputs": [
    {
     "data": {
      "image/png": "[encoded data removed]",
      "text/plain": [
       "<Figure size 432x288 with 1 Axes>"
      ]
     },
     "metadata": {
      "needs_background": "light"
     },
     "output_type": "display_data"
    },
    {
     "name": "stdout",
     "output_type": "stream",
     "text": [
      "736.0 1039.0 1407.0 1369.0582486088983 1281.1196172248804\n"
     ]
    }
   ],
   "source": [
    "media=np.mean(y)\n",
    "Q1=np.quantile(y, 0.25)\n",
    "Q3=np.quantile(y, 0.75)\n",
    "Varianza=np.var(y)\n",
    "DesviacionTipica=np.std(y)\n",
    "Mediana=np.median(y)\n",
    "histograma=plt.hist(y, bins='auto', rwidth=0.85)\n",
    "plt.xlabel('y')\n",
    "plt.ylabel('Frecuancia')\n",
    "plt.title(\"Histrograma de y (salary)\")\n",
    "plt.show()\n",
    "print(Q1, Mediana, Q3, DesviacionTipica, np.mean(y))"
   ]
  },
  {
   "cell_type": "markdown",
   "metadata": {},
   "source": [
    "Ahora ajustamos el modelo $y = X\\beta + u$ y extraemos un resumen del resultado:"
   ]
  },
  {
   "cell_type": "code",
   "execution_count": 229,
   "metadata": {},
   "outputs": [
    {
     "data": {
      "text/html": [
       "<table class=\"simpletable\">\n",
       "<caption>OLS Regression Results</caption>\n",
       "<tr>\n",
       "  <th>Dep. Variable:</th>         <td>salary</td>      <th>  R-squared:         </th> <td>   0.013</td>\n",
       "</tr>\n",
       "<tr>\n",
       "  <th>Model:</th>                   <td>OLS</td>       <th>  Adj. R-squared:    </th> <td>   0.008</td>\n",
       "</tr>\n",
       "<tr>\n",
       "  <th>Method:</th>             <td>Least Squares</td>  <th>  F-statistic:       </th> <td>   2.767</td>\n",
       "</tr>\n",
       "<tr>\n",
       "  <th>Date:</th>             <td>Fri, 17 Dec 2021</td> <th>  Prob (F-statistic):</th>  <td>0.0978</td> \n",
       "</tr>\n",
       "<tr>\n",
       "  <th>Time:</th>                 <td>19:51:56</td>     <th>  Log-Likelihood:    </th> <td> -1804.5</td>\n",
       "</tr>\n",
       "<tr>\n",
       "  <th>No. Observations:</th>      <td>   209</td>      <th>  AIC:               </th> <td>   3613.</td>\n",
       "</tr>\n",
       "<tr>\n",
       "  <th>Df Residuals:</th>          <td>   207</td>      <th>  BIC:               </th> <td>   3620.</td>\n",
       "</tr>\n",
       "<tr>\n",
       "  <th>Df Model:</th>              <td>     1</td>      <th>                     </th>     <td> </td>   \n",
       "</tr>\n",
       "<tr>\n",
       "  <th>Covariance Type:</th>      <td>nonrobust</td>    <th>                     </th>     <td> </td>   \n",
       "</tr>\n",
       "</table>\n",
       "<table class=\"simpletable\">\n",
       "<tr>\n",
       "    <td></td>       <th>coef</th>     <th>std err</th>      <th>t</th>      <th>P>|t|</th>  <th>[0.025</th>    <th>0.975]</th>  \n",
       "</tr>\n",
       "<tr>\n",
       "  <th>const</th> <td>  963.1913</td> <td>  213.240</td> <td>    4.517</td> <td> 0.000</td> <td>  542.790</td> <td> 1383.592</td>\n",
       "</tr>\n",
       "<tr>\n",
       "  <th>roe</th>   <td>   18.5012</td> <td>   11.123</td> <td>    1.663</td> <td> 0.098</td> <td>   -3.428</td> <td>   40.431</td>\n",
       "</tr>\n",
       "</table>\n",
       "<table class=\"simpletable\">\n",
       "<tr>\n",
       "  <th>Omnibus:</th>       <td>311.096</td> <th>  Durbin-Watson:     </th> <td>   2.105</td> \n",
       "</tr>\n",
       "<tr>\n",
       "  <th>Prob(Omnibus):</th> <td> 0.000</td>  <th>  Jarque-Bera (JB):  </th> <td>31120.902</td>\n",
       "</tr>\n",
       "<tr>\n",
       "  <th>Skew:</th>          <td> 6.915</td>  <th>  Prob(JB):          </th> <td>    0.00</td> \n",
       "</tr>\n",
       "<tr>\n",
       "  <th>Kurtosis:</th>      <td>61.158</td>  <th>  Cond. No.          </th> <td>    43.3</td> \n",
       "</tr>\n",
       "</table><br/><br/>Notes:<br/>[1] Standard Errors assume that the covariance matrix of the errors is correctly specified."
      ],
      "text/plain": [
       "<class 'statsmodels.iolib.summary.Summary'>\n",
       "\"\"\"\n",
       "                            OLS Regression Results                            \n",
       "==============================================================================\n",
       "Dep. Variable:                 salary   R-squared:                       0.013\n",
       "Model:                            OLS   Adj. R-squared:                  0.008\n",
       "Method:                 Least Squares   F-statistic:                     2.767\n",
       "Date:                Fri, 17 Dec 2021   Prob (F-statistic):             0.0978\n",
       "Time:                        19:51:56   Log-Likelihood:                -1804.5\n",
       "No. Observations:                 209   AIC:                             3613.\n",
       "Df Residuals:                     207   BIC:                             3620.\n",
       "Df Model:                           1                                         \n",
       "Covariance Type:            nonrobust                                         \n",
       "==============================================================================\n",
       "                 coef    std err          t      P>|t|      [0.025      0.975]\n",
       "------------------------------------------------------------------------------\n",
       "const        963.1913    213.240      4.517      0.000     542.790    1383.592\n",
       "roe           18.5012     11.123      1.663      0.098      -3.428      40.431\n",
       "==============================================================================\n",
       "Omnibus:                      311.096   Durbin-Watson:                   2.105\n",
       "Prob(Omnibus):                  0.000   Jarque-Bera (JB):            31120.902\n",
       "Skew:                           6.915   Prob(JB):                         0.00\n",
       "Kurtosis:                      61.158   Cond. No.                         43.3\n",
       "==============================================================================\n",
       "\n",
       "Notes:\n",
       "[1] Standard Errors assume that the covariance matrix of the errors is correctly specified.\n",
       "\"\"\""
      ]
     },
     "execution_count": 229,
     "metadata": {},
     "output_type": "execute_result"
    }
   ],
   "source": [
    "mco1 = sm.OLS(y, X).fit()\n",
    "mco1.summary()"
   ]
  },
  {
   "cell_type": "markdown",
   "metadata": {},
   "source": [
    "Existen otras formas de obtener las estimaciones del modelo:"
   ]
  },
  {
   "cell_type": "code",
   "execution_count": 230,
   "metadata": {},
   "outputs": [
    {
     "data": {
      "text/html": [
       "<table class=\"simpletable\">\n",
       "<caption>OLS Regression Results</caption>\n",
       "<tr>\n",
       "  <th>Dep. Variable:</th>         <td>salary</td>      <th>  R-squared:         </th> <td>   0.013</td>\n",
       "</tr>\n",
       "<tr>\n",
       "  <th>Model:</th>                   <td>OLS</td>       <th>  Adj. R-squared:    </th> <td>   0.008</td>\n",
       "</tr>\n",
       "<tr>\n",
       "  <th>Method:</th>             <td>Least Squares</td>  <th>  F-statistic:       </th> <td>   2.767</td>\n",
       "</tr>\n",
       "<tr>\n",
       "  <th>Date:</th>             <td>Fri, 17 Dec 2021</td> <th>  Prob (F-statistic):</th>  <td>0.0978</td> \n",
       "</tr>\n",
       "<tr>\n",
       "  <th>Time:</th>                 <td>19:51:56</td>     <th>  Log-Likelihood:    </th> <td> -1804.5</td>\n",
       "</tr>\n",
       "<tr>\n",
       "  <th>No. Observations:</th>      <td>   209</td>      <th>  AIC:               </th> <td>   3613.</td>\n",
       "</tr>\n",
       "<tr>\n",
       "  <th>Df Residuals:</th>          <td>   207</td>      <th>  BIC:               </th> <td>   3620.</td>\n",
       "</tr>\n",
       "<tr>\n",
       "  <th>Df Model:</th>              <td>     1</td>      <th>                     </th>     <td> </td>   \n",
       "</tr>\n",
       "<tr>\n",
       "  <th>Covariance Type:</th>      <td>nonrobust</td>    <th>                     </th>     <td> </td>   \n",
       "</tr>\n",
       "</table>\n",
       "<table class=\"simpletable\">\n",
       "<tr>\n",
       "      <td></td>         <th>coef</th>     <th>std err</th>      <th>t</th>      <th>P>|t|</th>  <th>[0.025</th>    <th>0.975]</th>  \n",
       "</tr>\n",
       "<tr>\n",
       "  <th>Intercept</th> <td>  963.1913</td> <td>  213.240</td> <td>    4.517</td> <td> 0.000</td> <td>  542.790</td> <td> 1383.592</td>\n",
       "</tr>\n",
       "<tr>\n",
       "  <th>roe</th>       <td>   18.5012</td> <td>   11.123</td> <td>    1.663</td> <td> 0.098</td> <td>   -3.428</td> <td>   40.431</td>\n",
       "</tr>\n",
       "</table>\n",
       "<table class=\"simpletable\">\n",
       "<tr>\n",
       "  <th>Omnibus:</th>       <td>311.096</td> <th>  Durbin-Watson:     </th> <td>   2.105</td> \n",
       "</tr>\n",
       "<tr>\n",
       "  <th>Prob(Omnibus):</th> <td> 0.000</td>  <th>  Jarque-Bera (JB):  </th> <td>31120.902</td>\n",
       "</tr>\n",
       "<tr>\n",
       "  <th>Skew:</th>          <td> 6.915</td>  <th>  Prob(JB):          </th> <td>    0.00</td> \n",
       "</tr>\n",
       "<tr>\n",
       "  <th>Kurtosis:</th>      <td>61.158</td>  <th>  Cond. No.          </th> <td>    43.3</td> \n",
       "</tr>\n",
       "</table><br/><br/>Notes:<br/>[1] Standard Errors assume that the covariance matrix of the errors is correctly specified."
      ],
      "text/plain": [
       "<class 'statsmodels.iolib.summary.Summary'>\n",
       "\"\"\"\n",
       "                            OLS Regression Results                            \n",
       "==============================================================================\n",
       "Dep. Variable:                 salary   R-squared:                       0.013\n",
       "Model:                            OLS   Adj. R-squared:                  0.008\n",
       "Method:                 Least Squares   F-statistic:                     2.767\n",
       "Date:                Fri, 17 Dec 2021   Prob (F-statistic):             0.0978\n",
       "Time:                        19:51:56   Log-Likelihood:                -1804.5\n",
       "No. Observations:                 209   AIC:                             3613.\n",
       "Df Residuals:                     207   BIC:                             3620.\n",
       "Df Model:                           1                                         \n",
       "Covariance Type:            nonrobust                                         \n",
       "==============================================================================\n",
       "                 coef    std err          t      P>|t|      [0.025      0.975]\n",
       "------------------------------------------------------------------------------\n",
       "Intercept    963.1913    213.240      4.517      0.000     542.790    1383.592\n",
       "roe           18.5012     11.123      1.663      0.098      -3.428      40.431\n",
       "==============================================================================\n",
       "Omnibus:                      311.096   Durbin-Watson:                   2.105\n",
       "Prob(Omnibus):                  0.000   Jarque-Bera (JB):            31120.902\n",
       "Skew:                           6.915   Prob(JB):                         0.00\n",
       "Kurtosis:                      61.158   Cond. No.                         43.3\n",
       "==============================================================================\n",
       "\n",
       "Notes:\n",
       "[1] Standard Errors assume that the covariance matrix of the errors is correctly specified.\n",
       "\"\"\""
      ]
     },
     "execution_count": 230,
     "metadata": {},
     "output_type": "execute_result"
    }
   ],
   "source": [
    "mco1=smf.ols('salary ~ roe', data=datos).fit()\n",
    "mco1.summary()"
   ]
  },
  {
   "cell_type": "markdown",
   "metadata": {},
   "source": [
    "Como el modelo solo tiene dos variables (\"salary\" y \"roe\") podemos dibujar los datos y la recta de regresión ajustada:"
   ]
  },
  {
   "cell_type": "code",
   "execution_count": 231,
   "metadata": {},
   "outputs": [
    {
     "data": {
      "image/png": "[encoded data removed]",
      "text/plain": [
       "<Figure size 432x288 with 1 Axes>"
      ]
     },
     "metadata": {
      "needs_background": "light"
     },
     "output_type": "display_data"
    }
   ],
   "source": [
    "beta=mco1.params #devuelve los elementos de la lista, operator []\n",
    "plt.plot(datos['roe'], y, 'o')#pinta la nube de puntos, la x sobre la y\n",
    "xmin=np.min(datos['roe'])\n",
    "xmax=np.max(datos['roe'])\n",
    "plt.plot([xmin,xmax], [beta[0]+beta[1]*xmin,beta[0]+beta[1]*xmax])\n",
    "plt.show()"
   ]
  },
  {
   "cell_type": "markdown",
   "metadata": {},
   "source": [
    "El modelo obtenido permite realizar algunas gráficas más que nos permitirán validar el modelo:"
   ]
  },
  {
   "cell_type": "code",
   "execution_count": 232,
   "metadata": {},
   "outputs": [
    {
     "data": {
      "image/png": "[encoded data removed]",
      "text/plain": [
       "<Figure size 432x288 with 4 Axes>"
      ]
     },
     "execution_count": 232,
     "metadata": {},
     "output_type": "execute_result"
    },
    {
     "data": {
      "image/png": "[encoded data removed]",
      "text/plain": [
       "<Figure size 432x288 with 4 Axes>"
      ]
     },
     "metadata": {
      "needs_background": "light"
     },
     "output_type": "display_data"
    }
   ],
   "source": [
    "sm.graphics.plot_regress_exog(mco1, 'roe')"
   ]
  },
  {
   "cell_type": "markdown",
   "metadata": {},
   "source": [
    "Del modelo se pueden extraer otras medidas como:\n",
    "\n",
    "* Valores predichos $\\hat y$\n",
    "* Residuos\n",
    "\n"
   ]
  },
  {
   "cell_type": "code",
   "execution_count": 233,
   "metadata": {},
   "outputs": [
    {
     "name": "stdout",
     "output_type": "stream",
     "text": [
      "0     -129.058071\n",
      "1     -163.854261\n",
      "2     -275.969216\n",
      "3     -494.348338\n",
      "4      149.492288\n",
      "          ...    \n",
      "204   -199.702014\n",
      "205   -724.959725\n",
      "206   -529.055698\n",
      "207   -661.657586\n",
      "208   -603.608413\n",
      "Length: 209, dtype: float64\n"
     ]
    },
    {
     "data": {
      "text/plain": [
       "-4.85208895921921e-13"
      ]
     },
     "execution_count": 233,
     "metadata": {},
     "output_type": "execute_result"
    }
   ],
   "source": [
    "yhat=mco1.fittedvalues\n",
    "e=mco1.resid\n",
    "print(e)\n",
    "np.mean(e)"
   ]
  },
  {
   "cell_type": "markdown",
   "metadata": {},
   "source": [
    "* ANOVA"
   ]
  },
  {
   "cell_type": "code",
   "execution_count": 234,
   "metadata": {},
   "outputs": [
    {
     "name": "stdout",
     "output_type": "stream",
     "text": [
      "             df        sum_sq       mean_sq         F    PR(>F)\n",
      "roe         1.0  5.166419e+06  5.166419e+06  2.766532  0.097768\n",
      "Residual  207.0  3.865666e+08  1.867471e+06       NaN       NaN\n"
     ]
    }
   ],
   "source": [
    "table = sm.stats.anova_lm(mco1, typ=1)\n",
    "print(table)"
   ]
  },
  {
   "cell_type": "markdown",
   "metadata": {},
   "source": [
    "* Suma de Cuadrados Totales (SCT)"
   ]
  },
  {
   "cell_type": "code",
   "execution_count": 235,
   "metadata": {},
   "outputs": [
    {
     "data": {
      "text/plain": [
       "391732982.00956935"
      ]
     },
     "execution_count": 235,
     "metadata": {},
     "output_type": "execute_result"
    }
   ],
   "source": [
    "mco1.centered_tss\n",
    "sum((y-np.mean(y))**2)"
   ]
  },
  {
   "cell_type": "markdown",
   "metadata": {},
   "source": [
    "* Suma de Cuadrados Explicada (SCE)"
   ]
  },
  {
   "cell_type": "code",
   "execution_count": 236,
   "metadata": {},
   "outputs": [
    {
     "data": {
      "text/plain": [
       "5166419.039866707"
      ]
     },
     "execution_count": 236,
     "metadata": {},
     "output_type": "execute_result"
    }
   ],
   "source": [
    "mco1.ess\n",
    "sum((mco1.fittedvalues-np.mean(y))**2)"
   ]
  },
  {
   "cell_type": "markdown",
   "metadata": {},
   "source": [
    "* Suma de Cuadrados de los residuos (SCR)"
   ]
  },
  {
   "cell_type": "code",
   "execution_count": 237,
   "metadata": {},
   "outputs": [
    {
     "data": {
      "text/plain": [
       "386566562.9697027"
      ]
     },
     "execution_count": 237,
     "metadata": {},
     "output_type": "execute_result"
    }
   ],
   "source": [
    "mco1.ssr\n",
    "sum(e**2)"
   ]
  },
  {
   "cell_type": "markdown",
   "metadata": {},
   "source": [
    "* $R^2$ y $R^2$-ajustado"
   ]
  },
  {
   "cell_type": "code",
   "execution_count": 238,
   "metadata": {},
   "outputs": [
    {
     "data": {
      "text/plain": [
       "0.008421419366449578"
      ]
     },
     "execution_count": 238,
     "metadata": {},
     "output_type": "execute_result"
    }
   ],
   "source": [
    "mco1.rsquared\n",
    "mco1.rsquared_adj\n"
   ]
  },
  {
   "cell_type": "markdown",
   "metadata": {},
   "source": [
    "* Valor $F_{exp}$ y de $F_{teo}$"
   ]
  },
  {
   "cell_type": "code",
   "execution_count": 239,
   "metadata": {},
   "outputs": [
    {
     "name": "stdout",
     "output_type": "stream",
     "text": [
      "0.05 2.7665319344658634 3.8867743652252242\n",
      "0.1 2.7665319344658634 2.7299237376681003\n"
     ]
    }
   ],
   "source": [
    "Fexp=mco1.fvalue\n",
    "from scipy import stats\n",
    "alpha=0.05\n",
    "Fteo= stats.f.ppf(1-alpha, mco1.df_model, mco1.df_resid)\n",
    "print(alpha, Fexp, Fteo)\n",
    "alpha=0.10\n",
    "Fteo= stats.f.ppf(1-alpha, mco1.df_model, mco1.df_resid)\n",
    "print(alpha, Fexp, Fteo)"
   ]
  },
  {
   "cell_type": "markdown",
   "metadata": {},
   "source": [
    "* Valores $t_{exp}$ y $t_{teo}$"
   ]
  },
  {
   "cell_type": "code",
   "execution_count": 240,
   "metadata": {},
   "outputs": [
    {
     "name": "stdout",
     "output_type": "stream",
     "text": [
      "texp:  Intercept    4.516930\n",
      "roe          1.663289\n",
      "dtype: float64\n",
      "0.05\n",
      "1.9714903918653968\n",
      "0.1\n",
      "1.6522480859926563\n"
     ]
    }
   ],
   "source": [
    "texp=mco1.tvalues\n",
    "print(\"texp: \", texp)\n",
    "alpha=0.05\n",
    "tteo= stats.t.ppf(1-(alpha/2),mco1.df_resid)\n",
    "print(alpha)\n",
    "print(tteo)\n",
    "alpha=0.10\n",
    "tteo= stats.t.ppf(1-(alpha/2),mco1.df_resid)\n",
    "print(alpha)\n",
    "print(tteo)"
   ]
  },
  {
   "cell_type": "markdown",
   "metadata": {},
   "source": [
    "* Intervalos de confianza de Estimadores"
   ]
  },
  {
   "cell_type": "code",
   "execution_count": 241,
   "metadata": {},
   "outputs": [
    {
     "data": {
      "text/html": [
       "<div>\n",
       "<style scoped>\n",
       "    .dataframe tbody tr th:only-of-type {\n",
       "        vertical-align: middle;\n",
       "    }\n",
       "\n",
       "    .dataframe tbody tr th {\n",
       "        vertical-align: top;\n",
       "    }\n",
       "\n",
       "    .dataframe thead th {\n",
       "        text-align: right;\n",
       "    }\n",
       "</style>\n",
       "<table border=\"1\" class=\"dataframe\">\n",
       "  <thead>\n",
       "    <tr style=\"text-align: right;\">\n",
       "      <th></th>\n",
       "      <th>0</th>\n",
       "      <th>1</th>\n",
       "    </tr>\n",
       "  </thead>\n",
       "  <tbody>\n",
       "    <tr>\n",
       "      <th>Intercept</th>\n",
       "      <td>542.790219</td>\n",
       "      <td>1383.592454</td>\n",
       "    </tr>\n",
       "    <tr>\n",
       "      <th>roe</th>\n",
       "      <td>-3.428196</td>\n",
       "      <td>40.430569</td>\n",
       "    </tr>\n",
       "  </tbody>\n",
       "</table>\n",
       "</div>"
      ],
      "text/plain": [
       "                    0            1\n",
       "Intercept  542.790219  1383.592454\n",
       "roe         -3.428196    40.430569"
      ]
     },
     "execution_count": 241,
     "metadata": {},
     "output_type": "execute_result"
    }
   ],
   "source": [
    "mco1.conf_int()"
   ]
  },
  {
   "cell_type": "markdown",
   "metadata": {},
   "source": [
    "* Estimación de la varianza de la pertrubación:"
   ]
  },
  {
   "cell_type": "code",
   "execution_count": 242,
   "metadata": {},
   "outputs": [],
   "source": [
    "beta=np.array(mco1.params)\n",
    "\n",
    "sum(e**2)/(mco1.nobs-1)\n",
    "sigmagorro=(np.dot(y.values, y.values)-np.dot(beta.T, np.dot(X.values.T,y.values)))/(mco1.nobs-1)"
   ]
  },
  {
   "cell_type": "markdown",
   "metadata": {},
   "source": [
    "* Predicciones:"
   ]
  },
  {
   "cell_type": "code",
   "execution_count": 243,
   "metadata": {},
   "outputs": [],
   "source": [
    "from statsmodels.sandbox.regression.predstd import wls_prediction_std\n",
    "epred, lb, ub = wls_prediction_std(mco1, weights=1)"
   ]
  },
  {
   "cell_type": "code",
   "execution_count": 244,
   "metadata": {},
   "outputs": [
    {
     "data": {
      "text/plain": [
       "0    1055.697268\n",
       "dtype: float64"
      ]
     },
     "execution_count": 244,
     "metadata": {},
     "output_type": "execute_result"
    }
   ],
   "source": [
    "x0=5\n",
    "beta[0]+beta[1]*x0\n",
    "X0=sm.add_constant(x0)\n",
    "mco1.predict(exog=dict(roe=x0))"
   ]
  },
  {
   "cell_type": "markdown",
   "metadata": {},
   "source": [
    "## Cuestiones"
   ]
  },
  {
   "cell_type": "markdown",
   "metadata": {},
   "source": [
    "1. Analizar el salario en función de los años de educación utilizando la base de datos **wage1**. Interpretar los coeficientes obtenidos. Dibuja ajustes y residuos.\n",
    "3. Ajustar el modelo lineal del porcentaje de votos obtenido por el candidato A en base al porcentaje de gastos de campa\\~na para tal candidato con la base de datos **vote1**. Comprobar que la media de los residuos es 0 y cómo se relaciona la media de $y$ con respecto a la media de $\\hat{y}$.\n",
    "4. Ajustar el modelo no lineal $\\log(wage) = \\beta _0 + \\beta_1 {\\rm educ} + u$ con la base de datos {\\bf wage1} e interpretar los resultados obtenidos.\n",
    "5. Usar la base de datos {\\bf 401K} para estudiar la relación entre el porcentage de trabajadores activos que est\\'an inscritos en el plan de pensiones (prate) y la tase de contribución al plan (mrate)- cantidad promedio con que la empresa contribuye al plan de cada trabajador  por cada dolar que aporta el trabajador. Seg\\'un este modelo, ¿qué prate se predice para mrate=3.5? ? Cu\\'anta variación de prate se explica por mrate?\n",
    "6. Usando la base de datos **charity**:\n",
    " * ¿Cuál es el donativo (gift) promedio de esta muestra? ¿Qu\\'e porcentage no dio donativo?\n",
    " * ¿Cuál es el promedio de envíos por año (mailsyear)?\n",
    " * Estimar ${\\rm gift} = \\beta_0 + \\beta_1 {\\rm mailsyear} + u$.\n",
    " * Si cada envío cuesta un florín, espera la beneficiencia obtener una ganancia neta por cada env\\'io?\n",
    " * ¿Cu\\'al es el menor donativo? Con el modelo de regresi'on, se puede predecir que gift=0?\n",
    "7. Realiza el siguiente experimento:\n",
    " * Generar $500$ observaciones uniformes $[0,10]$. Calcular para esta muestra la media y la desviación t\\'ipica: $x$\n",
    " * Generar $500$ errores seg\\'un una normal $N(0,36)$: $e$. ? Es el promedio de la muestra 0? ¿Cu\\'al es su desviación t\\'ipica?\n",
    " * Ahora generar $y_i = 1 + 2x_i + e_i$ para $i=1, \\ldots, 500$.\n",
    " * Estimar el modelo $y = \\beta_0 + \\beta_1 x + u$. Comparar el modelo real con el modelo ajustado.\n",
    " * Obtener $\\hat{u}$ y probar si $\\sum_{i=1}^{500} \\hat{u}_i =0$ y que $\\sum_{i=1}^{500} x_i \\hat{u}_i =0$. ¿Ocurre lo mismo con $u$?\n",
    " * Generar de nuevo el modelo y comparar los resultados obtenidos. ¿Son iguales?"
   ]
  },
  {
   "cell_type": "markdown",
   "metadata": {},
   "source": [
    "### 1. Analizar el salario en función de los años de educación utilizando la base de datos **wage1**. Interpretar los coeficientes obtenidos. Dibuja ajustes y residuos.\n"
   ]
  },
  {
   "cell_type": "code",
   "execution_count": 245,
   "metadata": {},
   "outputs": [
    {
     "data": {
      "text/html": [
       "<table class=\"simpletable\">\n",
       "<caption>OLS Regression Results</caption>\n",
       "<tr>\n",
       "  <th>Dep. Variable:</th>          <td>wage</td>       <th>  R-squared:         </th> <td>   0.165</td>\n",
       "</tr>\n",
       "<tr>\n",
       "  <th>Model:</th>                   <td>OLS</td>       <th>  Adj. R-squared:    </th> <td>   0.163</td>\n",
       "</tr>\n",
       "<tr>\n",
       "  <th>Method:</th>             <td>Least Squares</td>  <th>  F-statistic:       </th> <td>   103.4</td>\n",
       "</tr>\n",
       "<tr>\n",
       "  <th>Date:</th>             <td>Fri, 17 Dec 2021</td> <th>  Prob (F-statistic):</th> <td>2.78e-22</td>\n",
       "</tr>\n",
       "<tr>\n",
       "  <th>Time:</th>                 <td>19:51:58</td>     <th>  Log-Likelihood:    </th> <td> -1385.7</td>\n",
       "</tr>\n",
       "<tr>\n",
       "  <th>No. Observations:</th>      <td>   526</td>      <th>  AIC:               </th> <td>   2775.</td>\n",
       "</tr>\n",
       "<tr>\n",
       "  <th>Df Residuals:</th>          <td>   524</td>      <th>  BIC:               </th> <td>   2784.</td>\n",
       "</tr>\n",
       "<tr>\n",
       "  <th>Df Model:</th>              <td>     1</td>      <th>                     </th>     <td> </td>   \n",
       "</tr>\n",
       "<tr>\n",
       "  <th>Covariance Type:</th>      <td>nonrobust</td>    <th>                     </th>     <td> </td>   \n",
       "</tr>\n",
       "</table>\n",
       "<table class=\"simpletable\">\n",
       "<tr>\n",
       "    <td></td>       <th>coef</th>     <th>std err</th>      <th>t</th>      <th>P>|t|</th>  <th>[0.025</th>    <th>0.975]</th>  \n",
       "</tr>\n",
       "<tr>\n",
       "  <th>const</th> <td>   -0.9049</td> <td>    0.685</td> <td>   -1.321</td> <td> 0.187</td> <td>   -2.250</td> <td>    0.441</td>\n",
       "</tr>\n",
       "<tr>\n",
       "  <th>educ</th>  <td>    0.5414</td> <td>    0.053</td> <td>   10.167</td> <td> 0.000</td> <td>    0.437</td> <td>    0.646</td>\n",
       "</tr>\n",
       "</table>\n",
       "<table class=\"simpletable\">\n",
       "<tr>\n",
       "  <th>Omnibus:</th>       <td>212.554</td> <th>  Durbin-Watson:     </th> <td>   1.824</td> \n",
       "</tr>\n",
       "<tr>\n",
       "  <th>Prob(Omnibus):</th> <td> 0.000</td>  <th>  Jarque-Bera (JB):  </th> <td> 807.843</td> \n",
       "</tr>\n",
       "<tr>\n",
       "  <th>Skew:</th>          <td> 1.861</td>  <th>  Prob(JB):          </th> <td>3.79e-176</td>\n",
       "</tr>\n",
       "<tr>\n",
       "  <th>Kurtosis:</th>      <td> 7.797</td>  <th>  Cond. No.          </th> <td>    60.2</td> \n",
       "</tr>\n",
       "</table><br/><br/>Notes:<br/>[1] Standard Errors assume that the covariance matrix of the errors is correctly specified."
      ],
      "text/plain": [
       "<class 'statsmodels.iolib.summary.Summary'>\n",
       "\"\"\"\n",
       "                            OLS Regression Results                            \n",
       "==============================================================================\n",
       "Dep. Variable:                   wage   R-squared:                       0.165\n",
       "Model:                            OLS   Adj. R-squared:                  0.163\n",
       "Method:                 Least Squares   F-statistic:                     103.4\n",
       "Date:                Fri, 17 Dec 2021   Prob (F-statistic):           2.78e-22\n",
       "Time:                        19:51:58   Log-Likelihood:                -1385.7\n",
       "No. Observations:                 526   AIC:                             2775.\n",
       "Df Residuals:                     524   BIC:                             2784.\n",
       "Df Model:                           1                                         \n",
       "Covariance Type:            nonrobust                                         \n",
       "==============================================================================\n",
       "                 coef    std err          t      P>|t|      [0.025      0.975]\n",
       "------------------------------------------------------------------------------\n",
       "const         -0.9049      0.685     -1.321      0.187      -2.250       0.441\n",
       "educ           0.5414      0.053     10.167      0.000       0.437       0.646\n",
       "==============================================================================\n",
       "Omnibus:                      212.554   Durbin-Watson:                   1.824\n",
       "Prob(Omnibus):                  0.000   Jarque-Bera (JB):              807.843\n",
       "Skew:                           1.861   Prob(JB):                    3.79e-176\n",
       "Kurtosis:                       7.797   Cond. No.                         60.2\n",
       "==============================================================================\n",
       "\n",
       "Notes:\n",
       "[1] Standard Errors assume that the covariance matrix of the errors is correctly specified.\n",
       "\"\"\""
      ]
     },
     "execution_count": 245,
     "metadata": {},
     "output_type": "execute_result"
    }
   ],
   "source": [
    "datos=dataWoo('wage1', description=False)\n",
    "Y = datos[\"wage\"]\n",
    "X = sm.add_constant(datos[\"educ\"])\n",
    "\n",
    "mco1 = sm.OLS(Y, X).fit()\n",
    "mco1.summary()\n"
   ]
  },
  {
   "cell_type": "markdown",
   "metadata": {},
   "source": [
    "#### Interpretacion de los coeficientes obtenidos:\n",
    "\n",
    "Const --> Por cada incremento de su valor implica restarle 0,9 al wage\n",
    "\n",
    "Educ --> Por cada incremento de su valor incrementa 0,54 el valor de wage"
   ]
  },
  {
   "cell_type": "code",
   "execution_count": 246,
   "metadata": {},
   "outputs": [
    {
     "data": {
      "image/png": "[encoded data removed]",
      "text/plain": [
       "<Figure size 432x288 with 1 Axes>"
      ]
     },
     "metadata": {
      "needs_background": "light"
     },
     "output_type": "display_data"
    }
   ],
   "source": [
    "beta=mco1.params\n",
    "\n",
    "plt.plot(datos['educ'], Y, 'o') # Me muestra todos los puntos\n",
    "\n",
    "xmin=np.min(datos['educ'])\n",
    "xmax=np.max(datos['educ'])\n",
    "\n",
    "# Me muestra la recta\n",
    "plt.plot([xmin,xmax], [beta[0]+beta[1]*xmin,beta[0]+beta[1]*xmax]) # Primer parametro las X respectivas, y segundo parametro las Y\n",
    "plt.show()"
   ]
  },
  {
   "cell_type": "code",
   "execution_count": 247,
   "metadata": {},
   "outputs": [
    {
     "name": "stdout",
     "output_type": "stream",
     "text": [
      "Media de los residuos:  -6.821750599978148e-16\n"
     ]
    },
    {
     "data": {
      "image/png": "[encoded data removed]",
      "text/plain": [
       "<Figure size 432x288 with 1 Axes>"
      ]
     },
     "metadata": {
      "needs_background": "light"
     },
     "output_type": "display_data"
    }
   ],
   "source": [
    "# Grafica de los residuos\n",
    "e=mco1.resid\n",
    "plt.plot(e, 'o')\n",
    "print(\"Media de los residuos: \" , np.mean(e))"
   ]
  },
  {
   "cell_type": "markdown",
   "metadata": {},
   "source": [
    "### 2. Ajustar el modelo lineal del porcentaje de votos obtenido por el candidato A en base al porcentaje de gastos de campana para tal candidato con la base de datos **vote1**. Comprobar que la media de los residuos es 0 y cómo se relaciona la media de $y$ con respecto a la media de $\\hat{y}$."
   ]
  },
  {
   "cell_type": "code",
   "execution_count": 248,
   "metadata": {},
   "outputs": [
    {
     "data": {
      "text/html": [
       "<table class=\"simpletable\">\n",
       "<caption>OLS Regression Results</caption>\n",
       "<tr>\n",
       "  <th>Dep. Variable:</th>          <td>voteA</td>      <th>  R-squared:         </th> <td>   0.156</td>\n",
       "</tr>\n",
       "<tr>\n",
       "  <th>Model:</th>                   <td>OLS</td>       <th>  Adj. R-squared:    </th> <td>   0.151</td>\n",
       "</tr>\n",
       "<tr>\n",
       "  <th>Method:</th>             <td>Least Squares</td>  <th>  F-statistic:       </th> <td>   31.64</td>\n",
       "</tr>\n",
       "<tr>\n",
       "  <th>Date:</th>             <td>Fri, 17 Dec 2021</td> <th>  Prob (F-statistic):</th> <td>7.44e-08</td>\n",
       "</tr>\n",
       "<tr>\n",
       "  <th>Time:</th>                 <td>19:51:58</td>     <th>  Log-Likelihood:    </th> <td> -718.23</td>\n",
       "</tr>\n",
       "<tr>\n",
       "  <th>No. Observations:</th>      <td>   173</td>      <th>  AIC:               </th> <td>   1440.</td>\n",
       "</tr>\n",
       "<tr>\n",
       "  <th>Df Residuals:</th>          <td>   171</td>      <th>  BIC:               </th> <td>   1447.</td>\n",
       "</tr>\n",
       "<tr>\n",
       "  <th>Df Model:</th>              <td>     1</td>      <th>                     </th>     <td> </td>   \n",
       "</tr>\n",
       "<tr>\n",
       "  <th>Covariance Type:</th>      <td>nonrobust</td>    <th>                     </th>     <td> </td>   \n",
       "</tr>\n",
       "</table>\n",
       "<table class=\"simpletable\">\n",
       "<tr>\n",
       "     <td></td>        <th>coef</th>     <th>std err</th>      <th>t</th>      <th>P>|t|</th>  <th>[0.025</th>    <th>0.975]</th>  \n",
       "</tr>\n",
       "<tr>\n",
       "  <th>const</th>   <td>   43.1712</td> <td>    1.755</td> <td>   24.594</td> <td> 0.000</td> <td>   39.706</td> <td>   46.636</td>\n",
       "</tr>\n",
       "<tr>\n",
       "  <th>expendA</th> <td>    0.0236</td> <td>    0.004</td> <td>    5.625</td> <td> 0.000</td> <td>    0.015</td> <td>    0.032</td>\n",
       "</tr>\n",
       "</table>\n",
       "<table class=\"simpletable\">\n",
       "<tr>\n",
       "  <th>Omnibus:</th>       <td>57.642</td> <th>  Durbin-Watson:     </th> <td>   0.777</td>\n",
       "</tr>\n",
       "<tr>\n",
       "  <th>Prob(Omnibus):</th> <td> 0.000</td> <th>  Jarque-Bera (JB):  </th> <td>  12.030</td>\n",
       "</tr>\n",
       "<tr>\n",
       "  <th>Skew:</th>          <td> 0.304</td> <th>  Prob(JB):          </th> <td> 0.00244</td>\n",
       "</tr>\n",
       "<tr>\n",
       "  <th>Kurtosis:</th>      <td> 1.860</td> <th>  Cond. No.          </th> <td>    625.</td>\n",
       "</tr>\n",
       "</table><br/><br/>Notes:<br/>[1] Standard Errors assume that the covariance matrix of the errors is correctly specified."
      ],
      "text/plain": [
       "<class 'statsmodels.iolib.summary.Summary'>\n",
       "\"\"\"\n",
       "                            OLS Regression Results                            \n",
       "==============================================================================\n",
       "Dep. Variable:                  voteA   R-squared:                       0.156\n",
       "Model:                            OLS   Adj. R-squared:                  0.151\n",
       "Method:                 Least Squares   F-statistic:                     31.64\n",
       "Date:                Fri, 17 Dec 2021   Prob (F-statistic):           7.44e-08\n",
       "Time:                        19:51:58   Log-Likelihood:                -718.23\n",
       "No. Observations:                 173   AIC:                             1440.\n",
       "Df Residuals:                     171   BIC:                             1447.\n",
       "Df Model:                           1                                         \n",
       "Covariance Type:            nonrobust                                         \n",
       "==============================================================================\n",
       "                 coef    std err          t      P>|t|      [0.025      0.975]\n",
       "------------------------------------------------------------------------------\n",
       "const         43.1712      1.755     24.594      0.000      39.706      46.636\n",
       "expendA        0.0236      0.004      5.625      0.000       0.015       0.032\n",
       "==============================================================================\n",
       "Omnibus:                       57.642   Durbin-Watson:                   0.777\n",
       "Prob(Omnibus):                  0.000   Jarque-Bera (JB):               12.030\n",
       "Skew:                           0.304   Prob(JB):                      0.00244\n",
       "Kurtosis:                       1.860   Cond. No.                         625.\n",
       "==============================================================================\n",
       "\n",
       "Notes:\n",
       "[1] Standard Errors assume that the covariance matrix of the errors is correctly specified.\n",
       "\"\"\""
      ]
     },
     "execution_count": 248,
     "metadata": {},
     "output_type": "execute_result"
    }
   ],
   "source": [
    "datos=dataWoo('vote1', description=False)\n",
    "Y = datos[\"voteA\"]\n",
    "X = sm.add_constant(datos[\"lexpendA\"])\n",
    "\n",
    "mco2 = sm.OLS(Y, X).fit()\n",
    "mco2.summary()"
   ]
  },
  {
   "cell_type": "code",
   "execution_count": 249,
   "metadata": {},
   "outputs": [
    {
     "name": "stdout",
     "output_type": "stream",
     "text": [
      "Media de los residuos:  -1.2321550331100002e-16\n",
      "Como el valor es muy cercano a 0, es correcto\n"
     ]
    }
   ],
   "source": [
    "e=mco2.resid\n",
    "print(\"Media de los residuos: \" , np.mean(e))\n",
    "print(\"Como el valor es muy cercano a 0, es correcto\")"
   ]
  },
  {
   "cell_type": "code",
   "execution_count": 250,
   "metadata": {},
   "outputs": [
    {
     "name": "stdout",
     "output_type": "stream",
     "text": [
      "La y es:  50.50289017341041\n",
      "La y-gorrito es:  50.502890173410385\n",
      "Las medias son identicas porque los modelos deben tener que la diferencia entre los residuos debe ser 0\n"
     ]
    }
   ],
   "source": [
    "print (\"La y es: \", np.mean(Y))\n",
    "\n",
    "y_hat = Y - mco2.resid # Otra forma de sacar y_hat = mco2.predict(X)\n",
    "print (\"La y-gorrito es: \", np.mean(y_hat))\n",
    "print(\"Las medias son identicas porque los modelos deben tener que la diferencia entre los residuos debe ser 0\")"
   ]
  },
  {
   "cell_type": "markdown",
   "metadata": {},
   "source": [
    "### 3. Ajustar el modelo no lineal $\\log(wage) = \\beta _0 + \\beta_1 {\\rm educ} + u$ con la base de datos {\\bf wage1} e interpretar los resultados obtenidos."
   ]
  },
  {
   "cell_type": "code",
   "execution_count": 251,
   "metadata": {},
   "outputs": [
    {
     "data": {
      "text/html": [
       "<table class=\"simpletable\">\n",
       "<caption>OLS Regression Results</caption>\n",
       "<tr>\n",
       "  <th>Dep. Variable:</th>          <td>lwage</td>      <th>  R-squared:         </th> <td>   0.186</td>\n",
       "</tr>\n",
       "<tr>\n",
       "  <th>Model:</th>                   <td>OLS</td>       <th>  Adj. R-squared:    </th> <td>   0.184</td>\n",
       "</tr>\n",
       "<tr>\n",
       "  <th>Method:</th>             <td>Least Squares</td>  <th>  F-statistic:       </th> <td>   119.6</td>\n",
       "</tr>\n",
       "<tr>\n",
       "  <th>Date:</th>             <td>Fri, 17 Dec 2021</td> <th>  Prob (F-statistic):</th> <td>3.27e-25</td>\n",
       "</tr>\n",
       "<tr>\n",
       "  <th>Time:</th>                 <td>19:51:59</td>     <th>  Log-Likelihood:    </th> <td> -359.38</td>\n",
       "</tr>\n",
       "<tr>\n",
       "  <th>No. Observations:</th>      <td>   526</td>      <th>  AIC:               </th> <td>   722.8</td>\n",
       "</tr>\n",
       "<tr>\n",
       "  <th>Df Residuals:</th>          <td>   524</td>      <th>  BIC:               </th> <td>   731.3</td>\n",
       "</tr>\n",
       "<tr>\n",
       "  <th>Df Model:</th>              <td>     1</td>      <th>                     </th>     <td> </td>   \n",
       "</tr>\n",
       "<tr>\n",
       "  <th>Covariance Type:</th>      <td>nonrobust</td>    <th>                     </th>     <td> </td>   \n",
       "</tr>\n",
       "</table>\n",
       "<table class=\"simpletable\">\n",
       "<tr>\n",
       "    <td></td>       <th>coef</th>     <th>std err</th>      <th>t</th>      <th>P>|t|</th>  <th>[0.025</th>    <th>0.975]</th>  \n",
       "</tr>\n",
       "<tr>\n",
       "  <th>const</th> <td>    0.5838</td> <td>    0.097</td> <td>    5.998</td> <td> 0.000</td> <td>    0.393</td> <td>    0.775</td>\n",
       "</tr>\n",
       "<tr>\n",
       "  <th>educ</th>  <td>    0.0827</td> <td>    0.008</td> <td>   10.935</td> <td> 0.000</td> <td>    0.068</td> <td>    0.098</td>\n",
       "</tr>\n",
       "</table>\n",
       "<table class=\"simpletable\">\n",
       "<tr>\n",
       "  <th>Omnibus:</th>       <td>11.804</td> <th>  Durbin-Watson:     </th> <td>   1.801</td>\n",
       "</tr>\n",
       "<tr>\n",
       "  <th>Prob(Omnibus):</th> <td> 0.003</td> <th>  Jarque-Bera (JB):  </th> <td>  13.811</td>\n",
       "</tr>\n",
       "<tr>\n",
       "  <th>Skew:</th>          <td> 0.268</td> <th>  Prob(JB):          </th> <td> 0.00100</td>\n",
       "</tr>\n",
       "<tr>\n",
       "  <th>Kurtosis:</th>      <td> 3.586</td> <th>  Cond. No.          </th> <td>    60.2</td>\n",
       "</tr>\n",
       "</table><br/><br/>Notes:<br/>[1] Standard Errors assume that the covariance matrix of the errors is correctly specified."
      ],
      "text/plain": [
       "<class 'statsmodels.iolib.summary.Summary'>\n",
       "\"\"\"\n",
       "                            OLS Regression Results                            \n",
       "==============================================================================\n",
       "Dep. Variable:                  lwage   R-squared:                       0.186\n",
       "Model:                            OLS   Adj. R-squared:                  0.184\n",
       "Method:                 Least Squares   F-statistic:                     119.6\n",
       "Date:                Fri, 17 Dec 2021   Prob (F-statistic):           3.27e-25\n",
       "Time:                        19:51:59   Log-Likelihood:                -359.38\n",
       "No. Observations:                 526   AIC:                             722.8\n",
       "Df Residuals:                     524   BIC:                             731.3\n",
       "Df Model:                           1                                         \n",
       "Covariance Type:            nonrobust                                         \n",
       "==============================================================================\n",
       "                 coef    std err          t      P>|t|      [0.025      0.975]\n",
       "------------------------------------------------------------------------------\n",
       "const          0.5838      0.097      5.998      0.000       0.393       0.775\n",
       "educ           0.0827      0.008     10.935      0.000       0.068       0.098\n",
       "==============================================================================\n",
       "Omnibus:                       11.804   Durbin-Watson:                   1.801\n",
       "Prob(Omnibus):                  0.003   Jarque-Bera (JB):               13.811\n",
       "Skew:                           0.268   Prob(JB):                      0.00100\n",
       "Kurtosis:                       3.586   Cond. No.                         60.2\n",
       "==============================================================================\n",
       "\n",
       "Notes:\n",
       "[1] Standard Errors assume that the covariance matrix of the errors is correctly specified.\n",
       "\"\"\""
      ]
     },
     "execution_count": 251,
     "metadata": {},
     "output_type": "execute_result"
    }
   ],
   "source": [
    "datos=dataWoo('wage1', description=False)\n",
    "Y = datos[\"lwage\"]\n",
    "X = sm.add_constant(datos[\"educ\"])\n",
    "\n",
    "mco3 = sm.OLS(Y, X).fit()\n",
    "mco3.summary()\n"
   ]
  },
  {
   "cell_type": "code",
   "execution_count": 252,
   "metadata": {},
   "outputs": [
    {
     "name": "stdout",
     "output_type": "stream",
     "text": [
      "Ttest_1sampResult(statistic=-2.0704130420695304, pvalue=0.03890383061690286)\n",
      "Es no lineal\n"
     ]
    }
   ],
   "source": [
    "import statsmodels.stats.diagnostic as diagn\n",
    "import statsmodels.stats.api as sms\n",
    "from scipy import stats\n",
    "\n",
    "skip = len(mco3.params)  # bug in linear_harvey_collier\n",
    "rr = sms.recursive_olsresiduals(mco3, skip=skip, alpha=0.95, order_by=None)\n",
    "\n",
    "print(stats.ttest_1samp(rr[3][skip:], 0))\n",
    "print(\"Es no lineal\")"
   ]
  },
  {
   "cell_type": "markdown",
   "metadata": {},
   "source": [
    "### 4. Usar la base de datos {\\bf 401K} para estudiar la relación entre el porcentage de trabajadores activos que est\\'an inscritos en el plan de pensiones (prate) y la tase de contribución al plan (mrate)- cantidad promedio con que la empresa contribuye al plan de cada trabajador  por cada dolar que aporta el trabajador. Seg\\'un este modelo, ¿qué prate se predice para mrate=3.5? ? Cu\\'anta variación de prate se explica por mrate?"
   ]
  },
  {
   "cell_type": "code",
   "execution_count": 253,
   "metadata": {},
   "outputs": [
    {
     "data": {
      "text/html": [
       "<table class=\"simpletable\">\n",
       "<caption>OLS Regression Results</caption>\n",
       "<tr>\n",
       "  <th>Dep. Variable:</th>          <td>prate</td>      <th>  R-squared:         </th> <td>   0.075</td> \n",
       "</tr>\n",
       "<tr>\n",
       "  <th>Model:</th>                   <td>OLS</td>       <th>  Adj. R-squared:    </th> <td>   0.074</td> \n",
       "</tr>\n",
       "<tr>\n",
       "  <th>Method:</th>             <td>Least Squares</td>  <th>  F-statistic:       </th> <td>   123.7</td> \n",
       "</tr>\n",
       "<tr>\n",
       "  <th>Date:</th>             <td>Fri, 17 Dec 2021</td> <th>  Prob (F-statistic):</th> <td>1.10e-27</td> \n",
       "</tr>\n",
       "<tr>\n",
       "  <th>Time:</th>                 <td>19:51:59</td>     <th>  Log-Likelihood:    </th> <td> -6437.0</td> \n",
       "</tr>\n",
       "<tr>\n",
       "  <th>No. Observations:</th>      <td>  1534</td>      <th>  AIC:               </th> <td>1.288e+04</td>\n",
       "</tr>\n",
       "<tr>\n",
       "  <th>Df Residuals:</th>          <td>  1532</td>      <th>  BIC:               </th> <td>1.289e+04</td>\n",
       "</tr>\n",
       "<tr>\n",
       "  <th>Df Model:</th>              <td>     1</td>      <th>                     </th>     <td> </td>    \n",
       "</tr>\n",
       "<tr>\n",
       "  <th>Covariance Type:</th>      <td>nonrobust</td>    <th>                     </th>     <td> </td>    \n",
       "</tr>\n",
       "</table>\n",
       "<table class=\"simpletable\">\n",
       "<tr>\n",
       "    <td></td>       <th>coef</th>     <th>std err</th>      <th>t</th>      <th>P>|t|</th>  <th>[0.025</th>    <th>0.975]</th>  \n",
       "</tr>\n",
       "<tr>\n",
       "  <th>const</th> <td>   83.0755</td> <td>    0.563</td> <td>  147.484</td> <td> 0.000</td> <td>   81.971</td> <td>   84.180</td>\n",
       "</tr>\n",
       "<tr>\n",
       "  <th>mrate</th> <td>    5.8611</td> <td>    0.527</td> <td>   11.121</td> <td> 0.000</td> <td>    4.827</td> <td>    6.895</td>\n",
       "</tr>\n",
       "</table>\n",
       "<table class=\"simpletable\">\n",
       "<tr>\n",
       "  <th>Omnibus:</th>       <td>394.767</td> <th>  Durbin-Watson:     </th> <td>   1.908</td> \n",
       "</tr>\n",
       "<tr>\n",
       "  <th>Prob(Omnibus):</th> <td> 0.000</td>  <th>  Jarque-Bera (JB):  </th> <td> 870.172</td> \n",
       "</tr>\n",
       "<tr>\n",
       "  <th>Skew:</th>          <td>-1.444</td>  <th>  Prob(JB):          </th> <td>1.11e-189</td>\n",
       "</tr>\n",
       "<tr>\n",
       "  <th>Kurtosis:</th>      <td> 5.296</td>  <th>  Cond. No.          </th> <td>    2.32</td> \n",
       "</tr>\n",
       "</table><br/><br/>Notes:<br/>[1] Standard Errors assume that the covariance matrix of the errors is correctly specified."
      ],
      "text/plain": [
       "<class 'statsmodels.iolib.summary.Summary'>\n",
       "\"\"\"\n",
       "                            OLS Regression Results                            \n",
       "==============================================================================\n",
       "Dep. Variable:                  prate   R-squared:                       0.075\n",
       "Model:                            OLS   Adj. R-squared:                  0.074\n",
       "Method:                 Least Squares   F-statistic:                     123.7\n",
       "Date:                Fri, 17 Dec 2021   Prob (F-statistic):           1.10e-27\n",
       "Time:                        19:51:59   Log-Likelihood:                -6437.0\n",
       "No. Observations:                1534   AIC:                         1.288e+04\n",
       "Df Residuals:                    1532   BIC:                         1.289e+04\n",
       "Df Model:                           1                                         \n",
       "Covariance Type:            nonrobust                                         \n",
       "==============================================================================\n",
       "                 coef    std err          t      P>|t|      [0.025      0.975]\n",
       "------------------------------------------------------------------------------\n",
       "const         83.0755      0.563    147.484      0.000      81.971      84.180\n",
       "mrate          5.8611      0.527     11.121      0.000       4.827       6.895\n",
       "==============================================================================\n",
       "Omnibus:                      394.767   Durbin-Watson:                   1.908\n",
       "Prob(Omnibus):                  0.000   Jarque-Bera (JB):              870.172\n",
       "Skew:                          -1.444   Prob(JB):                    1.11e-189\n",
       "Kurtosis:                       5.296   Cond. No.                         2.32\n",
       "==============================================================================\n",
       "\n",
       "Notes:\n",
       "[1] Standard Errors assume that the covariance matrix of the errors is correctly specified.\n",
       "\"\"\""
      ]
     },
     "execution_count": 253,
     "metadata": {},
     "output_type": "execute_result"
    }
   ],
   "source": [
    "datos=dataWoo('401K', description=False)\n",
    "\n",
    "Y = datos[\"prate\"]\n",
    "X = sm.add_constant(datos[\"mrate\"])\n",
    "\n",
    "mco4 = sm.OLS(Y, X).fit()\n",
    "mco4.summary()\n"
   ]
  },
  {
   "cell_type": "code",
   "execution_count": 254,
   "metadata": {},
   "outputs": [
    {
     "name": "stdout",
     "output_type": "stream",
     "text": [
      "Prediccion para 3.5:  103.58923260345671\n"
     ]
    }
   ],
   "source": [
    "beta = mco4.params\n",
    "prediccion = beta[0] + beta[1]*3.5 # Otra forma mco4.predict([1, 3.5])\n",
    "\n",
    "print(\"Prediccion para 3.5: \", prediccion)"
   ]
  },
  {
   "cell_type": "code",
   "execution_count": 255,
   "metadata": {},
   "outputs": [],
   "source": [
    "# El mrate explica con un 7.5% el prate y cada variacion de mrate hace que varie en 5.8611 unidades el prate"
   ]
  },
  {
   "cell_type": "markdown",
   "metadata": {},
   "source": [
    "### 5. Usando la base de datos **charity**:\n",
    " * ¿Cuál es el donativo (gift) promedio de esta muestra? ¿Qu\\'e porcentage no dio donativo?\n",
    " * ¿Cuál es el promedio de envíos por año (mailsyear)?\n",
    " * Estimar ${\\rm gift} = \\beta_0 + \\beta_1 {\\rm mailsyear} + u$.\n",
    " * Si cada envío cuesta un florín, espera la beneficiencia obtener una ganancia neta por cada env\\'io?\n",
    " * ¿Cu\\'al es el menor donativo? Con el modelo de regresi'on, se puede predecir que gift=0?"
   ]
  },
  {
   "cell_type": "code",
   "execution_count": 256,
   "metadata": {},
   "outputs": [
    {
     "name": "stdout",
     "output_type": "stream",
     "text": [
      "Media de gift:  7.444470477975632\n",
      "La media de no donativos:  60.004686035613865 %\n",
      "La media de envios por año:  const        1.000000\n",
      "mailsyear    2.049555\n",
      "dtype: float64\n"
     ]
    }
   ],
   "source": [
    "datos=dataWoo('charity', description=False)\n",
    "\n",
    "gift = datos[\"gift\"]\n",
    "media_gift = np.mean(gift)\n",
    "\n",
    "print(\"Media de gift: \", media_gift)\n",
    "\n",
    "respond = datos[\"respond\"]\n",
    "media_respond = np.mean(respond)\n",
    "\n",
    "print(\"La media de no donativos: \", (1 - media_respond) * 100, \"%\")\n",
    "\n",
    "mailsyear = sm.add_constant(datos[\"mailsyear\"])\n",
    "mailsyear_media = np.mean(mailsyear)\n",
    "\n",
    "print(\"La media de envios por año: \", mailsyear_media)\n"
   ]
  },
  {
   "cell_type": "code",
   "execution_count": 257,
   "metadata": {},
   "outputs": [
    {
     "data": {
      "text/html": [
       "<table class=\"simpletable\">\n",
       "<caption>OLS Regression Results</caption>\n",
       "<tr>\n",
       "  <th>Dep. Variable:</th>          <td>gift</td>       <th>  R-squared:         </th> <td>   0.014</td> \n",
       "</tr>\n",
       "<tr>\n",
       "  <th>Model:</th>                   <td>OLS</td>       <th>  Adj. R-squared:    </th> <td>   0.014</td> \n",
       "</tr>\n",
       "<tr>\n",
       "  <th>Method:</th>             <td>Least Squares</td>  <th>  F-statistic:       </th> <td>   59.65</td> \n",
       "</tr>\n",
       "<tr>\n",
       "  <th>Date:</th>             <td>Fri, 17 Dec 2021</td> <th>  Prob (F-statistic):</th> <td>1.40e-14</td> \n",
       "</tr>\n",
       "<tr>\n",
       "  <th>Time:</th>                 <td>19:51:59</td>     <th>  Log-Likelihood:    </th> <td> -17602.</td> \n",
       "</tr>\n",
       "<tr>\n",
       "  <th>No. Observations:</th>      <td>  4268</td>      <th>  AIC:               </th> <td>3.521e+04</td>\n",
       "</tr>\n",
       "<tr>\n",
       "  <th>Df Residuals:</th>          <td>  4266</td>      <th>  BIC:               </th> <td>3.522e+04</td>\n",
       "</tr>\n",
       "<tr>\n",
       "  <th>Df Model:</th>              <td>     1</td>      <th>                     </th>     <td> </td>    \n",
       "</tr>\n",
       "<tr>\n",
       "  <th>Covariance Type:</th>      <td>nonrobust</td>    <th>                     </th>     <td> </td>    \n",
       "</tr>\n",
       "</table>\n",
       "<table class=\"simpletable\">\n",
       "<tr>\n",
       "      <td></td>         <th>coef</th>     <th>std err</th>      <th>t</th>      <th>P>|t|</th>  <th>[0.025</th>    <th>0.975]</th>  \n",
       "</tr>\n",
       "<tr>\n",
       "  <th>const</th>     <td>    2.0141</td> <td>    0.739</td> <td>    2.724</td> <td> 0.006</td> <td>    0.564</td> <td>    3.464</td>\n",
       "</tr>\n",
       "<tr>\n",
       "  <th>mailsyear</th> <td>    2.6495</td> <td>    0.343</td> <td>    7.723</td> <td> 0.000</td> <td>    1.977</td> <td>    3.322</td>\n",
       "</tr>\n",
       "</table>\n",
       "<table class=\"simpletable\">\n",
       "<tr>\n",
       "  <th>Omnibus:</th>       <td>4951.411</td> <th>  Durbin-Watson:     </th>  <td>   1.529</td> \n",
       "</tr>\n",
       "<tr>\n",
       "  <th>Prob(Omnibus):</th>  <td> 0.000</td>  <th>  Jarque-Bera (JB):  </th> <td>784986.187</td>\n",
       "</tr>\n",
       "<tr>\n",
       "  <th>Skew:</th>           <td> 5.889</td>  <th>  Prob(JB):          </th>  <td>    0.00</td> \n",
       "</tr>\n",
       "<tr>\n",
       "  <th>Kurtosis:</th>       <td>68.387</td>  <th>  Cond. No.          </th>  <td>    8.34</td> \n",
       "</tr>\n",
       "</table><br/><br/>Notes:<br/>[1] Standard Errors assume that the covariance matrix of the errors is correctly specified."
      ],
      "text/plain": [
       "<class 'statsmodels.iolib.summary.Summary'>\n",
       "\"\"\"\n",
       "                            OLS Regression Results                            \n",
       "==============================================================================\n",
       "Dep. Variable:                   gift   R-squared:                       0.014\n",
       "Model:                            OLS   Adj. R-squared:                  0.014\n",
       "Method:                 Least Squares   F-statistic:                     59.65\n",
       "Date:                Fri, 17 Dec 2021   Prob (F-statistic):           1.40e-14\n",
       "Time:                        19:51:59   Log-Likelihood:                -17602.\n",
       "No. Observations:                4268   AIC:                         3.521e+04\n",
       "Df Residuals:                    4266   BIC:                         3.522e+04\n",
       "Df Model:                           1                                         \n",
       "Covariance Type:            nonrobust                                         \n",
       "==============================================================================\n",
       "                 coef    std err          t      P>|t|      [0.025      0.975]\n",
       "------------------------------------------------------------------------------\n",
       "const          2.0141      0.739      2.724      0.006       0.564       3.464\n",
       "mailsyear      2.6495      0.343      7.723      0.000       1.977       3.322\n",
       "==============================================================================\n",
       "Omnibus:                     4951.411   Durbin-Watson:                   1.529\n",
       "Prob(Omnibus):                  0.000   Jarque-Bera (JB):           784986.187\n",
       "Skew:                           5.889   Prob(JB):                         0.00\n",
       "Kurtosis:                      68.387   Cond. No.                         8.34\n",
       "==============================================================================\n",
       "\n",
       "Notes:\n",
       "[1] Standard Errors assume that the covariance matrix of the errors is correctly specified.\n",
       "\"\"\""
      ]
     },
     "execution_count": 257,
     "metadata": {},
     "output_type": "execute_result"
    }
   ],
   "source": [
    "Y = datos[\"gift\"]\n",
    "X = sm.add_constant(datos[\"mailsyear\"])\n",
    "\n",
    "mco5 = sm.OLS(Y, X).fit()\n",
    "\n",
    "mco5.summary()\n"
   ]
  },
  {
   "cell_type": "code",
   "execution_count": 258,
   "metadata": {},
   "outputs": [
    {
     "name": "stdout",
     "output_type": "stream",
     "text": [
      "Media de gift:  7.444470477975632\n",
      "La media de envios por año:  2.0495548266166823\n",
      "Como el coeficiente de mailsyear es 2.64 por cada incremento de mailsyear, estas produciendo 2.64 gifts por lo que se produciendo un beneficio\n"
     ]
    }
   ],
   "source": [
    "print(\"Media de gift: \", media_gift)\n",
    "mailsyear = datos[\"mailsyear\"]\n",
    "print(\"La media de envios por año: \", np.mean(mailsyear))\n",
    "print(\"Como el coeficiente de mailsyear es 2.64 por cada incremento de mailsyear, estas produciendo 2.64 gifts por lo que se produciendo un beneficio\")"
   ]
  },
  {
   "cell_type": "code",
   "execution_count": 266,
   "metadata": {},
   "outputs": [
    {
     "name": "stdout",
     "output_type": "stream",
     "text": [
      "El donativo minimo es:  2\n",
      "Como tenemos un beta constante > 0, y como nuestro beta[1] es mailsyear, es positivo cuando hacemos las predicciones sobre gift siempre va a ser positivo\n"
     ]
    }
   ],
   "source": [
    "donativos = datos[datos[\"gift\"] > 0]\n",
    "\n",
    "min_donativo = np.min(donativos[\"gift\"])\n",
    "\n",
    "print(\"El donativo minimo es: \", min_donativo)\n",
    "print(\"Como tenemos un beta constante > 0, y como nuestro beta[1] es mailsyear, es positivo cuando hacemos las predicciones sobre gift siempre va a ser positivo\")"
   ]
  },
  {
   "cell_type": "markdown",
   "metadata": {},
   "source": [
    "### 6. Realiza el siguiente experimento:\n",
    " * Generar $500$ observaciones uniformes $[0,10]$. Calcular para esta muestra la media y la desviación t\\'ipica: $x$\n",
    " * Generar $500$ errores seg\\'un una normal $N(0,36)$: $e$. ? Es el promedio de la muestra 0? ¿Cu\\'al es su desviación t\\'ipica?\n",
    " * Ahora generar $y_i = 1 + 2x_i + e_i$ para $i=1, \\ldots, 500$.\n",
    " * Estimar el modelo $y = \\beta_0 + \\beta_1 x + u$. Comparar el modelo real con el modelo ajustado.\n",
    " * Obtener $\\hat{u}$ y probar si $\\sum_{i=1}^{500} \\hat{u}_i =0$ y que $\\sum_{i=1}^{500} x_i \\hat{u}_i =0$. ¿Ocurre lo mismo con $u$?\n",
    " * Generar de nuevo el modelo y comparar los resultados obtenidos. ¿Son iguales?"
   ]
  },
  {
   "cell_type": "code",
   "execution_count": 274,
   "metadata": {},
   "outputs": [
    {
     "name": "stdout",
     "output_type": "stream",
     "text": [
      "Observaciones 1:\n",
      "--> Media de las observaciones:  5.0465852825296516\n",
      "--> Desviacion tipica:  2.808538294327531\n",
      "Errores 1:\n",
      "--> Media de los errores:  0.06234525474938073\n",
      "--> Desviacion tipica:  35.16079287570547\n"
     ]
    }
   ],
   "source": [
    "observaciones1 = np.random.uniform(0, 10, 500)\n",
    "\n",
    "print(\"Observaciones 1:\")\n",
    "print(\"--> Media de las observaciones: \", np.mean(observaciones1))\n",
    "print(\"--> Desviacion tipica: \", np.std(observaciones1))\n",
    "\n",
    "errores1 = np.random.normal(0, 36, 500)\n",
    "\n",
    "print(\"Errores 1:\")\n",
    "print(\"--> Media de los errores: \", np.mean(errores1))\n",
    "print(\"--> Desviacion tipica: \", np.std(errores1))"
   ]
  },
  {
   "cell_type": "code",
   "execution_count": 276,
   "metadata": {},
   "outputs": [
    {
     "data": {
      "text/plain": [
       "array([ 5.28005967e+01,  1.24303550e+01, -2.59345584e+01, -5.69873575e+01,\n",
       "        2.43090868e+01,  3.67908232e+01, -8.46503011e+00,  5.93270610e+01,\n",
       "        2.08159478e+01, -5.56467956e+00, -3.89151737e+01,  3.70437144e+01,\n",
       "        5.72305654e+00,  4.56628687e+01,  3.29176861e+01,  2.67003703e+01,\n",
       "       -1.26332140e+01,  6.08556225e+01, -1.17164777e+01,  6.04095063e+01,\n",
       "        1.74238255e+01,  1.90663921e+00,  5.12232093e+01,  1.55715035e+01,\n",
       "        1.47140562e+01,  1.29623167e+01,  7.24834165e+00, -2.42949220e+01,\n",
       "        1.72368580e+01,  1.07552710e+01,  9.04149936e+00, -2.77026925e+00,\n",
       "       -3.35326500e-02,  4.76965265e+01,  2.51042953e+01, -2.58200895e+01,\n",
       "       -5.59500713e+01,  3.02284415e+01,  1.59287060e+01,  2.76201410e+01,\n",
       "        6.27902314e+01, -3.52418479e+00,  6.37463510e+01, -5.62929932e+01,\n",
       "       -8.75852799e+01,  9.70856806e+01,  2.34610942e+01, -4.67665288e+00,\n",
       "       -3.77267194e+01,  2.91237936e+01, -2.51368341e+00, -2.27753981e+01,\n",
       "       -1.56425935e+01,  6.35666308e+00,  6.01211870e+00,  1.90919630e+01,\n",
       "        2.31946664e+01, -3.24161549e+01, -7.57704389e+00, -2.39466949e+01,\n",
       "        3.46810532e+01, -6.98225726e+01, -4.49449287e+01,  9.16244462e+00,\n",
       "       -2.48718005e+01,  2.27782200e+01,  3.92975395e+00, -3.00794107e+00,\n",
       "        4.80576207e+01, -3.55299127e+00,  3.51249580e+01, -3.48725208e+01,\n",
       "       -4.17340801e+01,  6.11889831e+01,  9.37010629e+01,  7.42115218e+01,\n",
       "       -7.44258460e+00,  1.93545049e+01, -1.13646218e+01,  1.97033498e+01,\n",
       "       -1.05143397e+01,  4.31235675e+01,  1.57295615e+01, -1.46144839e+01,\n",
       "       -1.23919133e+01, -2.94697948e+01,  4.95491442e+01, -6.02027780e+00,\n",
       "        3.93307563e+01, -4.39538255e+01,  4.14662295e+01, -8.08360895e+00,\n",
       "       -3.50000703e+01, -9.24133791e+00,  8.18342991e+01,  5.63143592e+01,\n",
       "        1.96523416e+01, -6.65328687e+01, -5.64414422e+00,  3.93760464e+00,\n",
       "        2.82506492e+01, -5.20847770e+01,  1.64931192e+01,  2.46099549e+01,\n",
       "       -6.36095193e+01,  3.55571026e+01,  6.94372143e+00,  3.48564005e+00,\n",
       "        1.16816499e+01,  5.25740697e+01,  2.45544339e+01, -2.80934466e+01,\n",
       "        4.83510663e+00,  2.34356962e+01, -1.85938819e+01,  5.28738471e+00,\n",
       "        2.03393394e+01, -1.17779672e+00,  5.63726294e+01,  6.94746431e+01,\n",
       "        4.10147762e+01,  4.33243916e+01,  1.50650194e+01, -3.56040550e+01,\n",
       "       -2.00695093e+01,  4.96144742e+01, -2.02847134e+01,  1.68330315e+01,\n",
       "        1.38607690e+01, -2.43641468e+01,  1.37640671e+01,  2.72023799e+01,\n",
       "       -1.78064756e+01, -7.67277193e+00, -7.54363999e+00,  2.26619531e+01,\n",
       "        4.07421597e+01, -1.53133100e+01, -4.12458668e+01,  4.47540673e+01,\n",
       "        3.88908519e+01,  1.11055164e+02,  1.25003483e+01, -4.14134597e+01,\n",
       "       -2.11864422e+00,  5.81827158e+00,  4.61292871e+01,  3.97651477e+01,\n",
       "       -4.57097692e+00, -1.55202237e+00,  1.53464820e+01, -2.66371439e+01,\n",
       "        1.32631597e+00,  1.28116965e+00, -5.70789981e+00, -1.59468506e+01,\n",
       "        2.24524756e+01,  2.16679683e+01, -4.31467949e+01,  2.03660215e+01,\n",
       "       -4.98848523e+01,  1.11092024e+01,  2.26799227e+01, -2.02964451e+01,\n",
       "       -6.72790147e+01, -2.98969241e+01, -7.85802566e+00, -8.46657384e+00,\n",
       "        4.71587180e+01, -5.34496386e+01,  6.13711534e+01, -2.45358674e+00,\n",
       "       -1.26393532e+01,  2.27596887e-01,  2.03950040e+01,  3.19990713e+01,\n",
       "        4.36120448e+01, -6.10632013e+01, -4.99276866e+01,  2.80171923e+01,\n",
       "        3.11922508e+01, -1.16717158e+01,  3.26763327e+01,  2.67855538e+01,\n",
       "        4.92737303e+01,  4.31518727e+01, -2.69924244e+01, -5.77996004e-01,\n",
       "       -2.17021957e+01, -1.41632149e+01,  3.47074085e+01, -1.14787542e+00,\n",
       "        6.65546161e+01,  2.38366143e+01, -1.19555971e+00,  6.89479495e+00,\n",
       "       -9.82443615e+01, -2.24084544e+01,  3.93702482e+01,  5.29886276e+01,\n",
       "        2.46811988e+00,  2.79415814e+00, -1.39158382e+01,  3.37750442e+01,\n",
       "        5.42664244e+01,  5.25064670e+01, -2.94388139e+00, -5.10139578e+01,\n",
       "        2.36721191e+01,  4.77536933e+01,  2.58857014e+01,  1.98138874e+01,\n",
       "        7.47787331e+00, -2.24021342e+01,  5.48540222e+01,  2.49982058e+01,\n",
       "        3.86022621e+01, -4.19174087e+01,  3.34167174e+01, -7.11530530e+01,\n",
       "       -4.94348363e+01, -1.65611064e+01, -2.47815658e+01,  2.06196084e+01,\n",
       "       -8.96946511e+00, -1.89327421e+01,  5.95774834e+01,  2.96177809e+01,\n",
       "       -9.58521832e+00,  5.17250233e+01,  2.32807401e+01, -4.47058835e+01,\n",
       "        4.12870259e+01, -2.09709564e+01,  7.80168282e+01, -2.25124951e-01,\n",
       "        3.21728465e+01,  1.53910926e+00,  5.32127311e+01,  4.19969405e+01,\n",
       "        1.34741478e+01, -3.08811248e+01,  5.13853857e+01,  4.91962587e+01,\n",
       "       -4.52150550e-01,  2.78871014e+01, -2.20333948e+01, -3.15173042e+01,\n",
       "        1.94659686e+01, -2.54531473e+01,  1.15251573e+01, -1.86785652e+01,\n",
       "        4.76993057e+00, -2.18133644e+01,  3.41364048e+01,  7.22368220e+01,\n",
       "       -4.85945122e-01, -7.16903623e+00,  4.63461800e+01,  8.10808967e+00,\n",
       "       -3.36164151e+01,  2.94857101e+01,  4.86654576e+01,  1.34564380e+02,\n",
       "        5.82561746e+00, -2.25348647e+01,  6.03825175e+01,  4.01816000e+01,\n",
       "       -3.45809466e+01,  3.10899133e+01,  4.10031027e+00, -3.66280726e+01,\n",
       "       -1.83015359e+01,  1.53607621e+02, -5.19471057e+01, -4.44345228e+01,\n",
       "        3.37760864e+01, -1.04080298e+01, -4.04586974e-01,  2.47286344e+01,\n",
       "       -7.64644119e+01, -1.56309510e+00, -8.42903610e+00,  5.67264617e+01,\n",
       "       -1.59240127e+01,  1.71822998e+01,  3.08325059e+01,  2.67974259e+01,\n",
       "        3.59429000e+01, -6.53318442e+00, -1.42622910e+01,  4.83853842e+01,\n",
       "        1.30272931e+01,  3.04934255e+01,  5.22983505e+00,  6.35125786e+00,\n",
       "        3.28044368e+01,  6.35323427e+01,  3.23687429e+01, -1.47570038e+00,\n",
       "        2.02121941e+01, -4.30092905e+01, -1.78157087e+01,  1.83294402e+01,\n",
       "        6.35447377e+01,  2.90728052e+01,  5.06919380e+01, -5.24526444e+01,\n",
       "        6.05646592e+01,  9.96636455e+01, -7.81574951e-01,  2.23099269e+01,\n",
       "        1.06369872e+01, -5.61471048e+01,  4.47609044e+01,  1.09081366e+02,\n",
       "        1.65687351e+01,  4.46924218e+01,  4.12235487e+01,  2.87933253e+00,\n",
       "        1.48939709e+00,  1.79615520e+01, -3.00039431e+01, -2.13606128e+01,\n",
       "       -1.04765705e+01, -1.16198309e+01,  4.09459995e+01,  7.22679283e+00,\n",
       "        3.20804076e+00, -1.11871755e+01,  5.79179170e+01, -2.57740497e+00,\n",
       "        3.18271427e+01, -2.05624602e+01, -7.86494455e+00,  4.92807337e+01,\n",
       "       -3.59496344e+00,  3.78197206e+01,  5.50516398e+00, -4.57173053e+01,\n",
       "        4.19218941e+01, -2.94107395e+00,  3.21440304e+01, -4.02627948e+01,\n",
       "        2.48607478e+01,  3.53946782e+01, -2.18953003e+00,  1.32886392e+01,\n",
       "        2.03824126e+01, -1.73733936e+01, -4.35767338e+00, -2.65761784e+01,\n",
       "       -2.23528643e+01,  5.27194307e+01, -1.04837207e+00,  8.08299056e+00,\n",
       "        2.78281253e+01, -1.71902880e+01,  4.46833587e+01,  2.31538996e+01,\n",
       "        1.80137116e+01, -9.75569399e+00,  1.94877983e+01, -2.80719725e+01,\n",
       "        3.03483003e+01,  6.05457591e+01,  6.65918959e+01, -6.18391629e+01,\n",
       "        3.56905535e+01,  7.55562819e+01,  2.27658687e+00,  3.57121620e+01,\n",
       "        3.83587172e+00, -1.25071255e+01, -2.39673831e+01,  4.42550186e-01,\n",
       "       -1.69406515e+01,  7.72130399e+01,  2.09087913e+01,  7.64650812e+01,\n",
       "        9.41462450e+01,  4.59322046e+01,  1.25506988e+00,  2.46665822e+01,\n",
       "        4.60808309e+01,  3.78671255e+01, -2.17690723e+00,  6.07424211e+01,\n",
       "        2.61013318e+01,  4.79706196e+01,  4.12293123e+01, -3.67795556e+00,\n",
       "        2.65106280e+01,  1.04887976e+01, -2.14624075e+01,  8.36463076e+00,\n",
       "        1.44028303e+01, -1.18360251e+01,  3.90684015e+01, -2.03507502e+00,\n",
       "        1.07302004e+01,  7.34227710e+00,  4.02992575e+01, -7.40800300e+00,\n",
       "       -2.21550736e+01,  2.48550859e+01,  1.10977413e+01,  2.08556006e+01,\n",
       "       -1.61381468e+01,  7.39642718e+01,  7.10045487e+01,  5.55737994e+01,\n",
       "       -5.64947358e+01, -1.35119621e+01,  1.91300340e+01, -3.97607904e+00,\n",
       "        5.62064601e+01, -1.00818883e+01,  3.73687491e+01,  6.35412004e+00,\n",
       "        4.64845416e+01, -2.88671221e+01, -2.86016872e+01, -2.74424055e+01,\n",
       "       -4.46068489e+00, -2.85351020e+01,  2.17371410e+01,  7.49468400e+01,\n",
       "        7.88222120e+00, -1.57106929e+01,  7.50579235e+01, -8.33925036e+00,\n",
       "        5.60386265e+01,  2.74016702e+01,  2.81865588e+01,  5.16357774e+01,\n",
       "        2.62259739e+01, -3.73949164e+01,  2.94212980e+01, -3.82407555e+01,\n",
       "        3.46785957e+01, -1.81676040e+01,  5.94894630e+01,  1.76354133e+01,\n",
       "       -1.36983490e+01,  1.65447437e+01,  1.22288044e+01,  3.66458647e+01,\n",
       "        1.97875892e+01, -9.06038969e+00,  3.37786685e+01,  2.72778760e+01,\n",
       "        3.38939662e+01,  2.67055053e+01,  2.25052450e+00, -3.14382718e+01,\n",
       "        3.57888701e+01, -2.57218840e+00,  3.44412964e+01, -1.83623844e+01,\n",
       "       -1.61091246e+01,  2.25325421e+01,  4.66701683e+01, -3.47523713e+01,\n",
       "        5.32958154e+01,  2.18105738e+01,  1.22018423e+00,  2.39028205e+01,\n",
       "        1.86878459e+01,  2.38851014e+01, -1.66997739e+01,  5.92228307e+01,\n",
       "        1.11334738e+01,  1.34692625e+01, -4.97272612e+01, -6.03200924e+01,\n",
       "       -1.50770162e+01, -8.06624589e+00, -7.12031857e+00,  6.61290741e+01,\n",
       "        8.72833944e+01,  5.98502876e+01,  6.27018455e+01, -3.76554839e+01,\n",
       "        6.34127280e+01, -7.00548382e-01,  6.60313499e+01,  3.94452225e+01,\n",
       "       -2.16961933e+01,  1.89134931e+01,  1.42367449e+01, -6.18064075e+00,\n",
       "        3.56890050e+00,  2.07138149e+01, -2.30479357e+01,  1.72069461e+01,\n",
       "       -1.34307917e+01, -4.26697918e-01, -4.93197784e+01, -3.47781368e+01])"
      ]
     },
     "execution_count": 276,
     "metadata": {},
     "output_type": "execute_result"
    }
   ],
   "source": [
    "prediccion_observaciones = 1 + 2*observaciones1 + errores1\n",
    "prediccion_observaciones\n"
   ]
  },
  {
   "cell_type": "code",
   "execution_count": 278,
   "metadata": {},
   "outputs": [
    {
     "data": {
      "text/html": [
       "<table class=\"simpletable\">\n",
       "<caption>OLS Regression Results</caption>\n",
       "<tr>\n",
       "  <th>Dep. Variable:</th>            <td>y</td>        <th>  R-squared:         </th> <td>   0.011</td>\n",
       "</tr>\n",
       "<tr>\n",
       "  <th>Model:</th>                   <td>OLS</td>       <th>  Adj. R-squared:    </th> <td>   0.010</td>\n",
       "</tr>\n",
       "<tr>\n",
       "  <th>Method:</th>             <td>Least Squares</td>  <th>  F-statistic:       </th> <td>   5.789</td>\n",
       "</tr>\n",
       "<tr>\n",
       "  <th>Date:</th>             <td>Fri, 17 Dec 2021</td> <th>  Prob (F-statistic):</th>  <td>0.0165</td> \n",
       "</tr>\n",
       "<tr>\n",
       "  <th>Time:</th>                 <td>20:10:28</td>     <th>  Log-Likelihood:    </th> <td> -2488.8</td>\n",
       "</tr>\n",
       "<tr>\n",
       "  <th>No. Observations:</th>      <td>   500</td>      <th>  AIC:               </th> <td>   4982.</td>\n",
       "</tr>\n",
       "<tr>\n",
       "  <th>Df Residuals:</th>          <td>   498</td>      <th>  BIC:               </th> <td>   4990.</td>\n",
       "</tr>\n",
       "<tr>\n",
       "  <th>Df Model:</th>              <td>     1</td>      <th>                     </th>     <td> </td>   \n",
       "</tr>\n",
       "<tr>\n",
       "  <th>Covariance Type:</th>      <td>nonrobust</td>    <th>                     </th>     <td> </td>   \n",
       "</tr>\n",
       "</table>\n",
       "<table class=\"simpletable\">\n",
       "<tr>\n",
       "    <td></td>       <th>coef</th>     <th>std err</th>      <th>t</th>      <th>P>|t|</th>  <th>[0.025</th>    <th>0.975]</th>  \n",
       "</tr>\n",
       "<tr>\n",
       "  <th>const</th> <td>    4.3528</td> <td>    3.236</td> <td>    1.345</td> <td> 0.179</td> <td>   -2.004</td> <td>   10.710</td>\n",
       "</tr>\n",
       "<tr>\n",
       "  <th>x1</th>    <td>    1.3480</td> <td>    0.560</td> <td>    2.406</td> <td> 0.016</td> <td>    0.247</td> <td>    2.449</td>\n",
       "</tr>\n",
       "</table>\n",
       "<table class=\"simpletable\">\n",
       "<tr>\n",
       "  <th>Omnibus:</th>       <td> 3.065</td> <th>  Durbin-Watson:     </th> <td>   1.950</td>\n",
       "</tr>\n",
       "<tr>\n",
       "  <th>Prob(Omnibus):</th> <td> 0.216</td> <th>  Jarque-Bera (JB):  </th> <td>   3.062</td>\n",
       "</tr>\n",
       "<tr>\n",
       "  <th>Skew:</th>          <td> 0.105</td> <th>  Prob(JB):          </th> <td>   0.216</td>\n",
       "</tr>\n",
       "<tr>\n",
       "  <th>Kurtosis:</th>      <td> 3.320</td> <th>  Cond. No.          </th> <td>    12.2</td>\n",
       "</tr>\n",
       "</table><br/><br/>Notes:<br/>[1] Standard Errors assume that the covariance matrix of the errors is correctly specified."
      ],
      "text/plain": [
       "<class 'statsmodels.iolib.summary.Summary'>\n",
       "\"\"\"\n",
       "                            OLS Regression Results                            \n",
       "==============================================================================\n",
       "Dep. Variable:                      y   R-squared:                       0.011\n",
       "Model:                            OLS   Adj. R-squared:                  0.010\n",
       "Method:                 Least Squares   F-statistic:                     5.789\n",
       "Date:                Fri, 17 Dec 2021   Prob (F-statistic):             0.0165\n",
       "Time:                        20:10:28   Log-Likelihood:                -2488.8\n",
       "No. Observations:                 500   AIC:                             4982.\n",
       "Df Residuals:                     498   BIC:                             4990.\n",
       "Df Model:                           1                                         \n",
       "Covariance Type:            nonrobust                                         \n",
       "==============================================================================\n",
       "                 coef    std err          t      P>|t|      [0.025      0.975]\n",
       "------------------------------------------------------------------------------\n",
       "const          4.3528      3.236      1.345      0.179      -2.004      10.710\n",
       "x1             1.3480      0.560      2.406      0.016       0.247       2.449\n",
       "==============================================================================\n",
       "Omnibus:                        3.065   Durbin-Watson:                   1.950\n",
       "Prob(Omnibus):                  0.216   Jarque-Bera (JB):                3.062\n",
       "Skew:                           0.105   Prob(JB):                        0.216\n",
       "Kurtosis:                       3.320   Cond. No.                         12.2\n",
       "==============================================================================\n",
       "\n",
       "Notes:\n",
       "[1] Standard Errors assume that the covariance matrix of the errors is correctly specified.\n",
       "\"\"\""
      ]
     },
     "execution_count": 278,
     "metadata": {},
     "output_type": "execute_result"
    }
   ],
   "source": [
    "Y = prediccion_observaciones\n",
    "X = sm.add_constant(observaciones1)\n",
    "\n",
    "mco6 = sm.OLS(Y, X).fit()\n",
    "\n",
    "mco6.summary()"
   ]
  },
  {
   "cell_type": "markdown",
   "metadata": {},
   "source": [
    "No son iguales mi constante es 4.35 != 1, y mi beta[1] es 1.34 != 2"
   ]
  },
  {
   "cell_type": "code",
   "execution_count": 287,
   "metadata": {},
   "outputs": [
    {
     "name": "stdout",
     "output_type": "stream",
     "text": [
      "Mi sumatoria de residuos:  -5.684341886080801e-13\n",
      "Mi sumatoria de residuos*x1:  -6.366462912410498e-12\n"
     ]
    }
   ],
   "source": [
    "residuos = mco6.resid\n",
    "\n",
    "sumatoria_residuos = np.sum(residuos)\n",
    "print(\"Mi sumatoria de residuos: \", sumatoria_residuos)\n",
    "\n",
    "sumatoria_residuos_observaciones = np.sum(observaciones1.T * residuos) #observaciones1.T*residuos\n",
    "print(\"Mi sumatoria de residuos*x1: \", sumatoria_residuos_observaciones)"
   ]
  },
  {
   "cell_type": "code",
   "execution_count": 288,
   "metadata": {},
   "outputs": [
    {
     "data": {
      "text/html": [
       "<table class=\"simpletable\">\n",
       "<caption>OLS Regression Results</caption>\n",
       "<tr>\n",
       "  <th>Dep. Variable:</th>            <td>y</td>        <th>  R-squared:         </th> <td>   0.014</td>\n",
       "</tr>\n",
       "<tr>\n",
       "  <th>Model:</th>                   <td>OLS</td>       <th>  Adj. R-squared:    </th> <td>   0.012</td>\n",
       "</tr>\n",
       "<tr>\n",
       "  <th>Method:</th>             <td>Least Squares</td>  <th>  F-statistic:       </th> <td>   7.202</td>\n",
       "</tr>\n",
       "<tr>\n",
       "  <th>Date:</th>             <td>Fri, 17 Dec 2021</td> <th>  Prob (F-statistic):</th>  <td>0.00752</td>\n",
       "</tr>\n",
       "<tr>\n",
       "  <th>Time:</th>                 <td>20:17:43</td>     <th>  Log-Likelihood:    </th> <td> -2490.4</td>\n",
       "</tr>\n",
       "<tr>\n",
       "  <th>No. Observations:</th>      <td>   500</td>      <th>  AIC:               </th> <td>   4985.</td>\n",
       "</tr>\n",
       "<tr>\n",
       "  <th>Df Residuals:</th>          <td>   498</td>      <th>  BIC:               </th> <td>   4993.</td>\n",
       "</tr>\n",
       "<tr>\n",
       "  <th>Df Model:</th>              <td>     1</td>      <th>                     </th>     <td> </td>   \n",
       "</tr>\n",
       "<tr>\n",
       "  <th>Covariance Type:</th>      <td>nonrobust</td>    <th>                     </th>     <td> </td>   \n",
       "</tr>\n",
       "</table>\n",
       "<table class=\"simpletable\">\n",
       "<tr>\n",
       "    <td></td>       <th>coef</th>     <th>std err</th>      <th>t</th>      <th>P>|t|</th>  <th>[0.025</th>    <th>0.975]</th>  \n",
       "</tr>\n",
       "<tr>\n",
       "  <th>const</th> <td>    8.5366</td> <td>    3.219</td> <td>    2.652</td> <td> 0.008</td> <td>    2.211</td> <td>   14.862</td>\n",
       "</tr>\n",
       "<tr>\n",
       "  <th>x1</th>    <td>    1.5078</td> <td>    0.562</td> <td>    2.684</td> <td> 0.008</td> <td>    0.404</td> <td>    2.612</td>\n",
       "</tr>\n",
       "</table>\n",
       "<table class=\"simpletable\">\n",
       "<tr>\n",
       "  <th>Omnibus:</th>       <td> 0.867</td> <th>  Durbin-Watson:     </th> <td>   1.859</td>\n",
       "</tr>\n",
       "<tr>\n",
       "  <th>Prob(Omnibus):</th> <td> 0.648</td> <th>  Jarque-Bera (JB):  </th> <td>   0.922</td>\n",
       "</tr>\n",
       "<tr>\n",
       "  <th>Skew:</th>          <td>-0.010</td> <th>  Prob(JB):          </th> <td>   0.631</td>\n",
       "</tr>\n",
       "<tr>\n",
       "  <th>Kurtosis:</th>      <td> 2.791</td> <th>  Cond. No.          </th> <td>    12.0</td>\n",
       "</tr>\n",
       "</table><br/><br/>Notes:<br/>[1] Standard Errors assume that the covariance matrix of the errors is correctly specified."
      ],
      "text/plain": [
       "<class 'statsmodels.iolib.summary.Summary'>\n",
       "\"\"\"\n",
       "                            OLS Regression Results                            \n",
       "==============================================================================\n",
       "Dep. Variable:                      y   R-squared:                       0.014\n",
       "Model:                            OLS   Adj. R-squared:                  0.012\n",
       "Method:                 Least Squares   F-statistic:                     7.202\n",
       "Date:                Fri, 17 Dec 2021   Prob (F-statistic):            0.00752\n",
       "Time:                        20:17:43   Log-Likelihood:                -2490.4\n",
       "No. Observations:                 500   AIC:                             4985.\n",
       "Df Residuals:                     498   BIC:                             4993.\n",
       "Df Model:                           1                                         \n",
       "Covariance Type:            nonrobust                                         \n",
       "==============================================================================\n",
       "                 coef    std err          t      P>|t|      [0.025      0.975]\n",
       "------------------------------------------------------------------------------\n",
       "const          8.5366      3.219      2.652      0.008       2.211      14.862\n",
       "x1             1.5078      0.562      2.684      0.008       0.404       2.612\n",
       "==============================================================================\n",
       "Omnibus:                        0.867   Durbin-Watson:                   1.859\n",
       "Prob(Omnibus):                  0.648   Jarque-Bera (JB):                0.922\n",
       "Skew:                          -0.010   Prob(JB):                        0.631\n",
       "Kurtosis:                       2.791   Cond. No.                         12.0\n",
       "==============================================================================\n",
       "\n",
       "Notes:\n",
       "[1] Standard Errors assume that the covariance matrix of the errors is correctly specified.\n",
       "\"\"\""
      ]
     },
     "execution_count": 288,
     "metadata": {},
     "output_type": "execute_result"
    }
   ],
   "source": [
    "observaciones2 = np.random.uniform(0, 10, 500)\n",
    "\n",
    "errores2 = np.random.normal(0, 36, 500)\n",
    "\n",
    "prediccion_observaciones_2 = 1 + 2*observaciones2 + errores2\n",
    "\n",
    "\n",
    "Y = prediccion_observaciones_2\n",
    "X = sm.add_constant(observaciones2)\n",
    "\n",
    "mco6_aux = sm.OLS(Y, X).fit()\n",
    "\n",
    "mco6_aux.summary()"
   ]
  },
  {
   "cell_type": "code",
   "execution_count": null,
   "metadata": {},
   "outputs": [],
   "source": []
  }
 ],
 "metadata": {
  "interpreter": {
   "hash": "07efdcd4b820c98a756949507a4d29d7862823915ec7477944641bea022f4f62"
  },
  "kernelspec": {
   "display_name": "Python 3.8.8 64-bit ('base': conda)",
   "name": "python3"
  },
  "language_info": {
   "codemirror_mode": {
    "name": "ipython",
    "version": 3
   },
   "file_extension": ".py",
   "mimetype": "text/x-python",
   "name": "python",
   "nbconvert_exporter": "python",
   "pygments_lexer": "ipython3",
   "version": "3.8.8"
  }
 },
 "nbformat": 4,
 "nbformat_minor": 2
}
