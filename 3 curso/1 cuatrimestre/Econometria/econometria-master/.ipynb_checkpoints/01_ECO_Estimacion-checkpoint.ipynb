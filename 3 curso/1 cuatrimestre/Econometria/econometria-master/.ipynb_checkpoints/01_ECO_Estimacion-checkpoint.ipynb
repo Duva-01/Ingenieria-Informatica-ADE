{
 "cells": [
  {
   "cell_type": "markdown",
   "metadata": {},
   "source": [
    "# Práctica 1: Estimación e Inferencia en Modelos de Regresión Lineales"
   ]
  },
  {
   "cell_type": "markdown",
   "metadata": {},
   "source": [
    "## Modelo 1"
   ]
  },
  {
   "cell_type": "markdown",
   "metadata": {},
   "source": [
    "Carguemos una base de datos de Woldridge \"csal1\""
   ]
  },
  {
   "cell_type": "code",
   "execution_count": null,
   "metadata": {},
   "outputs": [],
   "source": [
    "import numpy as np\n",
    "import statsmodels.api as sm\n",
    "import statsmodels.formula.api as smf\n",
    "import matplotlib.pylab as plt\n",
    "from wooldridge import *\n",
    "\n",
    "dataWoo('ceosal1', description=True) #con description=True tenemos una descripción de las variables"
   ]
  },
  {
   "cell_type": "markdown",
   "metadata": {},
   "source": [
    "Llamamos \"datos\" a los datos de esa base de datos, y dentro de tal, notamos por \"y\" al salario de los CEOS y a \"X\" la matriz de datos con columna de unos (constante) y \"roe\" (rendimiento medio del CEO):"
   ]
  },
  {
   "cell_type": "code",
   "execution_count": null,
   "metadata": {},
   "outputs": [],
   "source": [
    "datos=dataWoo('ceosal1')\n",
    "\n",
    "y=datos['salary']\n",
    "X=sm.add_constant(datos['roe'])"
   ]
  },
  {
   "cell_type": "markdown",
   "metadata": {},
   "source": [
    "## Estadísticos Descriptivos:"
   ]
  },
  {
   "cell_type": "code",
   "execution_count": null,
   "metadata": {},
   "outputs": [],
   "source": [
    "media=np.mean(y)\n",
    "Q1=np.quantile(y, 0.25)\n",
    "Q3=np.quantile(y, 0.75)\n",
    "Varianza=np.var(y)\n",
    "DesviacionTipica=np.std(y)\n",
    "Mediana=np.median(y)\n",
    "histograma=plt.hist(y, bins='auto', rwidth=0.85)\n",
    "plt.xlabel('y')\n",
    "plt.ylabel('Frecuancia')\n",
    "plt.title(\"Histrograma de y (salary)\")\n",
    "plt.show()\n",
    "print(Q1, Mediana, Q3, DesviacionTipica, np.mean(y))"
   ]
  },
  {
   "cell_type": "markdown",
   "metadata": {},
   "source": [
    "Ahora ajustamos el modelo $y = X\\beta + u$ y extraemos un resumen del resultado:"
   ]
  },
  {
   "cell_type": "code",
   "execution_count": null,
   "metadata": {},
   "outputs": [],
   "source": [
    "mco1 = sm.OLS(y, X).fit()\n",
    "mco1.summary()"
   ]
  },
  {
   "cell_type": "markdown",
   "metadata": {},
   "source": [
    "Existen otras formas de obtener las estimaciones del modelo:"
   ]
  },
  {
   "cell_type": "code",
   "execution_count": null,
   "metadata": {},
   "outputs": [],
   "source": [
    "mco1=smf.ols('salary ~ roe', data=datos).fit()\n",
    "mco1.summary()"
   ]
  },
  {
   "cell_type": "markdown",
   "metadata": {},
   "source": [
    "Como el modelo solo tiene dos variables (\"salary\" y \"roe\") podemos dibujar los datos y la recta de regresión ajustada:"
   ]
  },
  {
   "cell_type": "code",
   "execution_count": null,
   "metadata": {},
   "outputs": [],
   "source": [
    "beta=mco1.params\n",
    "plt.plot(datos['roe'], y, 'o')\n",
    "xmin=np.min(datos['roe'])\n",
    "xmax=np.max(datos['roe'])\n",
    "plt.plot([xmin,xmax], [beta[0]+beta[1]*xmin,beta[0]+beta[1]*xmax])\n",
    "plt.show()"
   ]
  },
  {
   "cell_type": "markdown",
   "metadata": {},
   "source": [
    "El modelo obtenido permite realizar algunas gráficas más que nos permitirán validar el modelo:"
   ]
  },
  {
   "cell_type": "code",
   "execution_count": null,
   "metadata": {},
   "outputs": [],
   "source": [
    "sm.graphics.plot_regress_exog(mco1, 'roe')"
   ]
  },
  {
   "cell_type": "markdown",
   "metadata": {},
   "source": [
    "Del modelo se pueden extraer otras medidas como:\n",
    "\n",
    "* Valores predichos $\\hat y$\n",
    "* Residuos\n",
    "\n"
   ]
  },
  {
   "cell_type": "code",
   "execution_count": null,
   "metadata": {},
   "outputs": [],
   "source": [
    "yhat=mco1.fittedvalues\n",
    "e=mco1.resid\n",
    "print(e)\n",
    "np.mean(e)"
   ]
  },
  {
   "cell_type": "markdown",
   "metadata": {},
   "source": [
    "* ANOVA"
   ]
  },
  {
   "cell_type": "code",
   "execution_count": null,
   "metadata": {},
   "outputs": [],
   "source": [
    "table = sm.stats.anova_lm(mco1, typ=1)\n",
    "print(table)"
   ]
  },
  {
   "cell_type": "markdown",
   "metadata": {},
   "source": [
    "* Suma de Cuadrados Totales (SCT)"
   ]
  },
  {
   "cell_type": "code",
   "execution_count": null,
   "metadata": {},
   "outputs": [],
   "source": [
    "mco1.centered_tss\n",
    "sum((y-np.mean(y))**2)"
   ]
  },
  {
   "cell_type": "markdown",
   "metadata": {},
   "source": [
    "* Suma de Cuadrados Explicada (SCE)"
   ]
  },
  {
   "cell_type": "code",
   "execution_count": null,
   "metadata": {},
   "outputs": [],
   "source": [
    "mco1.ess\n",
    "sum((mco1.fittedvalues-np.mean(y))**2)"
   ]
  },
  {
   "cell_type": "markdown",
   "metadata": {},
   "source": [
    "* Suma de Cuadrados de los residuos (SCR)"
   ]
  },
  {
   "cell_type": "code",
   "execution_count": null,
   "metadata": {},
   "outputs": [],
   "source": [
    "mco1.ssr\n",
    "sum(e**2)"
   ]
  },
  {
   "cell_type": "markdown",
   "metadata": {},
   "source": [
    "* $R^2$ y $R^2$-ajustado"
   ]
  },
  {
   "cell_type": "code",
   "execution_count": null,
   "metadata": {},
   "outputs": [],
   "source": [
    "mco1.rsquared\n",
    "mco1.rsquared_adj"
   ]
  },
  {
   "cell_type": "markdown",
   "metadata": {},
   "source": [
    "* Valor $F_{exp}$ y de $F_{teo}$"
   ]
  },
  {
   "cell_type": "code",
   "execution_count": null,
   "metadata": {},
   "outputs": [],
   "source": [
    "Fexp=mco1.fvalue\n",
    "from scipy import stats\n",
    "alpha=0.05\n",
    "Fteo= stats.f.ppf(1-alpha, mco1.df_model, mco1.df_resid)\n",
    "print(alpha, Fexp, Fteo)\n",
    "alpha=0.10\n",
    "Fteo= stats.f.ppf(1-alpha, mco1.df_model, mco1.df_resid)\n",
    "print(alpha, Fexp, Fteo)"
   ]
  },
  {
   "cell_type": "markdown",
   "metadata": {},
   "source": [
    "* Valores $t_{exp}$ y $t_{teo}$"
   ]
  },
  {
   "cell_type": "code",
   "execution_count": null,
   "metadata": {},
   "outputs": [],
   "source": [
    "texp=mco1.tvalues\n",
    "print(\"texp: \", texp)\n",
    "alpha=0.05\n",
    "tteo= stats.t.ppf(1-(alpha/2),mco1.df_resid)\n",
    "print(alpha)\n",
    "print(tteo)\n",
    "alpha=0.10\n",
    "tteo= stats.t.ppf(1-(alpha/2),mco1.df_resid)\n",
    "print(alpha)\n",
    "print(tteo)"
   ]
  },
  {
   "cell_type": "markdown",
   "metadata": {},
   "source": [
    "* Intervalos de confianza de Estimadores"
   ]
  },
  {
   "cell_type": "code",
   "execution_count": null,
   "metadata": {},
   "outputs": [],
   "source": [
    "mco1.conf_int()"
   ]
  },
  {
   "cell_type": "markdown",
   "metadata": {},
   "source": [
    "* Estimación de la varianza de la pertrubación:"
   ]
  },
  {
   "cell_type": "code",
   "execution_count": null,
   "metadata": {},
   "outputs": [],
   "source": [
    "beta=np.array(mco1.params)\n",
    "\n",
    "sum(e**2)/(mco1.nobs-1)\n",
    "sigmagorro=(np.dot(y.values, y.values)-np.dot(beta.T, np.dot(X.values.T,y.values)))/(mco1.nobs-1)"
   ]
  },
  {
   "cell_type": "markdown",
   "metadata": {},
   "source": [
    "* Predicciones:"
   ]
  },
  {
   "cell_type": "code",
   "execution_count": null,
   "metadata": {},
   "outputs": [],
   "source": [
    "from statsmodels.sandbox.regression.predstd import wls_prediction_std\n",
    "epred, lb, ub = wls_prediction_std(mco1, weights=1)"
   ]
  },
  {
   "cell_type": "code",
   "execution_count": null,
   "metadata": {},
   "outputs": [],
   "source": [
    "x0=5\n",
    "beta[0]+beta[1]*x0\n",
    "X0=sm.add_constant(x0)\n",
    "mco1.predict(exog=dict(roe=x0))"
   ]
  },
  {
   "cell_type": "markdown",
   "metadata": {},
   "source": [
    "## Cuestiones"
   ]
  },
  {
   "cell_type": "markdown",
   "metadata": {},
   "source": [
    "1. Analizar el salario en función de los años de educación utilizando la base de datos **wage1**. Interpretar los coeficientes obtenidos. Dibuja ajustes y residuos.\n",
    "3. Ajustar el modelo lineal del porcentaje de votos obtenido por el candidato A en base al porcentaje de gastos de campa\\~na para tal candidato con la base de datos **vote1**. Comprobar que la media de los residuos es 0 y cómo se relaciona la media de $y$ con respecto a la media de $\\hat{y}$.\n",
    "4. Ajustar el modelo no lineal $\\log(wage) = \\beta _0 + \\beta_1 {\\rm educ} + u$ con la base de datos {\\bf wage1} e interpretar los resultados obtenidos.\n",
    "5. Usar la base de datos {\\bf 401K} para estudiar la relación entre el porcentage de trabajadores activos que est\\'an inscritos en el plan de pensiones (prate) y la tase de contribución al plan (mrate)- cantidad promedio con que la empresa contribuye al plan de cada trabajador  por cada dolar que aporta el trabajador. Seg\\'un este modelo, ¿qué prate se predice para mrate=3.5? ? Cu\\'anta variación de prate se explica por mrate?\n",
    "6. Usando la base de datos **charity**:\n",
    " * ¿Cuál es el donativo (gift) promedio de esta muestra? ¿Qu\\'e porcentage no dio donativo?\n",
    " * ¿Cuál es el promedio de envíos por año (mailsyear)?\n",
    " * Estimar ${\\rm gift} = \\beta_0 + \\beta_1 {\\rm mailsyear} + u$.\n",
    " * Si cada envío cuesta un florín, espera la beneficiencia obtener una ganancia neta por cada env\\'io?\n",
    " * ¿Cu\\'al es el menor donativo? Con el modelo de regresi'on, se puede predecir que gift=0?\n",
    "7. Realiza el siguiente experimento:\n",
    " * Generar $500$ observaciones uniformes $[0,10]$. Calcular para esta muestra la media y la desviación t\\'ipica: $x$\n",
    " * Generar $500$ errores seg\\'un una normal $N(0,36)$: $e$. ? Es el promedio de la muestra 0? ¿Cu\\'al es su desviación t\\'ipica?\n",
    " * Ahora generar $y_i = 1 + 2x_i + e_i$ para $i=1, \\ldots, 500$.\n",
    " * Estimar el modelo $y = \\beta_0 + \\beta_1 x + u$. Comparar el modelo real con el modelo ajustado.\n",
    " * Obtener $\\hat{u}$ y probar si $\\sum_{i=1}^{500} \\hat{u}_i =0$ y que $\\sum_{i=1}^{500} x_i \\hat{u}_i =0$. ¿Ocurre lo mismo con $u$?\n",
    " * Generar de nuevo el modelo y comparar los resultados obtenidos. ¿Son iguales?"
   ]
  },
  {
   "cell_type": "code",
   "execution_count": null,
   "metadata": {},
   "outputs": [],
   "source": []
  },
  {
   "cell_type": "code",
   "execution_count": null,
   "metadata": {},
   "outputs": [],
   "source": []
  }
 ],
 "metadata": {
  "kernelspec": {
   "display_name": "Python 3",
   "language": "python",
   "name": "python3"
  },
  "language_info": {
   "codemirror_mode": {
    "name": "ipython",
    "version": 3
   },
   "file_extension": ".py",
   "mimetype": "text/x-python",
   "name": "python",
   "nbconvert_exporter": "python",
   "pygments_lexer": "ipython3",
   "version": "3.8.8"
  }
 },
 "nbformat": 4,
 "nbformat_minor": 2
}
