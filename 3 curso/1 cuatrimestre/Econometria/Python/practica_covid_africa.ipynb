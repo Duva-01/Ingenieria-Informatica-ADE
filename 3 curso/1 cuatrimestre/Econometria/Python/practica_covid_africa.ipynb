{
 "cells": [
  {
   "cell_type": "markdown",
   "metadata": {},
   "source": [
    "# Practica Covid en Africa:\n"
   ]
  },
  {
   "cell_type": "markdown",
   "metadata": {},
   "source": [
    "## Primer paso: cargar el modelo"
   ]
  },
  {
   "cell_type": "markdown",
   "metadata": {},
   "source": [
    "### Carguemos la base de datos\n",
    "\n"
   ]
  },
  {
   "cell_type": "code",
   "execution_count": 1,
   "metadata": {},
   "outputs": [],
   "source": [
    "import numpy as np\n",
    "import statsmodels.api as sm\n",
    "import statsmodels.formula.api as smf\n",
    "import matplotlib.pylab as plt\n",
    "import statsmodels.stats.api as sms\n",
    "from wooldridge import *"
   ]
  },
  {
   "cell_type": "code",
   "execution_count": 2,
   "metadata": {},
   "outputs": [
    {
     "data": {
      "text/html": [
       "<div>\n",
       "<style scoped>\n",
       "    .dataframe tbody tr th:only-of-type {\n",
       "        vertical-align: middle;\n",
       "    }\n",
       "\n",
       "    .dataframe tbody tr th {\n",
       "        vertical-align: top;\n",
       "    }\n",
       "\n",
       "    .dataframe thead th {\n",
       "        text-align: right;\n",
       "    }\n",
       "</style>\n",
       "<table border=\"1\" class=\"dataframe\">\n",
       "  <thead>\n",
       "    <tr style=\"text-align: right;\">\n",
       "      <th></th>\n",
       "      <th>Total Deaths</th>\n",
       "      <th>Country</th>\n",
       "      <th>Total Cases</th>\n",
       "      <th>Total Recovered</th>\n",
       "      <th>Active Cases</th>\n",
       "      <th>Total Cases/1 mil population</th>\n",
       "      <th>Death/1 mil population</th>\n",
       "      <th>Total Tests</th>\n",
       "      <th>Tests/1 mil population</th>\n",
       "      <th>Population</th>\n",
       "      <th>Unnamed: 10</th>\n",
       "      <th>Unnamed: 11</th>\n",
       "      <th>Unnamed: 12</th>\n",
       "      <th>Unnamed: 13</th>\n",
       "      <th>Unnamed: 14</th>\n",
       "    </tr>\n",
       "  </thead>\n",
       "  <tbody>\n",
       "    <tr>\n",
       "      <th>0</th>\n",
       "      <td>5853</td>\n",
       "      <td>Algeria</td>\n",
       "      <td>204597</td>\n",
       "      <td>140238</td>\n",
       "      <td>58506</td>\n",
       "      <td>4561</td>\n",
       "      <td>130</td>\n",
       "      <td>230861</td>\n",
       "      <td>5147</td>\n",
       "      <td>44857594</td>\n",
       "      <td>NaN</td>\n",
       "      <td>NaN</td>\n",
       "      <td>NaN</td>\n",
       "      <td>NaN</td>\n",
       "      <td>NaN</td>\n",
       "    </tr>\n",
       "    <tr>\n",
       "      <th>1</th>\n",
       "      <td>1622</td>\n",
       "      <td>Angola</td>\n",
       "      <td>61378</td>\n",
       "      <td>49601</td>\n",
       "      <td>10155</td>\n",
       "      <td>1797</td>\n",
       "      <td>47</td>\n",
       "      <td>1043451</td>\n",
       "      <td>30543</td>\n",
       "      <td>34163081</td>\n",
       "      <td>NaN</td>\n",
       "      <td>NaN</td>\n",
       "      <td>NaN</td>\n",
       "      <td>NaN</td>\n",
       "      <td>NaN</td>\n",
       "    </tr>\n",
       "    <tr>\n",
       "      <th>2</th>\n",
       "      <td>159</td>\n",
       "      <td>Benin</td>\n",
       "      <td>24335</td>\n",
       "      <td>23257</td>\n",
       "      <td>919</td>\n",
       "      <td>1943</td>\n",
       "      <td>13</td>\n",
       "      <td>604310</td>\n",
       "      <td>48243</td>\n",
       "      <td>12526305</td>\n",
       "      <td>NaN</td>\n",
       "      <td>NaN</td>\n",
       "      <td>NaN</td>\n",
       "      <td>NaN</td>\n",
       "      <td>NaN</td>\n",
       "    </tr>\n",
       "    <tr>\n",
       "      <th>3</th>\n",
       "      <td>2376</td>\n",
       "      <td>Botswana</td>\n",
       "      <td>180438</td>\n",
       "      <td>176595</td>\n",
       "      <td>1467</td>\n",
       "      <td>74810</td>\n",
       "      <td>985</td>\n",
       "      <td>1770961</td>\n",
       "      <td>734241</td>\n",
       "      <td>2411963</td>\n",
       "      <td>NaN</td>\n",
       "      <td>NaN</td>\n",
       "      <td>NaN</td>\n",
       "      <td>NaN</td>\n",
       "      <td>NaN</td>\n",
       "    </tr>\n",
       "    <tr>\n",
       "      <th>4</th>\n",
       "      <td>195</td>\n",
       "      <td>Burkina Faso</td>\n",
       "      <td>14495</td>\n",
       "      <td>14028</td>\n",
       "      <td>272</td>\n",
       "      <td>670</td>\n",
       "      <td>9</td>\n",
       "      <td>219242</td>\n",
       "      <td>10136</td>\n",
       "      <td>21630767</td>\n",
       "      <td>NaN</td>\n",
       "      <td>NaN</td>\n",
       "      <td>NaN</td>\n",
       "      <td>NaN</td>\n",
       "      <td>NaN</td>\n",
       "    </tr>\n",
       "    <tr>\n",
       "      <th>5</th>\n",
       "      <td>38</td>\n",
       "      <td>Burundi</td>\n",
       "      <td>19041</td>\n",
       "      <td>773</td>\n",
       "      <td>18230</td>\n",
       "      <td>1543</td>\n",
       "      <td>3</td>\n",
       "      <td>345742</td>\n",
       "      <td>28018</td>\n",
       "      <td>12340090</td>\n",
       "      <td>NaN</td>\n",
       "      <td>NaN</td>\n",
       "      <td>NaN</td>\n",
       "      <td>NaN</td>\n",
       "      <td>NaN</td>\n",
       "    </tr>\n",
       "    <tr>\n",
       "      <th>6</th>\n",
       "      <td>346</td>\n",
       "      <td>Cabo Verde</td>\n",
       "      <td>37888</td>\n",
       "      <td>37070</td>\n",
       "      <td>472</td>\n",
       "      <td>67216</td>\n",
       "      <td>614</td>\n",
       "      <td>209870</td>\n",
       "      <td>372326</td>\n",
       "      <td>563672</td>\n",
       "      <td>NaN</td>\n",
       "      <td>NaN</td>\n",
       "      <td>NaN</td>\n",
       "      <td>NaN</td>\n",
       "      <td>NaN</td>\n",
       "    </tr>\n",
       "    <tr>\n",
       "      <th>7</th>\n",
       "      <td>1517</td>\n",
       "      <td>Cameroon</td>\n",
       "      <td>95399</td>\n",
       "      <td>80433</td>\n",
       "      <td>13449</td>\n",
       "      <td>3484</td>\n",
       "      <td>55</td>\n",
       "      <td>1751774</td>\n",
       "      <td>63969</td>\n",
       "      <td>27384891</td>\n",
       "      <td>NaN</td>\n",
       "      <td>NaN</td>\n",
       "      <td>NaN</td>\n",
       "      <td>NaN</td>\n",
       "      <td>NaN</td>\n",
       "    </tr>\n",
       "    <tr>\n",
       "      <th>8</th>\n",
       "      <td>100</td>\n",
       "      <td>CAR</td>\n",
       "      <td>11401</td>\n",
       "      <td>6859</td>\n",
       "      <td>4442</td>\n",
       "      <td>2310</td>\n",
       "      <td>20</td>\n",
       "      <td>60228</td>\n",
       "      <td>12200</td>\n",
       "      <td>4936522</td>\n",
       "      <td>NaN</td>\n",
       "      <td>NaN</td>\n",
       "      <td>NaN</td>\n",
       "      <td>NaN</td>\n",
       "      <td>NaN</td>\n",
       "    </tr>\n",
       "    <tr>\n",
       "      <th>9</th>\n",
       "      <td>174</td>\n",
       "      <td>Chad</td>\n",
       "      <td>5059</td>\n",
       "      <td>4865</td>\n",
       "      <td>20</td>\n",
       "      <td>297</td>\n",
       "      <td>10</td>\n",
       "      <td>147563</td>\n",
       "      <td>8668</td>\n",
       "      <td>17023967</td>\n",
       "      <td>NaN</td>\n",
       "      <td>NaN</td>\n",
       "      <td>NaN</td>\n",
       "      <td>NaN</td>\n",
       "      <td>NaN</td>\n",
       "    </tr>\n",
       "    <tr>\n",
       "      <th>10</th>\n",
       "      <td>147</td>\n",
       "      <td>Comoros</td>\n",
       "      <td>4165</td>\n",
       "      <td>3997</td>\n",
       "      <td>21</td>\n",
       "      <td>4663</td>\n",
       "      <td>165</td>\n",
       "      <td>2</td>\n",
       "      <td>2</td>\n",
       "      <td>893136</td>\n",
       "      <td>NaN</td>\n",
       "      <td>NaN</td>\n",
       "      <td>NaN</td>\n",
       "      <td>NaN</td>\n",
       "      <td>NaN</td>\n",
       "    </tr>\n",
       "    <tr>\n",
       "      <th>11</th>\n",
       "      <td>206</td>\n",
       "      <td>Congo</td>\n",
       "      <td>14833</td>\n",
       "      <td>12421</td>\n",
       "      <td>2206</td>\n",
       "      <td>2607</td>\n",
       "      <td>36</td>\n",
       "      <td>188207</td>\n",
       "      <td>33074</td>\n",
       "      <td>5690553</td>\n",
       "      <td>NaN</td>\n",
       "      <td>NaN</td>\n",
       "      <td>NaN</td>\n",
       "      <td>NaN</td>\n",
       "      <td>NaN</td>\n",
       "    </tr>\n",
       "    <tr>\n",
       "      <th>12</th>\n",
       "      <td>174</td>\n",
       "      <td>Djibouti</td>\n",
       "      <td>13179</td>\n",
       "      <td>12662</td>\n",
       "      <td>343</td>\n",
       "      <td>13097</td>\n",
       "      <td>173</td>\n",
       "      <td>225703</td>\n",
       "      <td>224296</td>\n",
       "      <td>1006274</td>\n",
       "      <td>NaN</td>\n",
       "      <td>NaN</td>\n",
       "      <td>NaN</td>\n",
       "      <td>NaN</td>\n",
       "      <td>NaN</td>\n",
       "    </tr>\n",
       "    <tr>\n",
       "      <th>13</th>\n",
       "      <td>1087</td>\n",
       "      <td>DRC</td>\n",
       "      <td>57132</td>\n",
       "      <td>50930</td>\n",
       "      <td>5115</td>\n",
       "      <td>614</td>\n",
       "      <td>12</td>\n",
       "      <td>306299</td>\n",
       "      <td>3293</td>\n",
       "      <td>93015571</td>\n",
       "      <td>NaN</td>\n",
       "      <td>NaN</td>\n",
       "      <td>NaN</td>\n",
       "      <td>NaN</td>\n",
       "      <td>NaN</td>\n",
       "    </tr>\n",
       "    <tr>\n",
       "      <th>14</th>\n",
       "      <td>17695</td>\n",
       "      <td>Egypt</td>\n",
       "      <td>312413</td>\n",
       "      <td>263557</td>\n",
       "      <td>31161</td>\n",
       "      <td>2981</td>\n",
       "      <td>169</td>\n",
       "      <td>3693367</td>\n",
       "      <td>35246</td>\n",
       "      <td>104787578</td>\n",
       "      <td>NaN</td>\n",
       "      <td>NaN</td>\n",
       "      <td>NaN</td>\n",
       "      <td>NaN</td>\n",
       "      <td>NaN</td>\n",
       "    </tr>\n",
       "    <tr>\n",
       "      <th>15</th>\n",
       "      <td>154</td>\n",
       "      <td>Equatorial Guinea</td>\n",
       "      <td>12657</td>\n",
       "      <td>11601</td>\n",
       "      <td>902</td>\n",
       "      <td>8661</td>\n",
       "      <td>105</td>\n",
       "      <td>195087</td>\n",
       "      <td>133490</td>\n",
       "      <td>1461435</td>\n",
       "      <td>NaN</td>\n",
       "      <td>NaN</td>\n",
       "      <td>NaN</td>\n",
       "      <td>NaN</td>\n",
       "      <td>NaN</td>\n",
       "    </tr>\n",
       "    <tr>\n",
       "      <th>16</th>\n",
       "      <td>42</td>\n",
       "      <td>Eritrea</td>\n",
       "      <td>6741</td>\n",
       "      <td>6669</td>\n",
       "      <td>30</td>\n",
       "      <td>1868</td>\n",
       "      <td>12</td>\n",
       "      <td>23693</td>\n",
       "      <td>6565</td>\n",
       "      <td>3608855</td>\n",
       "      <td>NaN</td>\n",
       "      <td>NaN</td>\n",
       "      <td>NaN</td>\n",
       "      <td>NaN</td>\n",
       "      <td>NaN</td>\n",
       "    </tr>\n",
       "    <tr>\n",
       "      <th>17</th>\n",
       "      <td>1227</td>\n",
       "      <td>Eswatini</td>\n",
       "      <td>46276</td>\n",
       "      <td>44611</td>\n",
       "      <td>438</td>\n",
       "      <td>39369</td>\n",
       "      <td>1044</td>\n",
       "      <td>356832</td>\n",
       "      <td>303570</td>\n",
       "      <td>1175451</td>\n",
       "      <td>NaN</td>\n",
       "      <td>NaN</td>\n",
       "      <td>NaN</td>\n",
       "      <td>NaN</td>\n",
       "      <td>NaN</td>\n",
       "    </tr>\n",
       "    <tr>\n",
       "      <th>18</th>\n",
       "      <td>5990</td>\n",
       "      <td>Ethiopia</td>\n",
       "      <td>354476</td>\n",
       "      <td>323505</td>\n",
       "      <td>24981</td>\n",
       "      <td>2989</td>\n",
       "      <td>51</td>\n",
       "      <td>3551983</td>\n",
       "      <td>29954</td>\n",
       "      <td>118579450</td>\n",
       "      <td>NaN</td>\n",
       "      <td>NaN</td>\n",
       "      <td>NaN</td>\n",
       "      <td>NaN</td>\n",
       "      <td>NaN</td>\n",
       "    </tr>\n",
       "    <tr>\n",
       "      <th>19</th>\n",
       "      <td>201</td>\n",
       "      <td>Gabon</td>\n",
       "      <td>32135</td>\n",
       "      <td>27333</td>\n",
       "      <td>4601</td>\n",
       "      <td>14018</td>\n",
       "      <td>88</td>\n",
       "      <td>1245868</td>\n",
       "      <td>543470</td>\n",
       "      <td>2292433</td>\n",
       "      <td>NaN</td>\n",
       "      <td>NaN</td>\n",
       "      <td>NaN</td>\n",
       "      <td>NaN</td>\n",
       "      <td>NaN</td>\n",
       "    </tr>\n",
       "    <tr>\n",
       "      <th>20</th>\n",
       "      <td>339</td>\n",
       "      <td>Gambia</td>\n",
       "      <td>9941</td>\n",
       "      <td>9594</td>\n",
       "      <td>8</td>\n",
       "      <td>3972</td>\n",
       "      <td>135</td>\n",
       "      <td>103187</td>\n",
       "      <td>41228</td>\n",
       "      <td>2502829</td>\n",
       "      <td>NaN</td>\n",
       "      <td>NaN</td>\n",
       "      <td>NaN</td>\n",
       "      <td>NaN</td>\n",
       "      <td>NaN</td>\n",
       "    </tr>\n",
       "    <tr>\n",
       "      <th>21</th>\n",
       "      <td>1158</td>\n",
       "      <td>Ghana</td>\n",
       "      <td>128368</td>\n",
       "      <td>124514</td>\n",
       "      <td>2696</td>\n",
       "      <td>4024</td>\n",
       "      <td>36</td>\n",
       "      <td>1781277</td>\n",
       "      <td>55845</td>\n",
       "      <td>31897055</td>\n",
       "      <td>NaN</td>\n",
       "      <td>NaN</td>\n",
       "      <td>NaN</td>\n",
       "      <td>NaN</td>\n",
       "      <td>NaN</td>\n",
       "    </tr>\n",
       "    <tr>\n",
       "      <th>22</th>\n",
       "      <td>383</td>\n",
       "      <td>Guinea</td>\n",
       "      <td>30501</td>\n",
       "      <td>29069</td>\n",
       "      <td>1049</td>\n",
       "      <td>2245</td>\n",
       "      <td>28</td>\n",
       "      <td>560520</td>\n",
       "      <td>41260</td>\n",
       "      <td>13584938</td>\n",
       "      <td>NaN</td>\n",
       "      <td>NaN</td>\n",
       "      <td>NaN</td>\n",
       "      <td>NaN</td>\n",
       "      <td>NaN</td>\n",
       "    </tr>\n",
       "    <tr>\n",
       "      <th>23</th>\n",
       "      <td>135</td>\n",
       "      <td>Guinea-Bissau</td>\n",
       "      <td>6117</td>\n",
       "      <td>5349</td>\n",
       "      <td>633</td>\n",
       "      <td>3018</td>\n",
       "      <td>67</td>\n",
       "      <td>99393</td>\n",
       "      <td>49033</td>\n",
       "      <td>2027073</td>\n",
       "      <td>NaN</td>\n",
       "      <td>NaN</td>\n",
       "      <td>NaN</td>\n",
       "      <td>NaN</td>\n",
       "      <td>NaN</td>\n",
       "    </tr>\n",
       "    <tr>\n",
       "      <th>24</th>\n",
       "      <td>666</td>\n",
       "      <td>Ivory Coast</td>\n",
       "      <td>60819</td>\n",
       "      <td>58893</td>\n",
       "      <td>1260</td>\n",
       "      <td>2235</td>\n",
       "      <td>24</td>\n",
       "      <td>1044828</td>\n",
       "      <td>38402</td>\n",
       "      <td>27207688</td>\n",
       "      <td>NaN</td>\n",
       "      <td>NaN</td>\n",
       "      <td>NaN</td>\n",
       "      <td>NaN</td>\n",
       "      <td>NaN</td>\n",
       "    </tr>\n",
       "    <tr>\n",
       "      <th>25</th>\n",
       "      <td>5181</td>\n",
       "      <td>Kenya</td>\n",
       "      <td>251152</td>\n",
       "      <td>243944</td>\n",
       "      <td>2027</td>\n",
       "      <td>4544</td>\n",
       "      <td>94</td>\n",
       "      <td>2606152</td>\n",
       "      <td>47148</td>\n",
       "      <td>55275926</td>\n",
       "      <td>NaN</td>\n",
       "      <td>NaN</td>\n",
       "      <td>NaN</td>\n",
       "      <td>NaN</td>\n",
       "      <td>NaN</td>\n",
       "    </tr>\n",
       "    <tr>\n",
       "      <th>26</th>\n",
       "      <td>652</td>\n",
       "      <td>Lesotho</td>\n",
       "      <td>21457</td>\n",
       "      <td>11793</td>\n",
       "      <td>9012</td>\n",
       "      <td>9916</td>\n",
       "      <td>301</td>\n",
       "      <td>222183</td>\n",
       "      <td>102679</td>\n",
       "      <td>2163868</td>\n",
       "      <td>NaN</td>\n",
       "      <td>NaN</td>\n",
       "      <td>NaN</td>\n",
       "      <td>NaN</td>\n",
       "      <td>NaN</td>\n",
       "    </tr>\n",
       "    <tr>\n",
       "      <th>27</th>\n",
       "      <td>286</td>\n",
       "      <td>Liberia</td>\n",
       "      <td>5799</td>\n",
       "      <td>5458</td>\n",
       "      <td>55</td>\n",
       "      <td>1113</td>\n",
       "      <td>55</td>\n",
       "      <td>128246</td>\n",
       "      <td>24622</td>\n",
       "      <td>5208655</td>\n",
       "      <td>NaN</td>\n",
       "      <td>NaN</td>\n",
       "      <td>NaN</td>\n",
       "      <td>NaN</td>\n",
       "      <td>NaN</td>\n",
       "    </tr>\n",
       "    <tr>\n",
       "      <th>28</th>\n",
       "      <td>4775</td>\n",
       "      <td>Libya</td>\n",
       "      <td>346176</td>\n",
       "      <td>270140</td>\n",
       "      <td>71261</td>\n",
       "      <td>49523</td>\n",
       "      <td>683</td>\n",
       "      <td>1710768</td>\n",
       "      <td>244740</td>\n",
       "      <td>6990148</td>\n",
       "      <td>NaN</td>\n",
       "      <td>NaN</td>\n",
       "      <td>NaN</td>\n",
       "      <td>NaN</td>\n",
       "      <td>NaN</td>\n",
       "    </tr>\n",
       "    <tr>\n",
       "      <th>29</th>\n",
       "      <td>958</td>\n",
       "      <td>Madagascar</td>\n",
       "      <td>42898</td>\n",
       "      <td>41322</td>\n",
       "      <td>618</td>\n",
       "      <td>1500</td>\n",
       "      <td>34</td>\n",
       "      <td>249510</td>\n",
       "      <td>8726</td>\n",
       "      <td>28594796</td>\n",
       "      <td>NaN</td>\n",
       "      <td>NaN</td>\n",
       "      <td>NaN</td>\n",
       "      <td>NaN</td>\n",
       "      <td>NaN</td>\n",
       "    </tr>\n",
       "    <tr>\n",
       "      <th>30</th>\n",
       "      <td>2290</td>\n",
       "      <td>Malawi</td>\n",
       "      <td>61676</td>\n",
       "      <td>56430</td>\n",
       "      <td>2956</td>\n",
       "      <td>3122</td>\n",
       "      <td>116</td>\n",
       "      <td>414671</td>\n",
       "      <td>20988</td>\n",
       "      <td>19757517</td>\n",
       "      <td>NaN</td>\n",
       "      <td>NaN</td>\n",
       "      <td>NaN</td>\n",
       "      <td>NaN</td>\n",
       "      <td>NaN</td>\n",
       "    </tr>\n",
       "    <tr>\n",
       "      <th>31</th>\n",
       "      <td>553</td>\n",
       "      <td>Mali</td>\n",
       "      <td>15471</td>\n",
       "      <td>14378</td>\n",
       "      <td>540</td>\n",
       "      <td>737</td>\n",
       "      <td>26</td>\n",
       "      <td>431532</td>\n",
       "      <td>20558</td>\n",
       "      <td>20990975</td>\n",
       "      <td>NaN</td>\n",
       "      <td>NaN</td>\n",
       "      <td>NaN</td>\n",
       "      <td>NaN</td>\n",
       "      <td>NaN</td>\n",
       "    </tr>\n",
       "    <tr>\n",
       "      <th>32</th>\n",
       "      <td>785</td>\n",
       "      <td>Mauritania</td>\n",
       "      <td>36414</td>\n",
       "      <td>35174</td>\n",
       "      <td>455</td>\n",
       "      <td>7579</td>\n",
       "      <td>163</td>\n",
       "      <td>476512</td>\n",
       "      <td>99174</td>\n",
       "      <td>4804806</td>\n",
       "      <td>NaN</td>\n",
       "      <td>NaN</td>\n",
       "      <td>NaN</td>\n",
       "      <td>NaN</td>\n",
       "      <td>NaN</td>\n",
       "    </tr>\n",
       "    <tr>\n",
       "      <th>33</th>\n",
       "      <td>106</td>\n",
       "      <td>Mauritius</td>\n",
       "      <td>16189</td>\n",
       "      <td>1854</td>\n",
       "      <td>14229</td>\n",
       "      <td>12703</td>\n",
       "      <td>83</td>\n",
       "      <td>358675</td>\n",
       "      <td>281434</td>\n",
       "      <td>1274457</td>\n",
       "      <td>NaN</td>\n",
       "      <td>NaN</td>\n",
       "      <td>NaN</td>\n",
       "      <td>NaN</td>\n",
       "      <td>NaN</td>\n",
       "    </tr>\n",
       "    <tr>\n",
       "      <th>34</th>\n",
       "      <td>14457</td>\n",
       "      <td>Morocco</td>\n",
       "      <td>939187</td>\n",
       "      <td>917807</td>\n",
       "      <td>6923</td>\n",
       "      <td>25067</td>\n",
       "      <td>386</td>\n",
       "      <td>9843264</td>\n",
       "      <td>262717</td>\n",
       "      <td>37467214</td>\n",
       "      <td>NaN</td>\n",
       "      <td>NaN</td>\n",
       "      <td>NaN</td>\n",
       "      <td>NaN</td>\n",
       "      <td>NaN</td>\n",
       "    </tr>\n",
       "    <tr>\n",
       "      <th>35</th>\n",
       "      <td>1922</td>\n",
       "      <td>Mozambique</td>\n",
       "      <td>150985</td>\n",
       "      <td>147876</td>\n",
       "      <td>1187</td>\n",
       "      <td>4665</td>\n",
       "      <td>59</td>\n",
       "      <td>917886</td>\n",
       "      <td>28359</td>\n",
       "      <td>32366737</td>\n",
       "      <td>NaN</td>\n",
       "      <td>NaN</td>\n",
       "      <td>NaN</td>\n",
       "      <td>NaN</td>\n",
       "      <td>NaN</td>\n",
       "    </tr>\n",
       "    <tr>\n",
       "      <th>36</th>\n",
       "      <td>3527</td>\n",
       "      <td>Namibia</td>\n",
       "      <td>128106</td>\n",
       "      <td>123542</td>\n",
       "      <td>1037</td>\n",
       "      <td>49283</td>\n",
       "      <td>1357</td>\n",
       "      <td>719774</td>\n",
       "      <td>276900</td>\n",
       "      <td>2599398</td>\n",
       "      <td>NaN</td>\n",
       "      <td>NaN</td>\n",
       "      <td>NaN</td>\n",
       "      <td>NaN</td>\n",
       "      <td>NaN</td>\n",
       "    </tr>\n",
       "    <tr>\n",
       "      <th>37</th>\n",
       "      <td>204</td>\n",
       "      <td>Niger</td>\n",
       "      <td>6115</td>\n",
       "      <td>5799</td>\n",
       "      <td>112</td>\n",
       "      <td>242</td>\n",
       "      <td>8</td>\n",
       "      <td>162213</td>\n",
       "      <td>6407</td>\n",
       "      <td>25317186</td>\n",
       "      <td>NaN</td>\n",
       "      <td>NaN</td>\n",
       "      <td>NaN</td>\n",
       "      <td>NaN</td>\n",
       "      <td>NaN</td>\n",
       "    </tr>\n",
       "    <tr>\n",
       "      <th>38</th>\n",
       "      <td>2747</td>\n",
       "      <td>Nigeria</td>\n",
       "      <td>207694</td>\n",
       "      <td>195274</td>\n",
       "      <td>9673</td>\n",
       "      <td>977</td>\n",
       "      <td>13</td>\n",
       "      <td>3090114</td>\n",
       "      <td>14533</td>\n",
       "      <td>212627048</td>\n",
       "      <td>NaN</td>\n",
       "      <td>NaN</td>\n",
       "      <td>NaN</td>\n",
       "      <td>NaN</td>\n",
       "      <td>NaN</td>\n",
       "    </tr>\n",
       "    <tr>\n",
       "      <th>39</th>\n",
       "      <td>1308</td>\n",
       "      <td>Rwanda</td>\n",
       "      <td>98697</td>\n",
       "      <td>45498</td>\n",
       "      <td>51891</td>\n",
       "      <td>7388</td>\n",
       "      <td>98</td>\n",
       "      <td>2938657</td>\n",
       "      <td>219961</td>\n",
       "      <td>13359900</td>\n",
       "      <td>NaN</td>\n",
       "      <td>NaN</td>\n",
       "      <td>NaN</td>\n",
       "      <td>NaN</td>\n",
       "      <td>NaN</td>\n",
       "    </tr>\n",
       "    <tr>\n",
       "      <th>40</th>\n",
       "      <td>56</td>\n",
       "      <td>Sao Tome and Principe</td>\n",
       "      <td>3628</td>\n",
       "      <td>2974</td>\n",
       "      <td>598</td>\n",
       "      <td>16172</td>\n",
       "      <td>250</td>\n",
       "      <td>14689</td>\n",
       "      <td>65479</td>\n",
       "      <td>224332</td>\n",
       "      <td>NaN</td>\n",
       "      <td>NaN</td>\n",
       "      <td>NaN</td>\n",
       "      <td>NaN</td>\n",
       "      <td>NaN</td>\n",
       "    </tr>\n",
       "    <tr>\n",
       "      <th>41</th>\n",
       "      <td>1868</td>\n",
       "      <td>Senegal</td>\n",
       "      <td>73837</td>\n",
       "      <td>71921</td>\n",
       "      <td>48</td>\n",
       "      <td>4267</td>\n",
       "      <td>108</td>\n",
       "      <td>813740</td>\n",
       "      <td>47026</td>\n",
       "      <td>17304051</td>\n",
       "      <td>NaN</td>\n",
       "      <td>NaN</td>\n",
       "      <td>NaN</td>\n",
       "      <td>NaN</td>\n",
       "      <td>NaN</td>\n",
       "    </tr>\n",
       "    <tr>\n",
       "      <th>42</th>\n",
       "      <td>118</td>\n",
       "      <td>Seychelles</td>\n",
       "      <td>21638</td>\n",
       "      <td>21242</td>\n",
       "      <td>278</td>\n",
       "      <td>218297</td>\n",
       "      <td>1190</td>\n",
       "      <td>21504</td>\n",
       "      <td>216945</td>\n",
       "      <td>99122</td>\n",
       "      <td>NaN</td>\n",
       "      <td>NaN</td>\n",
       "      <td>NaN</td>\n",
       "      <td>NaN</td>\n",
       "      <td>NaN</td>\n",
       "    </tr>\n",
       "    <tr>\n",
       "      <th>43</th>\n",
       "      <td>121</td>\n",
       "      <td>Sierra Leone</td>\n",
       "      <td>6396</td>\n",
       "      <td>4393</td>\n",
       "      <td>1882</td>\n",
       "      <td>782</td>\n",
       "      <td>15</td>\n",
       "      <td>160729</td>\n",
       "      <td>19642</td>\n",
       "      <td>8183112</td>\n",
       "      <td>NaN</td>\n",
       "      <td>NaN</td>\n",
       "      <td>NaN</td>\n",
       "      <td>NaN</td>\n",
       "      <td>NaN</td>\n",
       "    </tr>\n",
       "    <tr>\n",
       "      <th>44</th>\n",
       "      <td>1180</td>\n",
       "      <td>Somalia</td>\n",
       "      <td>21269</td>\n",
       "      <td>9927</td>\n",
       "      <td>10162</td>\n",
       "      <td>1292</td>\n",
       "      <td>72</td>\n",
       "      <td>239292</td>\n",
       "      <td>14541</td>\n",
       "      <td>16455956</td>\n",
       "      <td>NaN</td>\n",
       "      <td>NaN</td>\n",
       "      <td>NaN</td>\n",
       "      <td>NaN</td>\n",
       "      <td>NaN</td>\n",
       "    </tr>\n",
       "    <tr>\n",
       "      <th>45</th>\n",
       "      <td>88317</td>\n",
       "      <td>South Africa</td>\n",
       "      <td>2912145</td>\n",
       "      <td>2791256</td>\n",
       "      <td>32572</td>\n",
       "      <td>48326</td>\n",
       "      <td>1466</td>\n",
       "      <td>17982358</td>\n",
       "      <td>298413</td>\n",
       "      <td>60260021</td>\n",
       "      <td>NaN</td>\n",
       "      <td>NaN</td>\n",
       "      <td>NaN</td>\n",
       "      <td>NaN</td>\n",
       "      <td>NaN</td>\n",
       "    </tr>\n",
       "    <tr>\n",
       "      <th>46</th>\n",
       "      <td>130</td>\n",
       "      <td>South Sudan</td>\n",
       "      <td>12104</td>\n",
       "      <td>11617</td>\n",
       "      <td>357</td>\n",
       "      <td>1065</td>\n",
       "      <td>11</td>\n",
       "      <td>235462</td>\n",
       "      <td>20726</td>\n",
       "      <td>11360709</td>\n",
       "      <td>NaN</td>\n",
       "      <td>NaN</td>\n",
       "      <td>NaN</td>\n",
       "      <td>NaN</td>\n",
       "      <td>NaN</td>\n",
       "    </tr>\n",
       "    <tr>\n",
       "      <th>47</th>\n",
       "      <td>2928</td>\n",
       "      <td>Sudan</td>\n",
       "      <td>38824</td>\n",
       "      <td>32395</td>\n",
       "      <td>3501</td>\n",
       "      <td>860</td>\n",
       "      <td>65</td>\n",
       "      <td>238579</td>\n",
       "      <td>5284</td>\n",
       "      <td>45149561</td>\n",
       "      <td>NaN</td>\n",
       "      <td>NaN</td>\n",
       "      <td>NaN</td>\n",
       "      <td>NaN</td>\n",
       "      <td>NaN</td>\n",
       "    </tr>\n",
       "    <tr>\n",
       "      <th>48</th>\n",
       "      <td>723</td>\n",
       "      <td>Tanzania</td>\n",
       "      <td>25957</td>\n",
       "      <td>2</td>\n",
       "      <td>2</td>\n",
       "      <td>419</td>\n",
       "      <td>12</td>\n",
       "      <td>2</td>\n",
       "      <td>2</td>\n",
       "      <td>61893320</td>\n",
       "      <td>NaN</td>\n",
       "      <td>NaN</td>\n",
       "      <td>NaN</td>\n",
       "      <td>NaN</td>\n",
       "      <td>NaN</td>\n",
       "    </tr>\n",
       "    <tr>\n",
       "      <th>49</th>\n",
       "      <td>236</td>\n",
       "      <td>Togo</td>\n",
       "      <td>25778</td>\n",
       "      <td>24464</td>\n",
       "      <td>1078</td>\n",
       "      <td>3024</td>\n",
       "      <td>28</td>\n",
       "      <td>526497</td>\n",
       "      <td>61758</td>\n",
       "      <td>8525150</td>\n",
       "      <td>NaN</td>\n",
       "      <td>NaN</td>\n",
       "      <td>NaN</td>\n",
       "      <td>NaN</td>\n",
       "      <td>NaN</td>\n",
       "    </tr>\n",
       "    <tr>\n",
       "      <th>50</th>\n",
       "      <td>25028</td>\n",
       "      <td>Tunisia</td>\n",
       "      <td>709834</td>\n",
       "      <td>682353</td>\n",
       "      <td>2453</td>\n",
       "      <td>59271</td>\n",
       "      <td>2090</td>\n",
       "      <td>2994047</td>\n",
       "      <td>250004</td>\n",
       "      <td>11975999</td>\n",
       "      <td>NaN</td>\n",
       "      <td>NaN</td>\n",
       "      <td>NaN</td>\n",
       "      <td>NaN</td>\n",
       "      <td>NaN</td>\n",
       "    </tr>\n",
       "    <tr>\n",
       "      <th>51</th>\n",
       "      <td>3176</td>\n",
       "      <td>Uganda</td>\n",
       "      <td>124646</td>\n",
       "      <td>96278</td>\n",
       "      <td>25192</td>\n",
       "      <td>2620</td>\n",
       "      <td>67</td>\n",
       "      <td>1723620</td>\n",
       "      <td>36231</td>\n",
       "      <td>47573189</td>\n",
       "      <td>NaN</td>\n",
       "      <td>NaN</td>\n",
       "      <td>NaN</td>\n",
       "      <td>NaN</td>\n",
       "      <td>NaN</td>\n",
       "    </tr>\n",
       "    <tr>\n",
       "      <th>52</th>\n",
       "      <td>3654</td>\n",
       "      <td>Zambia</td>\n",
       "      <td>209347</td>\n",
       "      <td>205478</td>\n",
       "      <td>215</td>\n",
       "      <td>10997</td>\n",
       "      <td>192</td>\n",
       "      <td>2506657</td>\n",
       "      <td>131670</td>\n",
       "      <td>19037355</td>\n",
       "      <td>NaN</td>\n",
       "      <td>NaN</td>\n",
       "      <td>NaN</td>\n",
       "      <td>NaN</td>\n",
       "      <td>NaN</td>\n",
       "    </tr>\n",
       "    <tr>\n",
       "      <th>53</th>\n",
       "      <td>4637</td>\n",
       "      <td>Zimbabwe</td>\n",
       "      <td>131796</td>\n",
       "      <td>125228</td>\n",
       "      <td>1931</td>\n",
       "      <td>8706</td>\n",
       "      <td>306</td>\n",
       "      <td>1435792</td>\n",
       "      <td>94846</td>\n",
       "      <td>15138106</td>\n",
       "      <td>NaN</td>\n",
       "      <td>NaN</td>\n",
       "      <td>NaN</td>\n",
       "      <td>NaN</td>\n",
       "      <td>NaN</td>\n",
       "    </tr>\n",
       "  </tbody>\n",
       "</table>\n",
       "</div>"
      ],
      "text/plain": [
       "    Total Deaths                Country  Total Cases  Total Recovered  \\\n",
       "0           5853                Algeria       204597           140238   \n",
       "1           1622                 Angola        61378            49601   \n",
       "2            159                  Benin        24335            23257   \n",
       "3           2376               Botswana       180438           176595   \n",
       "4            195           Burkina Faso        14495            14028   \n",
       "5             38                Burundi        19041              773   \n",
       "6            346             Cabo Verde        37888            37070   \n",
       "7           1517               Cameroon        95399            80433   \n",
       "8            100                    CAR        11401             6859   \n",
       "9            174                   Chad         5059             4865   \n",
       "10           147                Comoros         4165             3997   \n",
       "11           206                  Congo        14833            12421   \n",
       "12           174               Djibouti        13179            12662   \n",
       "13          1087                    DRC        57132            50930   \n",
       "14         17695                  Egypt       312413           263557   \n",
       "15           154      Equatorial Guinea        12657            11601   \n",
       "16            42                Eritrea         6741             6669   \n",
       "17          1227               Eswatini        46276            44611   \n",
       "18          5990               Ethiopia       354476           323505   \n",
       "19           201                  Gabon        32135            27333   \n",
       "20           339                 Gambia         9941             9594   \n",
       "21          1158                  Ghana       128368           124514   \n",
       "22           383                 Guinea        30501            29069   \n",
       "23           135          Guinea-Bissau         6117             5349   \n",
       "24           666            Ivory Coast        60819            58893   \n",
       "25          5181                  Kenya       251152           243944   \n",
       "26           652                Lesotho        21457            11793   \n",
       "27           286                Liberia         5799             5458   \n",
       "28          4775                  Libya       346176           270140   \n",
       "29           958             Madagascar        42898            41322   \n",
       "30          2290                 Malawi        61676            56430   \n",
       "31           553                   Mali        15471            14378   \n",
       "32           785             Mauritania        36414            35174   \n",
       "33           106              Mauritius        16189             1854   \n",
       "34         14457                Morocco       939187           917807   \n",
       "35          1922             Mozambique       150985           147876   \n",
       "36          3527                Namibia       128106           123542   \n",
       "37           204                  Niger         6115             5799   \n",
       "38          2747                Nigeria       207694           195274   \n",
       "39          1308                 Rwanda        98697            45498   \n",
       "40            56  Sao Tome and Principe         3628             2974   \n",
       "41          1868                Senegal        73837            71921   \n",
       "42           118             Seychelles        21638            21242   \n",
       "43           121           Sierra Leone         6396             4393   \n",
       "44          1180                Somalia        21269             9927   \n",
       "45         88317           South Africa      2912145          2791256   \n",
       "46           130            South Sudan        12104            11617   \n",
       "47          2928                  Sudan        38824            32395   \n",
       "48           723               Tanzania        25957                2   \n",
       "49           236                   Togo        25778            24464   \n",
       "50         25028                Tunisia       709834           682353   \n",
       "51          3176                 Uganda       124646            96278   \n",
       "52          3654                 Zambia       209347           205478   \n",
       "53          4637               Zimbabwe       131796           125228   \n",
       "\n",
       "    Active Cases  Total Cases/1 mil population  Death/1 mil population  \\\n",
       "0          58506                          4561                     130   \n",
       "1          10155                          1797                      47   \n",
       "2            919                          1943                      13   \n",
       "3           1467                         74810                     985   \n",
       "4            272                           670                       9   \n",
       "5          18230                          1543                       3   \n",
       "6            472                         67216                     614   \n",
       "7          13449                          3484                      55   \n",
       "8           4442                          2310                      20   \n",
       "9             20                           297                      10   \n",
       "10            21                          4663                     165   \n",
       "11          2206                          2607                      36   \n",
       "12           343                         13097                     173   \n",
       "13          5115                           614                      12   \n",
       "14         31161                          2981                     169   \n",
       "15           902                          8661                     105   \n",
       "16            30                          1868                      12   \n",
       "17           438                         39369                    1044   \n",
       "18         24981                          2989                      51   \n",
       "19          4601                         14018                      88   \n",
       "20             8                          3972                     135   \n",
       "21          2696                          4024                      36   \n",
       "22          1049                          2245                      28   \n",
       "23           633                          3018                      67   \n",
       "24          1260                          2235                      24   \n",
       "25          2027                          4544                      94   \n",
       "26          9012                          9916                     301   \n",
       "27            55                          1113                      55   \n",
       "28         71261                         49523                     683   \n",
       "29           618                          1500                      34   \n",
       "30          2956                          3122                     116   \n",
       "31           540                           737                      26   \n",
       "32           455                          7579                     163   \n",
       "33         14229                         12703                      83   \n",
       "34          6923                         25067                     386   \n",
       "35          1187                          4665                      59   \n",
       "36          1037                         49283                    1357   \n",
       "37           112                           242                       8   \n",
       "38          9673                           977                      13   \n",
       "39         51891                          7388                      98   \n",
       "40           598                         16172                     250   \n",
       "41            48                          4267                     108   \n",
       "42           278                        218297                    1190   \n",
       "43          1882                           782                      15   \n",
       "44         10162                          1292                      72   \n",
       "45         32572                         48326                    1466   \n",
       "46           357                          1065                      11   \n",
       "47          3501                           860                      65   \n",
       "48             2                           419                      12   \n",
       "49          1078                          3024                      28   \n",
       "50          2453                         59271                    2090   \n",
       "51         25192                          2620                      67   \n",
       "52           215                         10997                     192   \n",
       "53          1931                          8706                     306   \n",
       "\n",
       "    Total Tests  Tests/1 mil population  Population  Unnamed: 10  Unnamed: 11  \\\n",
       "0        230861                    5147    44857594          NaN          NaN   \n",
       "1       1043451                   30543    34163081          NaN          NaN   \n",
       "2        604310                   48243    12526305          NaN          NaN   \n",
       "3       1770961                  734241     2411963          NaN          NaN   \n",
       "4        219242                   10136    21630767          NaN          NaN   \n",
       "5        345742                   28018    12340090          NaN          NaN   \n",
       "6        209870                  372326      563672          NaN          NaN   \n",
       "7       1751774                   63969    27384891          NaN          NaN   \n",
       "8         60228                   12200     4936522          NaN          NaN   \n",
       "9        147563                    8668    17023967          NaN          NaN   \n",
       "10            2                       2      893136          NaN          NaN   \n",
       "11       188207                   33074     5690553          NaN          NaN   \n",
       "12       225703                  224296     1006274          NaN          NaN   \n",
       "13       306299                    3293    93015571          NaN          NaN   \n",
       "14      3693367                   35246   104787578          NaN          NaN   \n",
       "15       195087                  133490     1461435          NaN          NaN   \n",
       "16        23693                    6565     3608855          NaN          NaN   \n",
       "17       356832                  303570     1175451          NaN          NaN   \n",
       "18      3551983                   29954   118579450          NaN          NaN   \n",
       "19      1245868                  543470     2292433          NaN          NaN   \n",
       "20       103187                   41228     2502829          NaN          NaN   \n",
       "21      1781277                   55845    31897055          NaN          NaN   \n",
       "22       560520                   41260    13584938          NaN          NaN   \n",
       "23        99393                   49033     2027073          NaN          NaN   \n",
       "24      1044828                   38402    27207688          NaN          NaN   \n",
       "25      2606152                   47148    55275926          NaN          NaN   \n",
       "26       222183                  102679     2163868          NaN          NaN   \n",
       "27       128246                   24622     5208655          NaN          NaN   \n",
       "28      1710768                  244740     6990148          NaN          NaN   \n",
       "29       249510                    8726    28594796          NaN          NaN   \n",
       "30       414671                   20988    19757517          NaN          NaN   \n",
       "31       431532                   20558    20990975          NaN          NaN   \n",
       "32       476512                   99174     4804806          NaN          NaN   \n",
       "33       358675                  281434     1274457          NaN          NaN   \n",
       "34      9843264                  262717    37467214          NaN          NaN   \n",
       "35       917886                   28359    32366737          NaN          NaN   \n",
       "36       719774                  276900     2599398          NaN          NaN   \n",
       "37       162213                    6407    25317186          NaN          NaN   \n",
       "38      3090114                   14533   212627048          NaN          NaN   \n",
       "39      2938657                  219961    13359900          NaN          NaN   \n",
       "40        14689                   65479      224332          NaN          NaN   \n",
       "41       813740                   47026    17304051          NaN          NaN   \n",
       "42        21504                  216945       99122          NaN          NaN   \n",
       "43       160729                   19642     8183112          NaN          NaN   \n",
       "44       239292                   14541    16455956          NaN          NaN   \n",
       "45     17982358                  298413    60260021          NaN          NaN   \n",
       "46       235462                   20726    11360709          NaN          NaN   \n",
       "47       238579                    5284    45149561          NaN          NaN   \n",
       "48            2                       2    61893320          NaN          NaN   \n",
       "49       526497                   61758     8525150          NaN          NaN   \n",
       "50      2994047                  250004    11975999          NaN          NaN   \n",
       "51      1723620                   36231    47573189          NaN          NaN   \n",
       "52      2506657                  131670    19037355          NaN          NaN   \n",
       "53      1435792                   94846    15138106          NaN          NaN   \n",
       "\n",
       "    Unnamed: 12  Unnamed: 13  Unnamed: 14  \n",
       "0           NaN          NaN          NaN  \n",
       "1           NaN          NaN          NaN  \n",
       "2           NaN          NaN          NaN  \n",
       "3           NaN          NaN          NaN  \n",
       "4           NaN          NaN          NaN  \n",
       "5           NaN          NaN          NaN  \n",
       "6           NaN          NaN          NaN  \n",
       "7           NaN          NaN          NaN  \n",
       "8           NaN          NaN          NaN  \n",
       "9           NaN          NaN          NaN  \n",
       "10          NaN          NaN          NaN  \n",
       "11          NaN          NaN          NaN  \n",
       "12          NaN          NaN          NaN  \n",
       "13          NaN          NaN          NaN  \n",
       "14          NaN          NaN          NaN  \n",
       "15          NaN          NaN          NaN  \n",
       "16          NaN          NaN          NaN  \n",
       "17          NaN          NaN          NaN  \n",
       "18          NaN          NaN          NaN  \n",
       "19          NaN          NaN          NaN  \n",
       "20          NaN          NaN          NaN  \n",
       "21          NaN          NaN          NaN  \n",
       "22          NaN          NaN          NaN  \n",
       "23          NaN          NaN          NaN  \n",
       "24          NaN          NaN          NaN  \n",
       "25          NaN          NaN          NaN  \n",
       "26          NaN          NaN          NaN  \n",
       "27          NaN          NaN          NaN  \n",
       "28          NaN          NaN          NaN  \n",
       "29          NaN          NaN          NaN  \n",
       "30          NaN          NaN          NaN  \n",
       "31          NaN          NaN          NaN  \n",
       "32          NaN          NaN          NaN  \n",
       "33          NaN          NaN          NaN  \n",
       "34          NaN          NaN          NaN  \n",
       "35          NaN          NaN          NaN  \n",
       "36          NaN          NaN          NaN  \n",
       "37          NaN          NaN          NaN  \n",
       "38          NaN          NaN          NaN  \n",
       "39          NaN          NaN          NaN  \n",
       "40          NaN          NaN          NaN  \n",
       "41          NaN          NaN          NaN  \n",
       "42          NaN          NaN          NaN  \n",
       "43          NaN          NaN          NaN  \n",
       "44          NaN          NaN          NaN  \n",
       "45          NaN          NaN          NaN  \n",
       "46          NaN          NaN          NaN  \n",
       "47          NaN          NaN          NaN  \n",
       "48          NaN          NaN          NaN  \n",
       "49          NaN          NaN          NaN  \n",
       "50          NaN          NaN          NaN  \n",
       "51          NaN          NaN          NaN  \n",
       "52          NaN          NaN          NaN  \n",
       "53          NaN          NaN          NaN  "
      ]
     },
     "execution_count": 2,
     "metadata": {},
     "output_type": "execute_result"
    }
   ],
   "source": [
    "import pandas as pd #librería para manejo de datos\n",
    "\n",
    "data= pd.read_excel ('covid_africa.xlsx') \n",
    "\n",
    "data"
   ]
  },
  {
   "cell_type": "markdown",
   "metadata": {},
   "source": [
    "### Vamos a ver los resultados de regresión"
   ]
  },
  {
   "cell_type": "code",
   "execution_count": 3,
   "metadata": {},
   "outputs": [
    {
     "data": {
      "text/html": [
       "<table class=\"simpletable\">\n",
       "<caption>OLS Regression Results</caption>\n",
       "<tr>\n",
       "  <th>Dep. Variable:</th>            <td>y</td>        <th>  R-squared:         </th> <td>   0.961</td>\n",
       "</tr>\n",
       "<tr>\n",
       "  <th>Model:</th>                   <td>OLS</td>       <th>  Adj. R-squared:    </th> <td>   0.957</td>\n",
       "</tr>\n",
       "<tr>\n",
       "  <th>Method:</th>             <td>Least Squares</td>  <th>  F-statistic:       </th> <td>   238.8</td>\n",
       "</tr>\n",
       "<tr>\n",
       "  <th>Date:</th>             <td>Fri, 10 Dec 2021</td> <th>  Prob (F-statistic):</th> <td>1.12e-32</td>\n",
       "</tr>\n",
       "<tr>\n",
       "  <th>Time:</th>                 <td>12:07:06</td>     <th>  Log-Likelihood:    </th> <td> -497.85</td>\n",
       "</tr>\n",
       "<tr>\n",
       "  <th>No. Observations:</th>      <td>    54</td>      <th>  AIC:               </th> <td>   1008.</td>\n",
       "</tr>\n",
       "<tr>\n",
       "  <th>Df Residuals:</th>          <td>    48</td>      <th>  BIC:               </th> <td>   1020.</td>\n",
       "</tr>\n",
       "<tr>\n",
       "  <th>Df Model:</th>              <td>     5</td>      <th>                     </th>     <td> </td>   \n",
       "</tr>\n",
       "<tr>\n",
       "  <th>Covariance Type:</th>      <td>nonrobust</td>    <th>                     </th>     <td> </td>   \n",
       "</tr>\n",
       "</table>\n",
       "<table class=\"simpletable\">\n",
       "<tr>\n",
       "                <td></td>                  <th>coef</th>     <th>std err</th>      <th>t</th>      <th>P>|t|</th>  <th>[0.025</th>    <th>0.975]</th>  \n",
       "</tr>\n",
       "<tr>\n",
       "  <th>const</th>                        <td>  -38.7946</td> <td>  555.373</td> <td>   -0.070</td> <td> 0.945</td> <td>-1155.447</td> <td> 1077.857</td>\n",
       "</tr>\n",
       "<tr>\n",
       "  <th>Total Recovered</th>              <td>    0.0294</td> <td>    0.001</td> <td>   25.382</td> <td> 0.000</td> <td>    0.027</td> <td>    0.032</td>\n",
       "</tr>\n",
       "<tr>\n",
       "  <th>Death/1 mil population</th>       <td>    3.6834</td> <td>    1.471</td> <td>    2.503</td> <td> 0.016</td> <td>    0.725</td> <td>    6.642</td>\n",
       "</tr>\n",
       "<tr>\n",
       "  <th>Total Cases/1 mil population</th> <td>   -0.0198</td> <td>    0.016</td> <td>   -1.257</td> <td> 0.215</td> <td>   -0.052</td> <td>    0.012</td>\n",
       "</tr>\n",
       "<tr>\n",
       "  <th>Tests/1 mil population</th>       <td>   -0.0069</td> <td>    0.003</td> <td>   -2.199</td> <td> 0.033</td> <td>   -0.013</td> <td>   -0.001</td>\n",
       "</tr>\n",
       "<tr>\n",
       "  <th>Population</th>                   <td>-2.972e-06</td> <td> 1.07e-05</td> <td>   -0.277</td> <td> 0.783</td> <td>-2.45e-05</td> <td> 1.86e-05</td>\n",
       "</tr>\n",
       "</table>\n",
       "<table class=\"simpletable\">\n",
       "<tr>\n",
       "  <th>Omnibus:</th>       <td>28.460</td> <th>  Durbin-Watson:     </th> <td>   1.955</td>\n",
       "</tr>\n",
       "<tr>\n",
       "  <th>Prob(Omnibus):</th> <td> 0.000</td> <th>  Jarque-Bera (JB):  </th> <td> 310.249</td>\n",
       "</tr>\n",
       "<tr>\n",
       "  <th>Skew:</th>          <td>-0.670</td> <th>  Prob(JB):          </th> <td>4.27e-68</td>\n",
       "</tr>\n",
       "<tr>\n",
       "  <th>Kurtosis:</th>      <td>14.666</td> <th>  Cond. No.          </th> <td>7.03e+07</td>\n",
       "</tr>\n",
       "</table><br/><br/>Notes:<br/>[1] Standard Errors assume that the covariance matrix of the errors is correctly specified.<br/>[2] The condition number is large, 7.03e+07. This might indicate that there are<br/>strong multicollinearity or other numerical problems."
      ],
      "text/plain": [
       "<class 'statsmodels.iolib.summary.Summary'>\n",
       "\"\"\"\n",
       "                            OLS Regression Results                            \n",
       "==============================================================================\n",
       "Dep. Variable:                      y   R-squared:                       0.961\n",
       "Model:                            OLS   Adj. R-squared:                  0.957\n",
       "Method:                 Least Squares   F-statistic:                     238.8\n",
       "Date:                Fri, 10 Dec 2021   Prob (F-statistic):           1.12e-32\n",
       "Time:                        12:07:06   Log-Likelihood:                -497.85\n",
       "No. Observations:                  54   AIC:                             1008.\n",
       "Df Residuals:                      48   BIC:                             1020.\n",
       "Df Model:                           5                                         \n",
       "Covariance Type:            nonrobust                                         \n",
       "================================================================================================\n",
       "                                   coef    std err          t      P>|t|      [0.025      0.975]\n",
       "------------------------------------------------------------------------------------------------\n",
       "const                          -38.7946    555.373     -0.070      0.945   -1155.447    1077.857\n",
       "Total Recovered                  0.0294      0.001     25.382      0.000       0.027       0.032\n",
       "Death/1 mil population           3.6834      1.471      2.503      0.016       0.725       6.642\n",
       "Total Cases/1 mil population    -0.0198      0.016     -1.257      0.215      -0.052       0.012\n",
       "Tests/1 mil population          -0.0069      0.003     -2.199      0.033      -0.013      -0.001\n",
       "Population                   -2.972e-06   1.07e-05     -0.277      0.783   -2.45e-05    1.86e-05\n",
       "==============================================================================\n",
       "Omnibus:                       28.460   Durbin-Watson:                   1.955\n",
       "Prob(Omnibus):                  0.000   Jarque-Bera (JB):              310.249\n",
       "Skew:                          -0.670   Prob(JB):                     4.27e-68\n",
       "Kurtosis:                      14.666   Cond. No.                     7.03e+07\n",
       "==============================================================================\n",
       "\n",
       "Notes:\n",
       "[1] Standard Errors assume that the covariance matrix of the errors is correctly specified.\n",
       "[2] The condition number is large, 7.03e+07. This might indicate that there are\n",
       "strong multicollinearity or other numerical problems.\n",
       "\"\"\""
      ]
     },
     "execution_count": 3,
     "metadata": {},
     "output_type": "execute_result"
    }
   ],
   "source": [
    "import statsmodels.api as sm\n",
    "# Modelo Regresión:  modeldata=covid_africa.values \n",
    "#   \"Total Cases\",  \"Total Tests\", \"Active Cases\",\n",
    "lista = data[[  \"Total Recovered\",    \"Death/1 mil population\", \"Total Cases/1 mil population\", \"Tests/1 mil population\", \"Population\"]]\n",
    "X=lista\n",
    "X = X.astype('float64')\n",
    "\n",
    "# Y=data[[\"Total Deaths\"]]\n",
    "\n",
    "Y=data.values[:,0]\n",
    "Y = Y.astype('float64')\n",
    "\n",
    "results = sm.OLS(Y, sm.add_constant(X)).fit()\n",
    "\n",
    "results.summary()\n"
   ]
  },
  {
   "cell_type": "markdown",
   "metadata": {},
   "source": [
    "## Test linealidad\n"
   ]
  },
  {
   "cell_type": "markdown",
   "metadata": {},
   "source": [
    "### Test de Harvey-Collier y Reset de Ramsey"
   ]
  },
  {
   "cell_type": "code",
   "execution_count": 4,
   "metadata": {},
   "outputs": [],
   "source": [
    "import statsmodels.stats.outliers_influence as oi #Para el test RESET de Ramsey\n",
    "import statsmodels.stats.diagnostic as diagn #Para el test de Harvey-Collier\n",
    "mco1 = sm.OLS(Y, sm.add_constant(X)).fit()"
   ]
  },
  {
   "cell_type": "markdown",
   "metadata": {},
   "source": [
    "#### Estos test nos permite saber si un modelo sigue una disposición lineal, a la hora de diagnosticar los valores de los residuos."
   ]
  },
  {
   "cell_type": "code",
   "execution_count": 5,
   "metadata": {},
   "outputs": [
    {
     "data": {
      "text/plain": [
       "Ttest_1sampResult(statistic=0.06295879195233976, pvalue=0.950066315053199)"
      ]
     },
     "execution_count": 5,
     "metadata": {},
     "output_type": "execute_result"
    }
   ],
   "source": [
    "from scipy import stats\n",
    "skip = len(mco1.params)  # bug in linear_harvey_collier\n",
    "rr = sms.recursive_olsresiduals(mco1, skip=skip, alpha=0.95, order_by=None)\n",
    "stats.ttest_1samp(rr[3][skip:], 0)"
   ]
  },
  {
   "cell_type": "markdown",
   "metadata": {},
   "source": [
    "#### Como el valor de p es: 0.9500663150531990.950066315053199 al ser mayor > 0.05, aceptamos la hipotesis."
   ]
  },
  {
   "cell_type": "code",
   "execution_count": 6,
   "metadata": {},
   "outputs": [
    {
     "name": "stdout",
     "output_type": "stream",
     "text": [
      "Test de RESET de Ramsey: \n"
     ]
    },
    {
     "data": {
      "text/plain": [
       "<class 'statsmodels.stats.contrast.ContrastResults'>\n",
       "<F test: F=array([[27.93605752]]), p=3.184640934567803e-06, df_denom=47, df_num=1>"
      ]
     },
     "execution_count": 6,
     "metadata": {},
     "output_type": "execute_result"
    }
   ],
   "source": [
    "print(\"Test de RESET de Ramsey: \")\n",
    "rr=oi.reset_ramsey(mco1, degree=2)\n",
    "rr"
   ]
  },
  {
   "cell_type": "markdown",
   "metadata": {},
   "source": [
    "#### Como el valor de p es extremedamente pequeño no podemos aceptar la hipotesis ya que esta deberia ser mayor que 0.05."
   ]
  },
  {
   "cell_type": "markdown",
   "metadata": {},
   "source": [
    "## Test de Autocorrelación"
   ]
  },
  {
   "cell_type": "markdown",
   "metadata": {},
   "source": [
    "### Test de Durbin Watson:\n",
    "\n",
    "#### Si el valor es 0, existe una correlacion bastante fuerte (positivamente).\n",
    "#### Si el valor es 4, existe una correlación bastante fuerte (negativamente)\n",
    "#### Si esta cerca de 2, quiere decir que no existe correlación.\n",
    "\n",
    "#### Miramos en la tabla de DW para comprobar su valor.\n",
    "\n",
    "#### Como nuestro modelo tiene 5 variables--> k=5\n",
    "#### dL = 1.374  y dU = 1.768\n",
    "#### Como se presenta 1.768 < 1.9549 < 4-1.768\n",
    "\n",
    "#### Por tanto presentamos unos residuos incorrelados."
   ]
  },
  {
   "cell_type": "code",
   "execution_count": 7,
   "metadata": {},
   "outputs": [
    {
     "name": "stdout",
     "output_type": "stream",
     "text": [
      "Durbin-Watson: 1.9549380214767726\n",
      "Rho inicial:  0.022530989261613676\n",
      "Iterations used = 12 Converged True\n",
      "Rho =  [0.02530359]\n"
     ]
    },
    {
     "data": {
      "text/html": [
       "<table class=\"simpletable\">\n",
       "<caption>GLSAR Regression Results</caption>\n",
       "<tr>\n",
       "  <th>Dep. Variable:</th>            <td>y</td>        <th>  R-squared:         </th> <td>   0.962</td>\n",
       "</tr>\n",
       "<tr>\n",
       "  <th>Model:</th>                  <td>GLSAR</td>      <th>  Adj. R-squared:    </th> <td>   0.958</td>\n",
       "</tr>\n",
       "<tr>\n",
       "  <th>Method:</th>             <td>Least Squares</td>  <th>  F-statistic:       </th> <td>   236.6</td>\n",
       "</tr>\n",
       "<tr>\n",
       "  <th>Date:</th>             <td>Fri, 10 Dec 2021</td> <th>  Prob (F-statistic):</th> <td>4.22e-32</td>\n",
       "</tr>\n",
       "<tr>\n",
       "  <th>Time:</th>                 <td>12:07:06</td>     <th>  Log-Likelihood:    </th> <td> -488.90</td>\n",
       "</tr>\n",
       "<tr>\n",
       "  <th>No. Observations:</th>      <td>    53</td>      <th>  AIC:               </th> <td>   989.8</td>\n",
       "</tr>\n",
       "<tr>\n",
       "  <th>Df Residuals:</th>          <td>    47</td>      <th>  BIC:               </th> <td>   1002.</td>\n",
       "</tr>\n",
       "<tr>\n",
       "  <th>Df Model:</th>              <td>     5</td>      <th>                     </th>     <td> </td>   \n",
       "</tr>\n",
       "<tr>\n",
       "  <th>Covariance Type:</th>      <td>nonrobust</td>    <th>                     </th>     <td> </td>   \n",
       "</tr>\n",
       "</table>\n",
       "<table class=\"simpletable\">\n",
       "<tr>\n",
       "                <td></td>                  <th>coef</th>     <th>std err</th>      <th>t</th>      <th>P>|t|</th>  <th>[0.025</th>    <th>0.975]</th>  \n",
       "</tr>\n",
       "<tr>\n",
       "  <th>const</th>                        <td>  -72.2297</td> <td>  567.355</td> <td>   -0.127</td> <td> 0.899</td> <td>-1213.602</td> <td> 1069.142</td>\n",
       "</tr>\n",
       "<tr>\n",
       "  <th>Total Recovered</th>              <td>    0.0294</td> <td>    0.001</td> <td>   25.226</td> <td> 0.000</td> <td>    0.027</td> <td>    0.032</td>\n",
       "</tr>\n",
       "<tr>\n",
       "  <th>Death/1 mil population</th>       <td>    3.6520</td> <td>    1.479</td> <td>    2.468</td> <td> 0.017</td> <td>    0.676</td> <td>    6.628</td>\n",
       "</tr>\n",
       "<tr>\n",
       "  <th>Total Cases/1 mil population</th> <td>   -0.0199</td> <td>    0.016</td> <td>   -1.257</td> <td> 0.215</td> <td>   -0.052</td> <td>    0.012</td>\n",
       "</tr>\n",
       "<tr>\n",
       "  <th>Tests/1 mil population</th>       <td>   -0.0067</td> <td>    0.003</td> <td>   -2.090</td> <td> 0.042</td> <td>   -0.013</td> <td>   -0.000</td>\n",
       "</tr>\n",
       "<tr>\n",
       "  <th>Population</th>                   <td>-3.661e-06</td> <td> 1.08e-05</td> <td>   -0.338</td> <td> 0.736</td> <td>-2.54e-05</td> <td> 1.81e-05</td>\n",
       "</tr>\n",
       "</table>\n",
       "<table class=\"simpletable\">\n",
       "<tr>\n",
       "  <th>Omnibus:</th>       <td>28.324</td> <th>  Durbin-Watson:     </th> <td>   2.007</td>\n",
       "</tr>\n",
       "<tr>\n",
       "  <th>Prob(Omnibus):</th> <td> 0.000</td> <th>  Jarque-Bera (JB):  </th> <td> 320.830</td>\n",
       "</tr>\n",
       "<tr>\n",
       "  <th>Skew:</th>          <td>-0.648</td> <th>  Prob(JB):          </th> <td>2.15e-70</td>\n",
       "</tr>\n",
       "<tr>\n",
       "  <th>Kurtosis:</th>      <td>14.983</td> <th>  Cond. No.          </th> <td>7.01e+07</td>\n",
       "</tr>\n",
       "</table><br/><br/>Notes:<br/>[1] Standard Errors assume that the covariance matrix of the errors is correctly specified.<br/>[2] The condition number is large, 7.01e+07. This might indicate that there are<br/>strong multicollinearity or other numerical problems."
      ],
      "text/plain": [
       "<class 'statsmodels.iolib.summary.Summary'>\n",
       "\"\"\"\n",
       "                           GLSAR Regression Results                           \n",
       "==============================================================================\n",
       "Dep. Variable:                      y   R-squared:                       0.962\n",
       "Model:                          GLSAR   Adj. R-squared:                  0.958\n",
       "Method:                 Least Squares   F-statistic:                     236.6\n",
       "Date:                Fri, 10 Dec 2021   Prob (F-statistic):           4.22e-32\n",
       "Time:                        12:07:06   Log-Likelihood:                -488.90\n",
       "No. Observations:                  53   AIC:                             989.8\n",
       "Df Residuals:                      47   BIC:                             1002.\n",
       "Df Model:                           5                                         \n",
       "Covariance Type:            nonrobust                                         \n",
       "================================================================================================\n",
       "                                   coef    std err          t      P>|t|      [0.025      0.975]\n",
       "------------------------------------------------------------------------------------------------\n",
       "const                          -72.2297    567.355     -0.127      0.899   -1213.602    1069.142\n",
       "Total Recovered                  0.0294      0.001     25.226      0.000       0.027       0.032\n",
       "Death/1 mil population           3.6520      1.479      2.468      0.017       0.676       6.628\n",
       "Total Cases/1 mil population    -0.0199      0.016     -1.257      0.215      -0.052       0.012\n",
       "Tests/1 mil population          -0.0067      0.003     -2.090      0.042      -0.013      -0.000\n",
       "Population                   -3.661e-06   1.08e-05     -0.338      0.736   -2.54e-05    1.81e-05\n",
       "==============================================================================\n",
       "Omnibus:                       28.324   Durbin-Watson:                   2.007\n",
       "Prob(Omnibus):                  0.000   Jarque-Bera (JB):              320.830\n",
       "Skew:                          -0.648   Prob(JB):                     2.15e-70\n",
       "Kurtosis:                      14.983   Cond. No.                     7.01e+07\n",
       "==============================================================================\n",
       "\n",
       "Notes:\n",
       "[1] Standard Errors assume that the covariance matrix of the errors is correctly specified.\n",
       "[2] The condition number is large, 7.01e+07. This might indicate that there are\n",
       "strong multicollinearity or other numerical problems.\n",
       "\"\"\""
      ]
     },
     "execution_count": 7,
     "metadata": {},
     "output_type": "execute_result"
    }
   ],
   "source": [
    "from statsmodels.stats.stattools import durbin_watson\n",
    "dw=durbin_watson(mco1.resid)\n",
    "\n",
    "print(\"Durbin-Watson:\", dw)\n",
    "\n",
    "rho= 1 - dw/2 # ro estimado inicial\n",
    "print (\"Rho inicial: \", rho) # rho inicial\n",
    "\n",
    "mco_autocorr=sm.GLSAR(Y, sm.add_constant(X), rho=rho)\n",
    "res = mco_autocorr.iterative_fit(maxiter=1000, rtol = 10**(-10)) # iteraciones y tolerancia, la tolerancia es si entre un rho y otro hay muy poca diferencia paro (10^-10)\n",
    "\n",
    "print ('Iterations used = %d Converged %s' % (res.iter, res.converged) )\n",
    "print ('Rho = ', mco_autocorr.rho)\n",
    "\n",
    "res.summary()"
   ]
  },
  {
   "cell_type": "markdown",
   "metadata": {},
   "source": [
    "#### En nuestro caso como nuestro valor es 2.049775773541431, pues podemos decir que no existe correlacion entre las variables.\n",
    "#### Con esto comprobamos el numero de iteraciones necesarias para conseguir el rho principal con un cierto grado de tolerancia."
   ]
  },
  {
   "cell_type": "markdown",
   "metadata": {},
   "source": [
    "### Test de Ljung-Box\n",
    "\n",
    "#### Con este test podemos probar si existe relacion en mi perturbación aleatoria con la de x años antes.\n",
    "#### Los lags son los retardos, pudiendo poner cualquier numero de años.\n",
    "#### Explicación: da el p valor, que es la siguiente lista, acepto las 3 hipotesis ya que todos los p valores son mas grande que la alfa (0.05)\n",
    "#### No deberiamos tener problema de autorcorrelación"
   ]
  },
  {
   "cell_type": "code",
   "execution_count": 8,
   "metadata": {},
   "outputs": [
    {
     "data": {
      "text/html": [
       "<div>\n",
       "<style scoped>\n",
       "    .dataframe tbody tr th:only-of-type {\n",
       "        vertical-align: middle;\n",
       "    }\n",
       "\n",
       "    .dataframe tbody tr th {\n",
       "        vertical-align: top;\n",
       "    }\n",
       "\n",
       "    .dataframe thead th {\n",
       "        text-align: right;\n",
       "    }\n",
       "</style>\n",
       "<table border=\"1\" class=\"dataframe\">\n",
       "  <thead>\n",
       "    <tr style=\"text-align: right;\">\n",
       "      <th></th>\n",
       "      <th>lb_stat</th>\n",
       "      <th>lb_pvalue</th>\n",
       "    </tr>\n",
       "  </thead>\n",
       "  <tbody>\n",
       "    <tr>\n",
       "      <th>1</th>\n",
       "      <td>0.018465</td>\n",
       "      <td>0.891913</td>\n",
       "    </tr>\n",
       "    <tr>\n",
       "      <th>2</th>\n",
       "      <td>0.538936</td>\n",
       "      <td>0.763786</td>\n",
       "    </tr>\n",
       "    <tr>\n",
       "      <th>3</th>\n",
       "      <td>0.567103</td>\n",
       "      <td>0.903920</td>\n",
       "    </tr>\n",
       "  </tbody>\n",
       "</table>\n",
       "</div>"
      ],
      "text/plain": [
       "    lb_stat  lb_pvalue\n",
       "1  0.018465   0.891913\n",
       "2  0.538936   0.763786\n",
       "3  0.567103   0.903920"
      ]
     },
     "execution_count": 8,
     "metadata": {},
     "output_type": "execute_result"
    }
   ],
   "source": [
    "from statsmodels.stats.diagnostic import acorr_ljungbox # analizamos con Ljung-Box si existen relaccion en mi pertubacion aleatoria con la de m años antes\n",
    "mco2=sm.OLS(Y, sm.add_constant(X)).fit()\n",
    "acorr_ljungbox(mco2.resid, lags=3, return_df=True) # lags son los retardos, comparo hasta con 3 años antes\n"
   ]
  },
  {
   "cell_type": "markdown",
   "metadata": {},
   "source": [
    "#### - En nuestro caso, como nuestros valores no son tan pequeño, podemos decir que no existe una relación muy fuerte."
   ]
  },
  {
   "cell_type": "markdown",
   "metadata": {},
   "source": [
    "## Tests de Heterocedasticidad"
   ]
  },
  {
   "cell_type": "markdown",
   "metadata": {},
   "source": [
    "### En un modelo hay heterocedasticidad cuando la varianza de los errores no es igual en todas las observaciones realizadas. \n",
    "\n",
    "#### Por lo que buscamos comprobar así, si se cumple uno de los requisitos básicos de las hipótesis de los modelos lineales."
   ]
  },
  {
   "cell_type": "markdown",
   "metadata": {},
   "source": [
    "### Test de goldfelquandt"
   ]
  },
  {
   "cell_type": "markdown",
   "metadata": {},
   "source": [
    "#### Este test es para muestras pequeñas\n",
    "#### Test goldfelquandt , split es el numero de elementos que pone en cada trozo, si no pones nada divide en 2 por defecto.\n",
    "#### Para dividir entre 3 las variables, para comparar los maximos y minimos."
   ]
  },
  {
   "cell_type": "code",
   "execution_count": 9,
   "metadata": {},
   "outputs": [
    {
     "name": "stdout",
     "output_type": "stream",
     "text": [
      "(1.3942643987351242, 0.22637472263591138, 'increasing')\n"
     ]
    }
   ],
   "source": [
    "import statsmodels.stats.api as sms\n",
    "\n",
    "GQ = sms.het_goldfeldquandt(mco1.resid, mco1.model.exog) \n",
    "\n",
    "#Hipotesis nula homocedasticidad, no tengo un problema de heterocedasticidad\n",
    "#Todo numero mayor que 0.05 rechazo entonces tengo heterocedasticidad\n",
    "\n",
    "print (GQ)"
   ]
  },
  {
   "cell_type": "markdown",
   "metadata": {},
   "source": [
    "#### Como nuestro p-valor es: 0.337956702000184, al ser mayor que 0.05, podemos decir que nuestro modelo no tiene problemas de heterocedasticidad."
   ]
  },
  {
   "cell_type": "markdown",
   "metadata": {},
   "source": [
    "### Test de Breush-Pagan homocedasticidad "
   ]
  },
  {
   "cell_type": "markdown",
   "metadata": {},
   "source": [
    "#### Test para muestras mas grandes\n",
    "#### Los dos ultimos valores me interesan , el estadistico experimental y P valor:\n",
    "#### - (como este es mayor que 0.05 no tengo probelma de heterocedasticidad) tengo homocedasticidad porque nuestro valor es mas pequeño 0,05\n",
    "#### - (alpha nivel de significacion a partir del cual empiezo a rechazar el modelo)"
   ]
  },
  {
   "cell_type": "code",
   "execution_count": 10,
   "metadata": {},
   "outputs": [
    {
     "name": "stdout",
     "output_type": "stream",
     "text": [
      "(9.89058255830322, 0.07839557440419148, 2.1525923049247706, 0.07507412444391537)\n"
     ]
    }
   ],
   "source": [
    "#BREUSH-PAGAN\n",
    "BP = sms.het_breuschpagan(mco1.resid, mco1.model.exog)\n",
    "\n",
    "\n",
    "print (BP)"
   ]
  },
  {
   "cell_type": "markdown",
   "metadata": {},
   "source": [
    "#### Como este nuestro modelo sale con un valor de: 0.07507412444391537 > 0.05, por tanto aceptamos la hipotesis y decimos que tenemos problemas de heterocedasticidad."
   ]
  },
  {
   "cell_type": "markdown",
   "metadata": {},
   "source": [
    "### Test de White"
   ]
  },
  {
   "cell_type": "markdown",
   "metadata": {},
   "source": [
    "#### Test para muestras mas grandes\n",
    "#### El test de white es muy parecido, pero tiene en cuenta el producto de las variables\n",
    "#### Si me da significacion global no tengo problema de heterocedasticidad"
   ]
  },
  {
   "cell_type": "code",
   "execution_count": 11,
   "metadata": {},
   "outputs": [
    {
     "name": "stdout",
     "output_type": "stream",
     "text": [
      "(53.08044701284705, 2.5495220968913715e-05, 112.24147139396045, 1.2709406897749438e-25)\n"
     ]
    }
   ],
   "source": [
    "#WHITE\n",
    "W=sms.het_white(mco1.resid, mco1.model.exog)\n",
    "print (W) "
   ]
  },
  {
   "cell_type": "markdown",
   "metadata": {},
   "source": [
    "#### Como este test se basa en muestras grandes, nuestro modelo no va a cumplir el requisito de ser > 0.05 y por tanto rechazamos la hipotesis."
   ]
  },
  {
   "cell_type": "markdown",
   "metadata": {},
   "source": [
    "### Test de Glejser\n",
    "\n",
    "#### Vamos a comprobar todas estas variables y nos vamos a quedar con la que tenga el R2 mas grande, si este valor es mayor que 0.05:\n",
    "#### Ese sera nuestro Z^2, el cual se puede corregir con minimos cuadrados ponderados, multiplicando mis datos por 1/sqrt(Z^2)."
   ]
  },
  {
   "cell_type": "code",
   "execution_count": 12,
   "metadata": {},
   "outputs": [
    {
     "name": "stdout",
     "output_type": "stream",
     "text": [
      "-------------------------\n",
      "Para la variable: Total Recovered\n",
      "h:  -2 -> pvalt: 0.876913072681035 R2:  0.00046567395254559774\n",
      "h:  -1 -> pvalt: 0.8742276214470905 R2:  0.00048638267421252657\n",
      "h:  -0.5 -> pvalt: 0.7572246925240808 R2:  0.0018537174510683263\n",
      "h:  0.5 -> pvalt: 6.018350817537882e-06 R2:  0.32804860328781416\n",
      "h:  1 -> pvalt: 0.0010046247808382911 R2:  0.18944214657600844\n",
      "h:  2 -> pvalt: 0.0631749677198063 R2:  0.06482583513830187\n",
      "-------------------------\n",
      "-------------------------\n",
      "Para la variable: Death/1 mil population\n",
      "h:  -2 -> pvalt: 0.4274594312633496 R2:  0.012152358419017961\n",
      "h:  -1 -> pvalt: 0.11498308049665701 R2:  0.04709098651233212\n",
      "h:  -0.5 -> pvalt: 0.03708483120684973 R2:  0.08092591862347498\n",
      "h:  0.5 -> pvalt: 0.11728095398125604 R2:  0.0465154583583931\n",
      "h:  1 -> pvalt: 0.3396570490095645 R2:  0.017546551541621103\n",
      "h:  2 -> pvalt: 0.7497598533679334 R2:  0.001973351251093658\n",
      "-------------------------\n",
      "-------------------------\n",
      "Para la variable: Total Cases/1 mil population\n",
      "h:  -2 -> pvalt: 0.3243927733717046 R2:  0.018679499841142477\n",
      "h:  -1 -> pvalt: 0.14217808486819083 R2:  0.04096359446196163\n",
      "h:  -0.5 -> pvalt: 0.06871621766396395 R2:  0.062306303569331645\n",
      "h:  0.5 -> pvalt: 0.21616208144056578 R2:  0.02926348695392722\n",
      "h:  1 -> pvalt: 0.5923351743488876 R2:  0.00555147311067683\n",
      "h:  2 -> pvalt: 0.9681086683475418 R2:  3.103574076379623e-05\n",
      "-------------------------\n",
      "-------------------------\n",
      "Para la variable: Tests/1 mil population\n",
      "h:  -2 -> pvalt: 0.706128024648275 R2:  0.002756741414814967\n",
      "h:  -1 -> pvalt: 0.705573187138301 R2:  0.002767655838488925\n",
      "h:  -0.5 -> pvalt: 0.6751349999102398 R2:  0.0034047785727122637\n",
      "h:  0.5 -> pvalt: 0.06100280662268487 R2:  0.06587648395832624\n",
      "h:  1 -> pvalt: 0.11362835754936816 R2:  0.04743610386871777\n",
      "h:  2 -> pvalt: 0.45777429425889316 R2:  0.010647769092718362\n",
      "-------------------------\n",
      "-------------------------\n",
      "Para la variable: Population\n",
      "h:  -2 -> pvalt: 0.8178333696911678 R2:  0.0010295771822161903\n",
      "h:  -1 -> pvalt: 0.6191280369009049 R2:  0.004786226067871269\n",
      "h:  -0.5 -> pvalt: 0.2854520747439237 R2:  0.02190931819082398\n",
      "h:  0.5 -> pvalt: 0.0039027467123639572 R2:  0.1492951623403913\n",
      "h:  1 -> pvalt: 0.005676316059147533 R2:  0.13802111614657986\n",
      "h:  2 -> pvalt: 0.009355853945953976 R2:  -0.18507264437581172\n",
      "-------------------------\n",
      "Total Recovered: provoca problema en la heterocedasticidad.\n"
     ]
    },
    {
     "data": {
      "text/html": [
       "<table class=\"simpletable\">\n",
       "<caption>WLS Regression Results</caption>\n",
       "<tr>\n",
       "  <th>Dep. Variable:</th>            <td>y</td>        <th>  R-squared:         </th> <td>   0.946</td>\n",
       "</tr>\n",
       "<tr>\n",
       "  <th>Model:</th>                   <td>WLS</td>       <th>  Adj. R-squared:    </th> <td>   0.940</td>\n",
       "</tr>\n",
       "<tr>\n",
       "  <th>Method:</th>             <td>Least Squares</td>  <th>  F-statistic:       </th> <td>   167.4</td>\n",
       "</tr>\n",
       "<tr>\n",
       "  <th>Date:</th>             <td>Fri, 10 Dec 2021</td> <th>  Prob (F-statistic):</th> <td>3.72e-29</td>\n",
       "</tr>\n",
       "<tr>\n",
       "  <th>Time:</th>                 <td>12:07:07</td>     <th>  Log-Likelihood:    </th> <td> -468.53</td>\n",
       "</tr>\n",
       "<tr>\n",
       "  <th>No. Observations:</th>      <td>    54</td>      <th>  AIC:               </th> <td>   949.1</td>\n",
       "</tr>\n",
       "<tr>\n",
       "  <th>Df Residuals:</th>          <td>    48</td>      <th>  BIC:               </th> <td>   961.0</td>\n",
       "</tr>\n",
       "<tr>\n",
       "  <th>Df Model:</th>              <td>     5</td>      <th>                     </th>     <td> </td>   \n",
       "</tr>\n",
       "<tr>\n",
       "  <th>Covariance Type:</th>      <td>nonrobust</td>    <th>                     </th>     <td> </td>   \n",
       "</tr>\n",
       "</table>\n",
       "<table class=\"simpletable\">\n",
       "<tr>\n",
       "                <td></td>                  <th>coef</th>     <th>std err</th>      <th>t</th>      <th>P>|t|</th>  <th>[0.025</th>    <th>0.975]</th>  \n",
       "</tr>\n",
       "<tr>\n",
       "  <th>const</th>                        <td>   94.2346</td> <td>  194.957</td> <td>    0.483</td> <td> 0.631</td> <td> -297.752</td> <td>  486.222</td>\n",
       "</tr>\n",
       "<tr>\n",
       "  <th>Total Recovered</th>              <td>    0.0295</td> <td>    0.001</td> <td>   22.708</td> <td> 0.000</td> <td>    0.027</td> <td>    0.032</td>\n",
       "</tr>\n",
       "<tr>\n",
       "  <th>Death/1 mil population</th>       <td>    0.9318</td> <td>    0.536</td> <td>    1.737</td> <td> 0.089</td> <td>   -0.147</td> <td>    2.010</td>\n",
       "</tr>\n",
       "<tr>\n",
       "  <th>Total Cases/1 mil population</th> <td>   -0.0049</td> <td>    0.003</td> <td>   -1.941</td> <td> 0.058</td> <td>   -0.010</td> <td>    0.000</td>\n",
       "</tr>\n",
       "<tr>\n",
       "  <th>Tests/1 mil population</th>       <td>   -0.0030</td> <td>    0.001</td> <td>   -3.618</td> <td> 0.001</td> <td>   -0.005</td> <td>   -0.001</td>\n",
       "</tr>\n",
       "<tr>\n",
       "  <th>Population</th>                   <td>-7.075e-06</td> <td> 1.56e-05</td> <td>   -0.452</td> <td> 0.653</td> <td>-3.85e-05</td> <td> 2.44e-05</td>\n",
       "</tr>\n",
       "</table>\n",
       "<table class=\"simpletable\">\n",
       "<tr>\n",
       "  <th>Omnibus:</th>       <td>25.144</td> <th>  Durbin-Watson:     </th> <td>   2.092</td>\n",
       "</tr>\n",
       "<tr>\n",
       "  <th>Prob(Omnibus):</th> <td> 0.000</td> <th>  Jarque-Bera (JB):  </th> <td>  89.043</td>\n",
       "</tr>\n",
       "<tr>\n",
       "  <th>Skew:</th>          <td>-1.075</td> <th>  Prob(JB):          </th> <td>4.62e-20</td>\n",
       "</tr>\n",
       "<tr>\n",
       "  <th>Kurtosis:</th>      <td> 8.912</td> <th>  Cond. No.          </th> <td>1.52e+07</td>\n",
       "</tr>\n",
       "</table><br/><br/>Notes:<br/>[1] Standard Errors assume that the covariance matrix of the errors is correctly specified.<br/>[2] The condition number is large, 1.52e+07. This might indicate that there are<br/>strong multicollinearity or other numerical problems."
      ],
      "text/plain": [
       "<class 'statsmodels.iolib.summary.Summary'>\n",
       "\"\"\"\n",
       "                            WLS Regression Results                            \n",
       "==============================================================================\n",
       "Dep. Variable:                      y   R-squared:                       0.946\n",
       "Model:                            WLS   Adj. R-squared:                  0.940\n",
       "Method:                 Least Squares   F-statistic:                     167.4\n",
       "Date:                Fri, 10 Dec 2021   Prob (F-statistic):           3.72e-29\n",
       "Time:                        12:07:07   Log-Likelihood:                -468.53\n",
       "No. Observations:                  54   AIC:                             949.1\n",
       "Df Residuals:                      48   BIC:                             961.0\n",
       "Df Model:                           5                                         \n",
       "Covariance Type:            nonrobust                                         \n",
       "================================================================================================\n",
       "                                   coef    std err          t      P>|t|      [0.025      0.975]\n",
       "------------------------------------------------------------------------------------------------\n",
       "const                           94.2346    194.957      0.483      0.631    -297.752     486.222\n",
       "Total Recovered                  0.0295      0.001     22.708      0.000       0.027       0.032\n",
       "Death/1 mil population           0.9318      0.536      1.737      0.089      -0.147       2.010\n",
       "Total Cases/1 mil population    -0.0049      0.003     -1.941      0.058      -0.010       0.000\n",
       "Tests/1 mil population          -0.0030      0.001     -3.618      0.001      -0.005      -0.001\n",
       "Population                   -7.075e-06   1.56e-05     -0.452      0.653   -3.85e-05    2.44e-05\n",
       "==============================================================================\n",
       "Omnibus:                       25.144   Durbin-Watson:                   2.092\n",
       "Prob(Omnibus):                  0.000   Jarque-Bera (JB):               89.043\n",
       "Skew:                          -1.075   Prob(JB):                     4.62e-20\n",
       "Kurtosis:                       8.912   Cond. No.                     1.52e+07\n",
       "==============================================================================\n",
       "\n",
       "Notes:\n",
       "[1] Standard Errors assume that the covariance matrix of the errors is correctly specified.\n",
       "[2] The condition number is large, 1.52e+07. This might indicate that there are\n",
       "strong multicollinearity or other numerical problems.\n",
       "\"\"\""
      ]
     },
     "execution_count": 12,
     "metadata": {},
     "output_type": "execute_result"
    }
   ],
   "source": [
    "maximo=\"\"\n",
    "alfa=0.05\n",
    "r_maximo=0.0\n",
    "\n",
    "# \"Total Cases\", \"Total Tests\", \"Active Cases\",\n",
    "xnames=[\"Total Recovered\", \"Death/1 mil population\", \"Total Cases/1 mil population\", \"Tests/1 mil population\", \"Population\"]\n",
    "\n",
    "for i in xnames:\n",
    "    print(\"-------------------------\")    \n",
    "    print(\"Para la variable: \" + i)\n",
    "    z=data[i]\n",
    "    z = z.astype('float64')\n",
    "    for h in [-2,-1,-0.5,0.5,1,2]:\n",
    "        mco_glejser=sm.OLS(abs(mco1.resid),sm.add_constant((z**h))).fit()\n",
    "        p_valor=mco_glejser.pvalues[1]\n",
    "        r2=mco_glejser.rsquared\n",
    "        print(\"h: \",h,\"-> pvalt:\",p_valor,\"R2: \", mco_glejser.rsquared)\n",
    "        if((p_valor<alfa) and (r2>r_maximo)):\n",
    "            r_maximo=r2\n",
    "            maximo=i\n",
    "    print(\"-------------------------\")        \n",
    "\n",
    "print(maximo + \": provoca problema en la heterocedasticidad.\")\n",
    "mcp = sm.WLS(Y, sm.add_constant(X),weights=1./np.sqrt (z**2)).fit()\n",
    "mcp.summary()\n"
   ]
  },
  {
   "cell_type": "markdown",
   "metadata": {},
   "source": [
    "## Tests de Multicolinealidad"
   ]
  },
  {
   "cell_type": "code",
   "execution_count": 13,
   "metadata": {},
   "outputs": [
    {
     "name": "stdout",
     "output_type": "stream",
     "text": [
      "Condition number:  70268054.63283534\n"
     ]
    }
   ],
   "source": [
    "print(\"Condition number: \", mco1.condition_number) #Número de Condición\n",
    "\n",
    "#Tendriamos problemas de multicolinealidad si fuese mayor que 900, ya que esta al cuadrado\n",
    "# Tenemos un problema gordo porque nuestro valor > 900."
   ]
  },
  {
   "cell_type": "markdown",
   "metadata": {},
   "source": [
    "### Test de Vifs\n",
    "\n",
    "#### Comprobamos el factor de inflacion de la varianza en todas las variables.\n",
    "\n",
    "#### Posibles resultados:\n",
    "\n",
    "#### Si sale mayor que 10: tenemos problema de multicolinealidad.\n",
    "#### Si sale mayor que 20: problema gordo de multicolinealidad."
   ]
  },
  {
   "cell_type": "code",
   "execution_count": 14,
   "metadata": {},
   "outputs": [
    {
     "data": {
      "text/plain": [
       "[1.892149893932364,\n",
       " 4.236153992659272,\n",
       " 2.681064354031329,\n",
       " 2.127745109432254,\n",
       " 1.1713867133205422]"
      ]
     },
     "execution_count": 14,
     "metadata": {},
     "output_type": "execute_result"
    }
   ],
   "source": [
    "import statsmodels.stats.outliers_influence as oi\n",
    "\n",
    "vifs=[oi.variance_inflation_factor(X.values, i) for i in range(X.shape[1])]\n",
    "\n",
    "vifs"
   ]
  },
  {
   "cell_type": "markdown",
   "metadata": {},
   "source": [
    "#### En este caso tenemos problema de multicolinealidad solamente en 2 variables."
   ]
  },
  {
   "cell_type": "markdown",
   "metadata": {},
   "source": [
    "### Matriz de correlaciones:\n",
    "\n",
    "#### Se busca que la matriz se asemeje a la matriz identidad para sacar como factor comun la varianza como la multiplicacion de esta por la identidad."
   ]
  },
  {
   "cell_type": "code",
   "execution_count": 15,
   "metadata": {},
   "outputs": [
    {
     "name": "stdout",
     "output_type": "stream",
     "text": [
      "[[ 1.          0.52177148  0.18781035  0.26473752  0.23077628]\n",
      " [ 0.52177148  1.          0.70020222  0.59659099 -0.15004533]\n",
      " [ 0.18781035  0.70020222  1.          0.52916249 -0.19110093]\n",
      " [ 0.26473752  0.59659099  0.52916249  1.         -0.26075754]\n",
      " [ 0.23077628 -0.15004533 -0.19110093 -0.26075754  1.        ]]\n"
     ]
    }
   ],
   "source": [
    "#Matriz de correlacciones\n",
    "corr_matrix=np.corrcoef(X.T) #X.T = matriz X traspuesta\n",
    "print(corr_matrix)"
   ]
  },
  {
   "cell_type": "markdown",
   "metadata": {},
   "source": [
    "#### Como nuestra matriz se asemeja bastante a la matriz de identidad, podemos aceptar la idea de que no exista autocorrelación"
   ]
  },
  {
   "cell_type": "code",
   "execution_count": 16,
   "metadata": {},
   "outputs": [
    {
     "data": {
      "image/png": "[encoded data removed]",
      "text/plain": [
       "<Figure size 432x288 with 2 Axes>"
      ]
     },
     "metadata": {
      "needs_background": "light"
     },
     "output_type": "display_data"
    }
   ],
   "source": [
    "import statsmodels.graphics.api as smg\n",
    "#\"Total Cases\",  \"Total Tests\",   \"Active Cases\",\n",
    "smg.plot_corr(corr_matrix, xnames=[   \"Total Recovered\",  \"Death/1 mil population\", \"Total Cases/1 mil population\", \"Tests/1 mil population\", \"Population\"])\n",
    "plt.show()"
   ]
  },
  {
   "cell_type": "markdown",
   "metadata": {},
   "source": [
    "## Normalidad de los Residuos"
   ]
  },
  {
   "cell_type": "markdown",
   "metadata": {},
   "source": [
    "- Jarque-Bera: Test de hipótesis que contrasta si los datos de la muestra tienen el coeficiente de simetría y la curtósis de una distribución normal.\n",
    "- $\\chi^2$ (p-valor): p-valor del Test de Jaque-Bera.\n",
    "- Skew: Coeficiente de Simetría de pearson de los residuos.\n",
    "- Kurtosis: Coeficiente de apuntamiento de los residuos."
   ]
  },
  {
   "cell_type": "markdown",
   "metadata": {},
   "source": [
    "#### Analisis de los resultados:\n",
    "\n",
    "#### - Para que aceptemos la hipotesis de la normalidad nula (Chi-cuadrado y Jarque-Bera), nuestro p-valor debe ser mayor que alfa (0.05).\n",
    "#### - Para que aceptemos la hipotesis de la simetria de skew, nuestro valor tiene que ser proximo a 0.\n",
    "#### - Para que aceptemos la hipotesis de kurtosis, el valor debe ser proximo a 4."
   ]
  },
  {
   "cell_type": "code",
   "execution_count": 17,
   "metadata": {},
   "outputs": [
    {
     "name": "stdout",
     "output_type": "stream",
     "text": [
      "Jarque-Bera 310.2491466410718\n",
      "Chi^2 two-tail prob. 4.268288823709131e-68\n",
      "Skew -0.6702477064416816\n",
      "Kurtosis 14.665829660435334\n"
     ]
    }
   ],
   "source": [
    "mco_res = sm.OLS(Y, sm.add_constant(X)).fit()\n",
    "name = ['Jarque-Bera', 'Chi^2 two-tail prob.', 'Skew', 'Kurtosis']\n",
    "test = sms.jarque_bera(mco_res.resid)\n",
    "for i in range(4):\n",
    "    print(name[i], test[i])"
   ]
  },
  {
   "cell_type": "markdown",
   "metadata": {},
   "source": [
    "#### Como nuestro Chi-cuadrado es: 5.192827366266701e-71 < 0.05, no podemos aceptar la hipotesis de la normalidad nula.\n",
    "#### El valor de nuestro Skew es: 1.5756829717965635,  no podemos decir que es sigue un modelo simetrico ya que es no es proximo a 0.\n",
    "#### Nuestro valor de kurtosis es: 14.572525607665003, por lo que deberias rechazarlo ya que no es proximo a 4."
   ]
  },
  {
   "cell_type": "code",
   "execution_count": 18,
   "metadata": {},
   "outputs": [
    {
     "data": {
      "image/png": "[encoded data removed]",
      "text/plain": [
       "<Figure size 432x288 with 1 Axes>"
      ]
     },
     "metadata": {
      "needs_background": "light"
     },
     "output_type": "display_data"
    },
    {
     "data": {
      "image/png": "[encoded data removed]",
      "text/plain": [
       "<Figure size 432x288 with 1 Axes>"
      ]
     },
     "metadata": {
      "needs_background": "light"
     },
     "output_type": "display_data"
    }
   ],
   "source": [
    "from matplotlib import pyplot\n",
    "from statsmodels.graphics.gofplots import qqplot\n",
    "pyplot.hist(mco1.resid)\n",
    "pyplot.show()\n",
    "qqplot(mco1.resid, line='s')\n",
    "pyplot.show()"
   ]
  },
  {
   "cell_type": "markdown",
   "metadata": {},
   "source": [
    "#### Como nuestros datos al menos la mitad de ellos se encuentran por encima de la media, no estan del todo mal."
   ]
  },
  {
   "cell_type": "markdown",
   "metadata": {},
   "source": [
    "- Komogorov-Smirnov: Test de Hipótesis para contrastar si una muestra proviene de una distribución (en este caso normal)."
   ]
  },
  {
   "cell_type": "code",
   "execution_count": 19,
   "metadata": {},
   "outputs": [
    {
     "data": {
      "text/plain": [
       "(0.23177629481614317, 0.0009999999999998899)"
      ]
     },
     "execution_count": 19,
     "metadata": {},
     "output_type": "execute_result"
    }
   ],
   "source": [
    "import statsmodels.stats.diagnostic as diag\n",
    "\n",
    "diag.kstest_normal(mco1.resid)"
   ]
  },
  {
   "cell_type": "markdown",
   "metadata": {},
   "source": [
    "#### Tambien lo del p-valor > 0.05"
   ]
  },
  {
   "cell_type": "markdown",
   "metadata": {},
   "source": [
    "### Del modelo se pueden extraer otras medidas como:\n",
    "\n",
    "* Valores predichos $\\hat y$\n",
    "* Residuos\n",
    "  \n"
   ]
  },
  {
   "cell_type": "code",
   "execution_count": 20,
   "metadata": {},
   "outputs": [
    {
     "name": "stdout",
     "output_type": "stream",
     "text": [
      "0      1542.925543\n",
      "1       376.305318\n",
      "2      -124.249774\n",
      "3       174.901876\n",
      "4       -64.486241\n",
      "5       304.775151\n",
      "6       951.440521\n",
      "7      -420.700562\n",
      "8         8.343657\n",
      "9       149.368058\n",
      "10     -444.496618\n",
      "11       44.667442\n",
      "12     1022.602915\n",
      "13     -106.621004\n",
      "14     9965.650433\n",
      "15      567.285803\n",
      "16      -66.427495\n",
      "17    -1001.444034\n",
      "18    -3065.567383\n",
      "19     3168.507740\n",
      "20      -29.537006\n",
      "21    -2040.034667\n",
      "22     -165.985254\n",
      "23      175.782042\n",
      "24     -726.022002\n",
      "25    -1728.081874\n",
      "26      150.769082\n",
      "27      169.974333\n",
      "28    -2954.514563\n",
      "29     -169.917635\n",
      "30      506.191552\n",
      "31      292.366632\n",
      "32       40.742601\n",
      "33     1994.012227\n",
      "34   -11520.077835\n",
      "35    -2225.388721\n",
      "36    -2162.864092\n",
      "37      167.094576\n",
      "38    -2260.026116\n",
      "39     1359.310034\n",
      "40     -137.581991\n",
      "41     -146.321204\n",
      "42      985.077704\n",
      "43      151.376040\n",
      "44      836.756393\n",
      "45     3971.602021\n",
      "46      -15.029774\n",
      "47     1961.382204\n",
      "48      909.827873\n",
      "49      -34.668614\n",
      "50      222.248228\n",
      "51      577.818690\n",
      "52    -1876.291625\n",
      "53      737.229400\n",
      "dtype: float64\n"
     ]
    },
    {
     "data": {
      "text/plain": [
       "-4.861164968503915e-11"
      ]
     },
     "execution_count": 20,
     "metadata": {},
     "output_type": "execute_result"
    }
   ],
   "source": [
    "mco1 = sm.OLS(Y, sm.add_constant(X)).fit()\n",
    "yhat=mco1.fittedvalues\n",
    "e=mco1.resid\n",
    "print(e)\n",
    "np.mean(e)"
   ]
  },
  {
   "cell_type": "markdown",
   "metadata": {},
   "source": [
    "* Suma de Cuadrados Totales (SCT)"
   ]
  },
  {
   "cell_type": "code",
   "execution_count": 21,
   "metadata": {},
   "outputs": [
    {
     "data": {
      "text/plain": [
       "8328625895.87037"
      ]
     },
     "execution_count": 21,
     "metadata": {},
     "output_type": "execute_result"
    }
   ],
   "source": [
    "mco1.centered_tss\n",
    "\n",
    "#sum((Y-np.mean(Y))**2)"
   ]
  },
  {
   "cell_type": "markdown",
   "metadata": {},
   "source": [
    "* Suma de Cuadrados Explicada (SCE)"
   ]
  },
  {
   "cell_type": "code",
   "execution_count": 22,
   "metadata": {},
   "outputs": [
    {
     "data": {
      "text/plain": [
       "8006698550.104341"
      ]
     },
     "execution_count": 22,
     "metadata": {},
     "output_type": "execute_result"
    }
   ],
   "source": [
    "mco1.ess\n",
    "#print(\"Suma de Cuadrados Explicada (SCE): \", sum((mco1.fittedvalues-np.mean(Y))**2))"
   ]
  },
  {
   "cell_type": "markdown",
   "metadata": {},
   "source": [
    "* Suma de Cuadrados de los residuos (SCR)"
   ]
  },
  {
   "cell_type": "code",
   "execution_count": 23,
   "metadata": {},
   "outputs": [
    {
     "data": {
      "text/plain": [
       "321927345.766029"
      ]
     },
     "execution_count": 23,
     "metadata": {},
     "output_type": "execute_result"
    }
   ],
   "source": [
    "mco1.ssr\n",
    "#print(\"Suma de Cuadrados de los residuos (SCR): \", sum(e**2))"
   ]
  },
  {
   "cell_type": "markdown",
   "metadata": {},
   "source": [
    "* $R^2$ y $R^2$-ajustado"
   ]
  },
  {
   "cell_type": "code",
   "execution_count": 24,
   "metadata": {},
   "outputs": [
    {
     "data": {
      "text/plain": [
       "0.9573205173665473"
      ]
     },
     "execution_count": 24,
     "metadata": {},
     "output_type": "execute_result"
    }
   ],
   "source": [
    "mco1.rsquared\n",
    "mco1.rsquared_adj"
   ]
  },
  {
   "cell_type": "markdown",
   "metadata": {},
   "source": [
    "* Valor $F_{exp}$ y de $F_{teo}$"
   ]
  },
  {
   "cell_type": "code",
   "execution_count": 25,
   "metadata": {},
   "outputs": [
    {
     "name": "stdout",
     "output_type": "stream",
     "text": [
      "0.05 238.76289818779563 2.408514119499335\n",
      "0.1 238.76289818779563 1.971103152695809\n"
     ]
    }
   ],
   "source": [
    "Fexp=mco1.fvalue\n",
    "from scipy import stats\n",
    "alpha=0.05\n",
    "Fteo= stats.f.ppf(1-alpha, mco1.df_model, mco1.df_resid)\n",
    "print(alpha, Fexp, Fteo)\n",
    "alpha=0.10\n",
    "Fteo= stats.f.ppf(1-alpha, mco1.df_model, mco1.df_resid)\n",
    "print(alpha, Fexp, Fteo)"
   ]
  },
  {
   "cell_type": "markdown",
   "metadata": {},
   "source": [
    "* Valores $t_{exp}$ y $t_{teo}$"
   ]
  },
  {
   "cell_type": "code",
   "execution_count": 26,
   "metadata": {},
   "outputs": [
    {
     "name": "stdout",
     "output_type": "stream",
     "text": [
      "texp:  const                           -0.069853\n",
      "Total Recovered                 25.381767\n",
      "Death/1 mil population           2.503207\n",
      "Total Cases/1 mil population    -1.257029\n",
      "Tests/1 mil population          -2.199014\n",
      "Population                      -0.277413\n",
      "dtype: float64\n",
      "0.05\n",
      "2.0106347546964454\n",
      "0.1\n",
      "1.6772241953450393\n"
     ]
    }
   ],
   "source": [
    "texp=mco1.tvalues\n",
    "print(\"texp: \", texp)\n",
    "alpha=0.05\n",
    "tteo= stats.t.ppf(1-(alpha/2),mco1.df_resid)\n",
    "print(alpha)\n",
    "print(tteo)\n",
    "alpha=0.10\n",
    "tteo= stats.t.ppf(1-(alpha/2),mco1.df_resid)\n",
    "print(alpha)\n",
    "print(tteo)"
   ]
  },
  {
   "cell_type": "markdown",
   "metadata": {},
   "source": [
    "* Intervalos de confianza de Estimadores"
   ]
  },
  {
   "cell_type": "code",
   "execution_count": 27,
   "metadata": {},
   "outputs": [
    {
     "data": {
      "text/html": [
       "<div>\n",
       "<style scoped>\n",
       "    .dataframe tbody tr th:only-of-type {\n",
       "        vertical-align: middle;\n",
       "    }\n",
       "\n",
       "    .dataframe tbody tr th {\n",
       "        vertical-align: top;\n",
       "    }\n",
       "\n",
       "    .dataframe thead th {\n",
       "        text-align: right;\n",
       "    }\n",
       "</style>\n",
       "<table border=\"1\" class=\"dataframe\">\n",
       "  <thead>\n",
       "    <tr style=\"text-align: right;\">\n",
       "      <th></th>\n",
       "      <th>0</th>\n",
       "      <th>1</th>\n",
       "    </tr>\n",
       "  </thead>\n",
       "  <tbody>\n",
       "    <tr>\n",
       "      <th>const</th>\n",
       "      <td>-1155.446509</td>\n",
       "      <td>1077.857320</td>\n",
       "    </tr>\n",
       "    <tr>\n",
       "      <th>Total Recovered</th>\n",
       "      <td>0.027114</td>\n",
       "      <td>0.031780</td>\n",
       "    </tr>\n",
       "    <tr>\n",
       "      <th>Death/1 mil population</th>\n",
       "      <td>0.724816</td>\n",
       "      <td>6.642082</td>\n",
       "    </tr>\n",
       "    <tr>\n",
       "      <th>Total Cases/1 mil population</th>\n",
       "      <td>-0.051571</td>\n",
       "      <td>0.011894</td>\n",
       "    </tr>\n",
       "    <tr>\n",
       "      <th>Tests/1 mil population</th>\n",
       "      <td>-0.013289</td>\n",
       "      <td>-0.000595</td>\n",
       "    </tr>\n",
       "    <tr>\n",
       "      <th>Population</th>\n",
       "      <td>-0.000025</td>\n",
       "      <td>0.000019</td>\n",
       "    </tr>\n",
       "  </tbody>\n",
       "</table>\n",
       "</div>"
      ],
      "text/plain": [
       "                                        0            1\n",
       "const                        -1155.446509  1077.857320\n",
       "Total Recovered                  0.027114     0.031780\n",
       "Death/1 mil population           0.724816     6.642082\n",
       "Total Cases/1 mil population    -0.051571     0.011894\n",
       "Tests/1 mil population          -0.013289    -0.000595\n",
       "Population                      -0.000025     0.000019"
      ]
     },
     "execution_count": 27,
     "metadata": {},
     "output_type": "execute_result"
    }
   ],
   "source": [
    "mco1.conf_int()"
   ]
  },
  {
   "cell_type": "markdown",
   "metadata": {},
   "source": [
    "### Graficas que muestran la validez del modelo"
   ]
  },
  {
   "cell_type": "code",
   "execution_count": 28,
   "metadata": {},
   "outputs": [
    {
     "data": {
      "image/png": "[encoded data removed]",
      "text/plain": [
       "<Figure size 432x288 with 4 Axes>"
      ]
     },
     "execution_count": 28,
     "metadata": {},
     "output_type": "execute_result"
    },
    {
     "data": {
      "image/png": "[encoded data removed]",
      "text/plain": [
       "<Figure size 432x288 with 4 Axes>"
      ]
     },
     "metadata": {
      "needs_background": "light"
     },
     "output_type": "display_data"
    }
   ],
   "source": [
    "sm.graphics.plot_regress_exog(mcp, 3)"
   ]
  },
  {
   "cell_type": "markdown",
   "metadata": {},
   "source": [
    "## Predicciones sobre las muertes por covid en un pais imaginario en Africa"
   ]
  },
  {
   "cell_type": "code",
   "execution_count": 29,
   "metadata": {},
   "outputs": [
    {
     "name": "stdout",
     "output_type": "stream",
     "text": [
      "const                          -38.794594\n",
      "Total Recovered                  0.029447\n",
      "Death/1 mil population           3.683449\n",
      "Total Cases/1 mil population    -0.019839\n",
      "Tests/1 mil population          -0.006942\n",
      "Population                      -0.000003\n",
      "dtype: float64\n"
     ]
    }
   ],
   "source": [
    "print(results.params)"
   ]
  },
  {
   "cell_type": "markdown",
   "metadata": {},
   "source": [
    "### Algeria\n",
    "\n",
    "\n",
    "#### \"Total Recovered\": 140238\n",
    "#### \"Death/1 mil population\": 130\n",
    "#### \"Total Cases/1 mil population\": 4561\n",
    "#### \"Tests/1 mil population\": 5147\n",
    "#### \"Population\": 44857594"
   ]
  },
  {
   "cell_type": "code",
   "execution_count": 30,
   "metadata": {},
   "outputs": [
    {
     "name": "stdout",
     "output_type": "stream",
     "text": [
      "Resultado -->  4310.074457255606\n",
      "Resultado esperado --> 5853\n",
      "Porcentaje de acierto -->  73.6387230011209 %\n"
     ]
    }
   ],
   "source": [
    "muertos = results.params[0] + results.params[1]*140238 + results.params[2]*130 + results.params[3]*4561 + results.params[4]*5147 + results.params[5]*44857594;\n",
    "print(\"Resultado --> \", muertos)\n",
    "print(\"Resultado esperado --> 5853\")\n",
    "print(\"Porcentaje de acierto --> \", ((min(muertos,5853)/ max(muertos,5853))*100), \"%\")"
   ]
  },
  {
   "cell_type": "markdown",
   "metadata": {},
   "source": [
    "### Tunez\n",
    "\n",
    "#### \"Total Recovered\": 682353\n",
    "#### \"Death/1 mil population\": 2090\n",
    "#### \"Total Cases/1 mil population\": 59271\n",
    "#### \"Tests/1 mil population\": 250004\n",
    "#### \"Population\": 11975999\n"
   ]
  },
  {
   "cell_type": "code",
   "execution_count": 31,
   "metadata": {},
   "outputs": [
    {
     "name": "stdout",
     "output_type": "stream",
     "text": [
      "Resultado -->  24805.751772186853\n",
      "Resultado esperado --> 25028\n",
      "Porcentaje de acierto -->  99.11200164690288 %\n"
     ]
    }
   ],
   "source": [
    "muertos = results.params[0] + results.params[1]*682353 + results.params[2]*2090 + results.params[3]*59271 + results.params[4]*250004 + results.params[5]*11975999;\n",
    "print(\"Resultado --> \", muertos)\n",
    "print(\"Resultado esperado --> 25028\")\n",
    "print(\"Porcentaje de acierto --> \", ((min(muertos,25028)/ max(muertos,25028))*100), \"%\")"
   ]
  },
  {
   "cell_type": "markdown",
   "metadata": {},
   "source": [
    "### Marruecos\n",
    "\n",
    "#### \"Total Recovered\": 917807\n",
    "#### \"Death/1 mil population\": 386\n",
    "#### \"Total Cases/1 mil population\": 25067\n",
    "#### \"Tests/1 mil population\": 262717\n",
    "#### \"Population\": 37467214"
   ]
  },
  {
   "cell_type": "code",
   "execution_count": 32,
   "metadata": {},
   "outputs": [
    {
     "name": "stdout",
     "output_type": "stream",
     "text": [
      "Resultado -->  25977.07783518474\n",
      "Resultado esperado --> 14457\n",
      "Porcentaje de acierto -->  55.65291096914168 %\n"
     ]
    }
   ],
   "source": [
    "muertos = results.params[0] + results.params[1]*917807 + results.params[2]*386 + results.params[3]*25067 + results.params[4]*262717 + results.params[5]*37467214;\n",
    "print(\"Resultado --> \", muertos)\n",
    "print(\"Resultado esperado --> 14457\")\n",
    "print(\"Porcentaje de acierto --> \", ((min(muertos,14457)/ max(muertos,14457))*100), \"%\")"
   ]
  },
  {
   "cell_type": "markdown",
   "metadata": {},
   "source": [
    "#### Este resultado no tiene sentido, hemos llegado a la conclusion de que se han reducido el numero de muertes o que hay escasez de información respectos a nuestra prediccion."
   ]
  },
  {
   "cell_type": "markdown",
   "metadata": {},
   "source": [
    "### Sudáfrica\n",
    "\n",
    "#### \"Total Recovered\": 2791256\n",
    "#### \"Death/1 mil population\": 1466\n",
    "#### \"Total Cases/1 mil population\": 48326\n",
    "#### \"Tests/1 mil population\": 298413\n",
    "#### \"Population\": 11360709"
   ]
  },
  {
   "cell_type": "code",
   "execution_count": 33,
   "metadata": {},
   "outputs": [
    {
     "name": "stdout",
     "output_type": "stream",
     "text": [
      "Resultado -->  84490.74274679863\n",
      "Resultado esperado --> 88317\n",
      "Porcentaje de acierto -->  95.66758692754354 %\n"
     ]
    }
   ],
   "source": [
    "muertos = results.params[0] + results.params[1]*2791256 + results.params[2]*1466 + results.params[3]*48326 + results.params[4]*298413 + results.params[5]*11360709;\n",
    "print(\"Resultado --> \", muertos)\n",
    "print(\"Resultado esperado --> 88317\")\n",
    "print(\"Porcentaje de acierto --> \", ((min(muertos,88317)/ max(muertos,88317))*100), \"%\")"
   ]
  },
  {
   "cell_type": "markdown",
   "metadata": {},
   "source": [
    "## Conclusion"
   ]
  },
  {
   "cell_type": "markdown",
   "metadata": {},
   "source": [
    "### Es muy complicado estimar datos sobre el covid, porque segun nosotros y nuestro modelo, en Marruecos, por ejemplo, deberian de haber muerto por lo menos 27000 personas y no el resultado tan reducido que muestran en este pais, creemos que es por la falta de información y de comunicación, buscandose numeros bajos para tranquilizar tanto a la poblacion como al beneficio internacional.\n",
    "\n",
    "### Sin embargo en paises que en nuestra opinion creemos que estan mas desarrollados, como son Sudáfrica y Tunez, obtenemos unos datos bastante precisos, con un porcentaje de acierto de mas del 90%, demostrando asi la fiabilidad de nuestro modelo."
   ]
  },
  {
   "cell_type": "markdown",
   "metadata": {},
   "source": []
  }
 ],
 "metadata": {
  "interpreter": {
   "hash": "11ffc019a02cc0e21e59860b66c88ea81995ce9237607e8ab2c087a287ee4867"
  },
  "kernelspec": {
   "display_name": "Python 3.8.8 64-bit ('base': conda)",
   "language": "python",
   "name": "python3"
  },
  "language_info": {
   "codemirror_mode": {
    "name": "ipython",
    "version": 3
   },
   "file_extension": ".py",
   "mimetype": "text/x-python",
   "name": "python",
   "nbconvert_exporter": "python",
   "pygments_lexer": "ipython3",
   "version": "3.8.8"
  },
  "orig_nbformat": 4
 },
 "nbformat": 4,
 "nbformat_minor": 2
}
