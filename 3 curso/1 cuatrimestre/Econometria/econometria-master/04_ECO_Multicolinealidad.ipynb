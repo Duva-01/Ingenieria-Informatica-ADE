{
 "cells": [
  {
   "cell_type": "markdown",
   "metadata": {},
   "source": [
    "# Practica 4: Detección Multicolinealidad"
   ]
  },
  {
   "cell_type": "markdown",
   "metadata": {},
   "source": [
    "## Multicolinealidad"
   ]
  },
  {
   "cell_type": "code",
   "execution_count": 2,
   "metadata": {},
   "outputs": [],
   "source": [
    "import numpy as np\n",
    "import statsmodels.api as sm\n",
    "import statsmodels.formula.api as smf\n",
    "import matplotlib.pylab as plt\n",
    "from wooldridge import *"
   ]
  },
  {
   "cell_type": "code",
   "execution_count": 3,
   "metadata": {},
   "outputs": [
    {
     "data": {
      "text/html": [
       "<table class=\"simpletable\">\n",
       "<caption>OLS Regression Results</caption>\n",
       "<tr>\n",
       "  <th>Dep. Variable:</th>         <td>lprice</td>      <th>  R-squared:         </th> <td>   0.643</td>\n",
       "</tr>\n",
       "<tr>\n",
       "  <th>Model:</th>                   <td>OLS</td>       <th>  Adj. R-squared:    </th> <td>   0.630</td>\n",
       "</tr>\n",
       "<tr>\n",
       "  <th>Method:</th>             <td>Least Squares</td>  <th>  F-statistic:       </th> <td>   50.42</td>\n",
       "</tr>\n",
       "<tr>\n",
       "  <th>Date:</th>             <td>Sat, 18 Dec 2021</td> <th>  Prob (F-statistic):</th> <td>9.74e-19</td>\n",
       "</tr>\n",
       "<tr>\n",
       "  <th>Time:</th>                 <td>17:38:47</td>     <th>  Log-Likelihood:    </th> <td>  25.861</td>\n",
       "</tr>\n",
       "<tr>\n",
       "  <th>No. Observations:</th>      <td>    88</td>      <th>  AIC:               </th> <td>  -43.72</td>\n",
       "</tr>\n",
       "<tr>\n",
       "  <th>Df Residuals:</th>          <td>    84</td>      <th>  BIC:               </th> <td>  -33.81</td>\n",
       "</tr>\n",
       "<tr>\n",
       "  <th>Df Model:</th>              <td>     3</td>      <th>                     </th>     <td> </td>   \n",
       "</tr>\n",
       "<tr>\n",
       "  <th>Covariance Type:</th>      <td>nonrobust</td>    <th>                     </th>     <td> </td>   \n",
       "</tr>\n",
       "</table>\n",
       "<table class=\"simpletable\">\n",
       "<tr>\n",
       "      <td></td>        <th>coef</th>     <th>std err</th>      <th>t</th>      <th>P>|t|</th>  <th>[0.025</th>    <th>0.975]</th>  \n",
       "</tr>\n",
       "<tr>\n",
       "  <th>const</th>    <td>   -1.2970</td> <td>    0.651</td> <td>   -1.992</td> <td> 0.050</td> <td>   -2.592</td> <td>   -0.002</td>\n",
       "</tr>\n",
       "<tr>\n",
       "  <th>llotsize</th> <td>    0.1680</td> <td>    0.038</td> <td>    4.388</td> <td> 0.000</td> <td>    0.092</td> <td>    0.244</td>\n",
       "</tr>\n",
       "<tr>\n",
       "  <th>lsqrft</th>   <td>    0.7002</td> <td>    0.093</td> <td>    7.540</td> <td> 0.000</td> <td>    0.516</td> <td>    0.885</td>\n",
       "</tr>\n",
       "<tr>\n",
       "  <th>bdrms</th>    <td>    0.0370</td> <td>    0.028</td> <td>    1.342</td> <td> 0.183</td> <td>   -0.018</td> <td>    0.092</td>\n",
       "</tr>\n",
       "</table>\n",
       "<table class=\"simpletable\">\n",
       "<tr>\n",
       "  <th>Omnibus:</th>       <td>12.060</td> <th>  Durbin-Watson:     </th> <td>   2.089</td>\n",
       "</tr>\n",
       "<tr>\n",
       "  <th>Prob(Omnibus):</th> <td> 0.002</td> <th>  Jarque-Bera (JB):  </th> <td>  34.889</td>\n",
       "</tr>\n",
       "<tr>\n",
       "  <th>Skew:</th>          <td>-0.188</td> <th>  Prob(JB):          </th> <td>2.65e-08</td>\n",
       "</tr>\n",
       "<tr>\n",
       "  <th>Kurtosis:</th>      <td> 6.062</td> <th>  Cond. No.          </th> <td>    410.</td>\n",
       "</tr>\n",
       "</table><br/><br/>Notes:<br/>[1] Standard Errors assume that the covariance matrix of the errors is correctly specified."
      ],
      "text/plain": [
       "<class 'statsmodels.iolib.summary.Summary'>\n",
       "\"\"\"\n",
       "                            OLS Regression Results                            \n",
       "==============================================================================\n",
       "Dep. Variable:                 lprice   R-squared:                       0.643\n",
       "Model:                            OLS   Adj. R-squared:                  0.630\n",
       "Method:                 Least Squares   F-statistic:                     50.42\n",
       "Date:                Sat, 18 Dec 2021   Prob (F-statistic):           9.74e-19\n",
       "Time:                        17:38:47   Log-Likelihood:                 25.861\n",
       "No. Observations:                  88   AIC:                            -43.72\n",
       "Df Residuals:                      84   BIC:                            -33.81\n",
       "Df Model:                           3                                         \n",
       "Covariance Type:            nonrobust                                         \n",
       "==============================================================================\n",
       "                 coef    std err          t      P>|t|      [0.025      0.975]\n",
       "------------------------------------------------------------------------------\n",
       "const         -1.2970      0.651     -1.992      0.050      -2.592      -0.002\n",
       "llotsize       0.1680      0.038      4.388      0.000       0.092       0.244\n",
       "lsqrft         0.7002      0.093      7.540      0.000       0.516       0.885\n",
       "bdrms          0.0370      0.028      1.342      0.183      -0.018       0.092\n",
       "==============================================================================\n",
       "Omnibus:                       12.060   Durbin-Watson:                   2.089\n",
       "Prob(Omnibus):                  0.002   Jarque-Bera (JB):               34.889\n",
       "Skew:                          -0.188   Prob(JB):                     2.65e-08\n",
       "Kurtosis:                       6.062   Cond. No.                         410.\n",
       "==============================================================================\n",
       "\n",
       "Notes:\n",
       "[1] Standard Errors assume that the covariance matrix of the errors is correctly specified.\n",
       "\"\"\""
      ]
     },
     "execution_count": 3,
     "metadata": {},
     "output_type": "execute_result"
    }
   ],
   "source": [
    "datos=dataWoo(\"hprice1\")\n",
    "y=datos[\"lprice\"]\n",
    "vars=[\"llotsize\", \"lsqrft\", \"bdrms\"]\n",
    "X=datos[vars]\n",
    "\n",
    "mco1 = sm.OLS(y, sm.add_constant(X)).fit()\n",
    "mco1.summary()"
   ]
  },
  {
   "cell_type": "code",
   "execution_count": 4,
   "metadata": {},
   "outputs": [
    {
     "name": "stdout",
     "output_type": "stream",
     "text": [
      "El condition number:  409.51474625747227\n",
      "Tendriamos problemas de multicolinealidad si fuese mayor que 900, ya que esta al cuadrado\n"
     ]
    }
   ],
   "source": [
    "print(\"El condition number: \", mco1.condition_number)\n",
    "print(\"Tendriamos problemas de multicolinealidad si fuese mayor que 900, ya que esta al cuadrado\")"
   ]
  },
  {
   "cell_type": "code",
   "execution_count": 17,
   "metadata": {},
   "outputs": [
    {
     "name": "stdout",
     "output_type": "stream",
     "text": [
      "Test de los Vifs:\n",
      "--> Factor de inflacion de la varianza, con el for hacemos que salga  para toda las variables\n",
      "--> Hay problema de multicolinealidad, si vif es mayor que 10 y si es mayor que 20, problema grave\n",
      "Variables para los vifs:  ['llotsize', 'lsqrft', 'bdrms']\n",
      "Resultado de los vifs:  [284.46202849274715, 320.08665791337097, 22.243172883072834]\n"
     ]
    }
   ],
   "source": [
    "import statsmodels.stats.outliers_influence as oi\n",
    "\n",
    "print(\"Test de los Vifs:\")\n",
    "print(\"--> Factor de inflacion de la varianza, con el for hacemos que salga  para toda las variables\")\n",
    "print(\"--> Hay problema de multicolinealidad, si vif es mayor que 10 y si es mayor que 20, problema grave\")\n",
    "\n",
    "vifs=[oi.variance_inflation_factor(X.values, i) for i in range(X.shape[1])]\n",
    "\n",
    "print(\"Variables para los vifs: \", vars)\n",
    "print(\"Resultado de los vifs: \", vifs)"
   ]
  },
  {
   "cell_type": "code",
   "execution_count": 21,
   "metadata": {},
   "outputs": [
    {
     "name": "stdout",
     "output_type": "stream",
     "text": [
      "Matriz de autocorrelacion: \n",
      "[[1.         0.31129925 0.16949022]\n",
      " [0.31129925 1.         0.51957927]\n",
      " [0.16949022 0.51957927 1.        ]]\n",
      "\n",
      " Lo ideal es que la matriz fuese la identidad\n"
     ]
    }
   ],
   "source": [
    "#Matriz de correlacciones\n",
    "print(\"Matriz de autocorrelacion: \")\n",
    "corr_matrix=np.corrcoef(X.T) #X.T = matriz X traspuesta\n",
    "print(corr_matrix)\n",
    "\n",
    "print(\"\\n Lo ideal es que la matriz fuese la identidad\")"
   ]
  },
  {
   "cell_type": "code",
   "execution_count": 22,
   "metadata": {},
   "outputs": [
    {
     "name": "stdout",
     "output_type": "stream",
     "text": [
      "Matriz de autocorrelacion a nivel visual: \n"
     ]
    },
    {
     "data": {
      "image/png": "[encoded data removed]",
      "text/plain": [
       "<Figure size 432x288 with 2 Axes>"
      ]
     },
     "metadata": {
      "needs_background": "light"
     },
     "output_type": "display_data"
    }
   ],
   "source": [
    "import statsmodels.graphics.api as smg\n",
    "print(\"Matriz de autocorrelacion a nivel visual: \")\n",
    "smg.plot_corr(corr_matrix, xnames=[\"llotsize\", \"lsqrft\", \"bdrms\"])\n",
    "plt.show()"
   ]
  },
  {
   "cell_type": "code",
   "execution_count": 9,
   "metadata": {},
   "outputs": [
    {
     "name": "stderr",
     "output_type": "stream",
     "text": [
      "C:\\Users\\Usuario\\anaconda3\\lib\\site-packages\\scipy\\stats\\stats.py:1603: UserWarning: kurtosistest only valid for n>=20 ... continuing anyway, n=17\n",
      "  warnings.warn(\"kurtosistest only valid for n>=20 ... continuing \"\n"
     ]
    },
    {
     "data": {
      "text/html": [
       "<table class=\"simpletable\">\n",
       "<caption>OLS Regression Results</caption>\n",
       "<tr>\n",
       "  <th>Dep. Variable:</th>         <td>consume</td>     <th>  R-squared:         </th> <td>   0.951</td>\n",
       "</tr>\n",
       "<tr>\n",
       "  <th>Model:</th>                   <td>OLS</td>       <th>  Adj. R-squared:    </th> <td>   0.944</td>\n",
       "</tr>\n",
       "<tr>\n",
       "  <th>Method:</th>             <td>Least Squares</td>  <th>  F-statistic:       </th> <td>   136.7</td>\n",
       "</tr>\n",
       "<tr>\n",
       "  <th>Date:</th>             <td>Sat, 18 Dec 2021</td> <th>  Prob (F-statistic):</th> <td>6.51e-10</td>\n",
       "</tr>\n",
       "<tr>\n",
       "  <th>Time:</th>                 <td>17:38:48</td>     <th>  Log-Likelihood:    </th> <td> -51.647</td>\n",
       "</tr>\n",
       "<tr>\n",
       "  <th>No. Observations:</th>      <td>    17</td>      <th>  AIC:               </th> <td>   109.3</td>\n",
       "</tr>\n",
       "<tr>\n",
       "  <th>Df Residuals:</th>          <td>    14</td>      <th>  BIC:               </th> <td>   111.8</td>\n",
       "</tr>\n",
       "<tr>\n",
       "  <th>Df Model:</th>              <td>     2</td>      <th>                     </th>     <td> </td>   \n",
       "</tr>\n",
       "<tr>\n",
       "  <th>Covariance Type:</th>      <td>nonrobust</td>    <th>                     </th>     <td> </td>   \n",
       "</tr>\n",
       "</table>\n",
       "<table class=\"simpletable\">\n",
       "<tr>\n",
       "      <td></td>        <th>coef</th>     <th>std err</th>      <th>t</th>      <th>P>|t|</th>  <th>[0.025</th>    <th>0.975]</th>  \n",
       "</tr>\n",
       "<tr>\n",
       "  <th>const</th>    <td>  130.7066</td> <td>   27.094</td> <td>    4.824</td> <td> 0.000</td> <td>   72.595</td> <td>  188.818</td>\n",
       "</tr>\n",
       "<tr>\n",
       "  <th>income</th>   <td>    1.0617</td> <td>    0.267</td> <td>    3.981</td> <td> 0.001</td> <td>    0.490</td> <td>    1.634</td>\n",
       "</tr>\n",
       "<tr>\n",
       "  <th>relprice</th> <td>   -1.3830</td> <td>    0.084</td> <td>  -16.501</td> <td> 0.000</td> <td>   -1.563</td> <td>   -1.203</td>\n",
       "</tr>\n",
       "</table>\n",
       "<table class=\"simpletable\">\n",
       "<tr>\n",
       "  <th>Omnibus:</th>       <td> 0.802</td> <th>  Durbin-Watson:     </th> <td>   2.019</td>\n",
       "</tr>\n",
       "<tr>\n",
       "  <th>Prob(Omnibus):</th> <td> 0.670</td> <th>  Jarque-Bera (JB):  </th> <td>   0.666</td>\n",
       "</tr>\n",
       "<tr>\n",
       "  <th>Skew:</th>          <td>-0.031</td> <th>  Prob(JB):          </th> <td>   0.717</td>\n",
       "</tr>\n",
       "<tr>\n",
       "  <th>Kurtosis:</th>      <td> 2.032</td> <th>  Cond. No.          </th> <td>2.58e+03</td>\n",
       "</tr>\n",
       "</table><br/><br/>Notes:<br/>[1] Standard Errors assume that the covariance matrix of the errors is correctly specified.<br/>[2] The condition number is large, 2.58e+03. This might indicate that there are<br/>strong multicollinearity or other numerical problems."
      ],
      "text/plain": [
       "<class 'statsmodels.iolib.summary.Summary'>\n",
       "\"\"\"\n",
       "                            OLS Regression Results                            \n",
       "==============================================================================\n",
       "Dep. Variable:                consume   R-squared:                       0.951\n",
       "Model:                            OLS   Adj. R-squared:                  0.944\n",
       "Method:                 Least Squares   F-statistic:                     136.7\n",
       "Date:                Sat, 18 Dec 2021   Prob (F-statistic):           6.51e-10\n",
       "Time:                        17:38:48   Log-Likelihood:                -51.647\n",
       "No. Observations:                  17   AIC:                             109.3\n",
       "Df Residuals:                      14   BIC:                             111.8\n",
       "Df Model:                           2                                         \n",
       "Covariance Type:            nonrobust                                         \n",
       "==============================================================================\n",
       "                 coef    std err          t      P>|t|      [0.025      0.975]\n",
       "------------------------------------------------------------------------------\n",
       "const        130.7066     27.094      4.824      0.000      72.595     188.818\n",
       "income         1.0617      0.267      3.981      0.001       0.490       1.634\n",
       "relprice      -1.3830      0.084    -16.501      0.000      -1.563      -1.203\n",
       "==============================================================================\n",
       "Omnibus:                        0.802   Durbin-Watson:                   2.019\n",
       "Prob(Omnibus):                  0.670   Jarque-Bera (JB):                0.666\n",
       "Skew:                          -0.031   Prob(JB):                        0.717\n",
       "Kurtosis:                       2.032   Cond. No.                     2.58e+03\n",
       "==============================================================================\n",
       "\n",
       "Notes:\n",
       "[1] Standard Errors assume that the covariance matrix of the errors is correctly specified.\n",
       "[2] The condition number is large, 2.58e+03. This might indicate that there are\n",
       "strong multicollinearity or other numerical problems.\n",
       "\"\"\""
      ]
     },
     "execution_count": 9,
     "metadata": {},
     "output_type": "execute_result"
    }
   ],
   "source": [
    "#Datos de Theil\n",
    "import pandas as pd\n",
    "datos = pd.read_csv('Theil.csv', delimiter=\";\")\n",
    "datos\n",
    "y=datos['consume']\n",
    "X=datos[['income', 'relprice']]\n",
    "mco2 = sm.OLS(y, sm.add_constant(X)).fit()\n",
    "mco2.summary()"
   ]
  },
  {
   "cell_type": "code",
   "execution_count": 26,
   "metadata": {},
   "outputs": [
    {
     "name": "stdout",
     "output_type": "stream",
     "text": [
      "Resusltado de los vifs: \n",
      "[284.46202849274715, 320.08665791337097, 22.243172883072834]\n",
      "\n",
      " Matriz de autocorrelacion: \n",
      "[[1.         0.31129925 0.16949022]\n",
      " [0.31129925 1.         0.51957927]\n",
      " [0.16949022 0.51957927 1.        ]]\n"
     ]
    }
   ],
   "source": [
    "print(\"Resusltado de los vifs: \")\n",
    "vifs=[oi.variance_inflation_factor(X.values, i) for i in range(X.shape[1])]\n",
    "print(vifs)\n",
    "\n",
    "\n",
    "print(\"\\n Matriz de autocorrelacion: \")\n",
    "corr_matrix=np.corrcoef(X.T)\n",
    "print(corr_matrix)"
   ]
  },
  {
   "cell_type": "markdown",
   "metadata": {},
   "source": [
    "# Normalidad de los Residuos"
   ]
  },
  {
   "cell_type": "markdown",
   "metadata": {},
   "source": [
    "- Jarque-Bera: Test de hipótesis que contrasta si los datos de la muestra tienen el coeficiente de simetría y la curtósis de una distribución normal.\n",
    "- $\\chi^2$ (p-valor): p-valor del Test de Jaque-Bera.\n",
    "- Skew: Coeficiente de Simetría de pearson de los residuos.\n",
    "- Kurtosis: Coeficiente de apuntamiento de los residuos.\n",
    "- Komogorov-Smirnov: Test de Hipótesis para contrastar si una muestra proviene de una distribución (en este caso normal)."
   ]
  },
  {
   "cell_type": "code",
   "execution_count": 11,
   "metadata": {},
   "outputs": [
    {
     "name": "stdout",
     "output_type": "stream",
     "text": [
      "Jarque-Bera 34.8894458284073\n",
      "Chi^2 two-tail prob. 2.6537077943350284e-08\n",
      "Skew -0.18756944389904323\n",
      "Kurtosis 6.0617926485327285\n"
     ]
    }
   ],
   "source": [
    "import statsmodels.stats.api as sms\n",
    "name = ['Jarque-Bera', 'Chi^2 two-tail prob.', 'Skew', 'Kurtosis']\n",
    "test = sms.jarque_bera(mco1.resid)\n",
    "for i in range(4):\n",
    "    print(name[i], test[i])"
   ]
  },
  {
   "cell_type": "markdown",
   "metadata": {},
   "source": [
    "--> Jarque-Bera mide kurtosis y skew y tiene que tener mayor que mi p-valor de chi cuadrado\n",
    "\n",
    "--> Chi^2 si el valor es mayor que alfa 0.05 sigue una distribucion normal\n",
    "\n",
    "--> Skew si el valor es proximo a 0, quiere decir que es simetrico\n",
    "\n",
    "--> Kurtosis debe aproximarse a 3, tiene un valor de 6, entonces no"
   ]
  },
  {
   "cell_type": "code",
   "execution_count": 12,
   "metadata": {},
   "outputs": [
    {
     "data": {
      "image/png": "[encoded data removed]",
      "text/plain": [
       "<Figure size 432x288 with 1 Axes>"
      ]
     },
     "metadata": {
      "needs_background": "light"
     },
     "output_type": "display_data"
    },
    {
     "data": {
      "image/png": "[encoded data removed]",
      "text/plain": [
       "<Figure size 432x288 with 1 Axes>"
      ]
     },
     "metadata": {
      "needs_background": "light"
     },
     "output_type": "display_data"
    }
   ],
   "source": [
    "from matplotlib import pyplot\n",
    "from statsmodels.graphics.gofplots import qqplot\n",
    "pyplot.hist(mco1.resid)\n",
    "pyplot.show()\n",
    "qqplot(mco1.resid, line='s')\n",
    "pyplot.show()"
   ]
  },
  {
   "cell_type": "code",
   "execution_count": 29,
   "metadata": {},
   "outputs": [
    {
     "name": "stdout",
     "output_type": "stream",
     "text": [
      "Test de Kolgomorov Smirnov:\n",
      "Resultado:  (0.06649909936772903, 0.48573382397461373)\n",
      "Tiene que tener un p-valor > 0.05, para seguir una districion normal\n"
     ]
    }
   ],
   "source": [
    "import statsmodels.stats.diagnostic as diag\n",
    "\n",
    "print(\"Test de Kolgomorov Smirnov:\")\n",
    "print(\"Resultado: \", diag.kstest_normal(mco1.resid))\n",
    "print(\"Tiene que tener un p-valor > 0.05, para seguir una districion normal\")"
   ]
  },
  {
   "cell_type": "markdown",
   "metadata": {},
   "source": [
    "# Bootstrap"
   ]
  },
  {
   "cell_type": "code",
   "execution_count": 14,
   "metadata": {
    "scrolled": true
   },
   "outputs": [
    {
     "name": "stdout",
     "output_type": "stream",
     "text": [
      "0 -1.345587522644391 [-2.997542234161241, 0.08333171305805963]\n",
      "1 0.1812092763012576 [0.10769157228592618, 0.3136983635141882]\n",
      "2 0.6922784776008808 [0.46970505689322345, 0.9251434290440065]\n",
      "3 0.03413069164989981 [-0.03796893046941162, 0.08954871257217961]\n"
     ]
    }
   ],
   "source": [
    "datos=dataWoo(\"hprice1\")\n",
    "y=datos[\"lprice\"]\n",
    "vars=[\"llotsize\", \"lsqrft\", \"bdrms\"]\n",
    "X=datos[vars]\n",
    "\n",
    "mco1=sm.OLS(y, sm.add_constant(X)).fit()\n",
    "\n",
    "\n",
    "from random import choices\n",
    "\n",
    "beta=[]\n",
    "n=len(y)\n",
    "for it in range(10000): #repetimos 1000 veces la estimacion\n",
    "    I=choices(list(range(n)), k=n) # elegimos una muestra con repeticion de los datos\n",
    "    mco3 = sm.OLS(y[I], sm.add_constant(X.values[I,:])).fit() #ajustamos el modelo\n",
    "    beta.append(list(mco3.params)) # guardamos los coeficientes\n",
    "beta=np.array(beta)\n",
    "k=len(X.T)+1\n",
    "for i in range(k):\n",
    "    q025=np.percentile(beta[:,i], 2.5) #percentil 2.5%\n",
    "    q975=np.percentile(beta[:,i], 97.5) #percentil 97.5%\n",
    "    media=np.mean(beta[:,i]) #media de los betas\n",
    "    sd=np.std(beta[:,i]) #desviación tipica de los betas\n",
    "    print(i, media,[q025, q975])\n",
    "    "
   ]
  },
  {
   "cell_type": "code",
   "execution_count": 15,
   "metadata": {},
   "outputs": [
    {
     "data": {
      "text/html": [
       "<table class=\"simpletable\">\n",
       "<caption>OLS Regression Results</caption>\n",
       "<tr>\n",
       "  <th>Dep. Variable:</th>         <td>lprice</td>      <th>  R-squared:         </th> <td>   0.643</td>\n",
       "</tr>\n",
       "<tr>\n",
       "  <th>Model:</th>                   <td>OLS</td>       <th>  Adj. R-squared:    </th> <td>   0.630</td>\n",
       "</tr>\n",
       "<tr>\n",
       "  <th>Method:</th>             <td>Least Squares</td>  <th>  F-statistic:       </th> <td>   50.42</td>\n",
       "</tr>\n",
       "<tr>\n",
       "  <th>Date:</th>             <td>Sat, 18 Dec 2021</td> <th>  Prob (F-statistic):</th> <td>9.74e-19</td>\n",
       "</tr>\n",
       "<tr>\n",
       "  <th>Time:</th>                 <td>17:39:10</td>     <th>  Log-Likelihood:    </th> <td>  25.861</td>\n",
       "</tr>\n",
       "<tr>\n",
       "  <th>No. Observations:</th>      <td>    88</td>      <th>  AIC:               </th> <td>  -43.72</td>\n",
       "</tr>\n",
       "<tr>\n",
       "  <th>Df Residuals:</th>          <td>    84</td>      <th>  BIC:               </th> <td>  -33.81</td>\n",
       "</tr>\n",
       "<tr>\n",
       "  <th>Df Model:</th>              <td>     3</td>      <th>                     </th>     <td> </td>   \n",
       "</tr>\n",
       "<tr>\n",
       "  <th>Covariance Type:</th>      <td>nonrobust</td>    <th>                     </th>     <td> </td>   \n",
       "</tr>\n",
       "</table>\n",
       "<table class=\"simpletable\">\n",
       "<tr>\n",
       "      <td></td>        <th>coef</th>     <th>std err</th>      <th>t</th>      <th>P>|t|</th>  <th>[0.025</th>    <th>0.975]</th>  \n",
       "</tr>\n",
       "<tr>\n",
       "  <th>const</th>    <td>   -1.2970</td> <td>    0.651</td> <td>   -1.992</td> <td> 0.050</td> <td>   -2.592</td> <td>   -0.002</td>\n",
       "</tr>\n",
       "<tr>\n",
       "  <th>llotsize</th> <td>    0.1680</td> <td>    0.038</td> <td>    4.388</td> <td> 0.000</td> <td>    0.092</td> <td>    0.244</td>\n",
       "</tr>\n",
       "<tr>\n",
       "  <th>lsqrft</th>   <td>    0.7002</td> <td>    0.093</td> <td>    7.540</td> <td> 0.000</td> <td>    0.516</td> <td>    0.885</td>\n",
       "</tr>\n",
       "<tr>\n",
       "  <th>bdrms</th>    <td>    0.0370</td> <td>    0.028</td> <td>    1.342</td> <td> 0.183</td> <td>   -0.018</td> <td>    0.092</td>\n",
       "</tr>\n",
       "</table>\n",
       "<table class=\"simpletable\">\n",
       "<tr>\n",
       "  <th>Omnibus:</th>       <td>12.060</td> <th>  Durbin-Watson:     </th> <td>   2.089</td>\n",
       "</tr>\n",
       "<tr>\n",
       "  <th>Prob(Omnibus):</th> <td> 0.002</td> <th>  Jarque-Bera (JB):  </th> <td>  34.889</td>\n",
       "</tr>\n",
       "<tr>\n",
       "  <th>Skew:</th>          <td>-0.188</td> <th>  Prob(JB):          </th> <td>2.65e-08</td>\n",
       "</tr>\n",
       "<tr>\n",
       "  <th>Kurtosis:</th>      <td> 6.062</td> <th>  Cond. No.          </th> <td>    410.</td>\n",
       "</tr>\n",
       "</table><br/><br/>Notes:<br/>[1] Standard Errors assume that the covariance matrix of the errors is correctly specified."
      ],
      "text/plain": [
       "<class 'statsmodels.iolib.summary.Summary'>\n",
       "\"\"\"\n",
       "                            OLS Regression Results                            \n",
       "==============================================================================\n",
       "Dep. Variable:                 lprice   R-squared:                       0.643\n",
       "Model:                            OLS   Adj. R-squared:                  0.630\n",
       "Method:                 Least Squares   F-statistic:                     50.42\n",
       "Date:                Sat, 18 Dec 2021   Prob (F-statistic):           9.74e-19\n",
       "Time:                        17:39:10   Log-Likelihood:                 25.861\n",
       "No. Observations:                  88   AIC:                            -43.72\n",
       "Df Residuals:                      84   BIC:                            -33.81\n",
       "Df Model:                           3                                         \n",
       "Covariance Type:            nonrobust                                         \n",
       "==============================================================================\n",
       "                 coef    std err          t      P>|t|      [0.025      0.975]\n",
       "------------------------------------------------------------------------------\n",
       "const         -1.2970      0.651     -1.992      0.050      -2.592      -0.002\n",
       "llotsize       0.1680      0.038      4.388      0.000       0.092       0.244\n",
       "lsqrft         0.7002      0.093      7.540      0.000       0.516       0.885\n",
       "bdrms          0.0370      0.028      1.342      0.183      -0.018       0.092\n",
       "==============================================================================\n",
       "Omnibus:                       12.060   Durbin-Watson:                   2.089\n",
       "Prob(Omnibus):                  0.002   Jarque-Bera (JB):               34.889\n",
       "Skew:                          -0.188   Prob(JB):                     2.65e-08\n",
       "Kurtosis:                       6.062   Cond. No.                         410.\n",
       "==============================================================================\n",
       "\n",
       "Notes:\n",
       "[1] Standard Errors assume that the covariance matrix of the errors is correctly specified.\n",
       "\"\"\""
      ]
     },
     "execution_count": 15,
     "metadata": {},
     "output_type": "execute_result"
    }
   ],
   "source": [
    "mco1.summary()"
   ]
  }
 ],
 "metadata": {
  "kernelspec": {
   "display_name": "Python 3",
   "language": "python",
   "name": "python3"
  },
  "language_info": {
   "codemirror_mode": {
    "name": "ipython",
    "version": 3
   },
   "file_extension": ".py",
   "mimetype": "text/x-python",
   "name": "python",
   "nbconvert_exporter": "python",
   "pygments_lexer": "ipython3",
   "version": "3.8.8"
  }
 },
 "nbformat": 4,
 "nbformat_minor": 2
}
