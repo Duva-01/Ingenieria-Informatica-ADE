{
 "cells": [
  {
   "cell_type": "markdown",
   "metadata": {},
   "source": [
    "# Examen Ordinario Econometría 2020-2021. ADE+Ingenierías\n",
    "# Tipo B\n",
    "## 22 de Enero de 2021"
   ]
  },
  {
   "cell_type": "markdown",
   "metadata": {},
   "source": [
    "\n",
    "### Instrucciones\n",
    "\n",
    "+ La duración del examen de 1.5 horas.\n",
    "+ Cada pregunta se responderá en el recuadro bajo la pregunta, bien en modo sólo texto o imagen (Preguntas 1 a 5) o bien en modo códigos de Python + texto respuesta en base a los resultados obtenidos (Preguntas 6 a 10).\n",
    "+ Los datos necesarios está disponibles bien en el, propio ejercicio, o en la librería wooldridge o en los ficheros de excel *datos8.xls* y *datos9.xls*) disponibles en github (las órdenes orientativas para leer los ficheros se encuentran descritas bajo cada uno de esos ejercicios).\n",
    "+ No se evaluarán respuestas en las que únicamente haya códigos. Los resultados deberán servir para responder a las preguntas.\n",
    "+ Las puntuaciones de cada ejercicio se encuentran en el propio enunciado.\n",
    "+ El fichero final del examen se enviará a vía PRADO en la Tarea habilitada para el examen."
   ]
  },
  {
   "cell_type": "markdown",
   "metadata": {},
   "source": [
    "\n",
    "### APELLIDOS,  NOMBRE: \n",
    "### DNI: "
   ]
  },
  {
   "cell_type": "markdown",
   "metadata": {},
   "source": [
    "### Pregunta 1: (1 punto)\n",
    "\n",
    "Demuestra que en un modelo, $y_i = \\beta_0 + \\beta_1 x_{1i} + \\cdots + \\beta_{k} x_{ki} + u_i$ ($i=1, \\ldots, n$), estimado por Mínimos cuadrados Ordinarios, se verifica que\n",
    "$$\n",
    "\\sum_{i=1}^n (y_i - \\widehat{y}_i)^2 = \\sum_{i=1}^n (y_i-\\bar y)^2 - \\sum_{i=1}^n (\\widehat{y}_i-\\bar y)^2\n",
    "$$\n",
    "¿Qué consecuencias tiene este resultado en el análisis del modelo?"
   ]
  },
  {
   "cell_type": "markdown",
   "metadata": {},
   "source": [
    "- Respuesta: (*Ver código haciendo doble clic para ver instrucciones sobre cómo subir una imagen*)\n",
    "![Pregunta 1](MiRespuesta.jpg)"
   ]
  },
  {
   "cell_type": "markdown",
   "metadata": {},
   "source": [
    "### Pregunta 2: (1 punto)\n",
    "\n",
    "Considera el modelo $Y_i = \\beta_0 + \\beta_1 X_{1i} + \\beta_2 X_{2i} + u_i$ ($i=1,2,\\ldots, 50$). Se sabe que $X_{2i}= X_{1i} + \\dfrac{1}{4}$. ¿Qué coeficientes de este modelo pueden estimarse directamente y cuáles no? Obtener las combinaciones lineales de coeficientes que son estimables por Mínimos Cuadrados Ordinarios."
   ]
  },
  {
   "cell_type": "markdown",
   "metadata": {},
   "source": [
    "- Respuesta: Se puede estimar cualquiera ya que no se presenta ninguna combinacion lineal. Ya que no me va a dar determinante 0 y voy a poder obtener todas las betas.\n"
   ]
  },
  {
   "cell_type": "markdown",
   "metadata": {},
   "source": [
    "### Pregunta 3: (0.75 puntos)\n",
    "\n",
    "En el modelo $Y_i= \\beta_0 + \\beta_1 X_i + u_i$, $i=1, \\ldots, n$, cuyas perturbaciones no están autocorreladas, pero son tales que $var(u_i)=\\frac{\\sigma^2}{X_i^2}$, ¿Cómo obtendrías el estimador más adecuado de $\\beta_1$? Comprobar que se ha corregido el posible incumplimiento en la shipótesis básicas."
   ]
  },
  {
   "cell_type": "markdown",
   "metadata": {},
   "source": [
    "- Respuesta:\n"
   ]
  },
  {
   "cell_type": "markdown",
   "metadata": {},
   "source": [
    "### Pregunta 4: (0.5 puntos)\n",
    "\n",
    "En el caso de tener que decidir qu\\'e modelo es el mejor en el siguiente caso:\n",
    "        \\begin{eqnarray*}\n",
    "            \\mbox{Modelo 1: } & & \\mathbf{Y} = \\beta_{1} + \\beta_{2} \\cdot \\mathbf{X}_{2} + \\beta_{3} \\cdot \\mathbf{X}_{3} + \\mathbf{u}. \\\\\n",
    "            \\mbox{Modelo 2: } & & \\mathbf{Y} = \\alpha_{1} + \\alpha_{2} \\cdot \\mathbf{X}_{2} + \\alpha_{3} \\cdot \\mathbf{X}_{3} + \\alpha_{4} \\cdot \\mathbf{X}_{4} + \\alpha_{5} \\cdot \\mathbf{X}_{5} + \\mathbf{v}.\n",
    "        \\end{eqnarray*}\n",
    "¿Podemos afirmar que el $R^2$ de alguno de los modelos es mejor que el del otro? ¿Cómo podemos decidir cuál es el mejor modelo? Justificar su respuesta."
   ]
  },
  {
   "cell_type": "markdown",
   "metadata": {},
   "source": [
    "- Respuesta:\n"
   ]
  },
  {
   "cell_type": "markdown",
   "metadata": {},
   "source": [
    "### Pregunta 5: (0.75 puntos)\n",
    "\n",
    "Consideremos un modelo económico en el que se desea explicar, utilizando una base de datos de 109 viviendas, el precio de la vivienda ($Y$) en función de la zona donde se encuentra la vivienda ($X_1$), sus metros cuadrados ($X_2$), el número de habitaciones ($X_3$) y el número de baños ($X_4$). Se han realizado las regresiones auxiliares necesarias para el Factor de Inflación de la Varianza, obteniéndose que el menor de ellos es $0.67$ y el mayor $0.8$. ¿Qué podemos decir sobre el modelo analizado en base a esta información?"
   ]
  },
  {
   "cell_type": "markdown",
   "metadata": {},
   "source": [
    "- Respuesta:\n"
   ]
  },
  {
   "cell_type": "markdown",
   "metadata": {},
   "source": [
    "### Pregunta 6: (1.5 puntos)\n",
    "\n",
    "Se desea analizar el modelo $Y_ t = \\beta_0 + \\beta_1 X_{1t} + \\beta_2 X_{2t} + u_t$, con \n",
    "        $$(\\mathbf{X}^{t} \\mathbf{X}) =  \\begin{pmatrix} 14 & 6 & 14\\\\ 6 & 4.5 & 6\\\\ 14 & 6 & 15 \\end{pmatrix}, \\mathbf{X}^{t} \\mathbf{y} = \n",
    "            \\begin{pmatrix}\n",
    "                10\\\\7\\\\12\n",
    "            \\end{pmatrix}, \\mathbf{y}^t \\mathbf{y} =15$$\n",
    "            \n",
    "Se pide responder de forma razonada las siguientes cuestiones:\n",
    "1. Obtener la estimación mínimo cuadrática de los coeficientes del modelo.\n",
    "1. Verificar la signifaicación del modelo.\n",
    "1. Calcular la predicción puntual para el valor esperado, así como el intervalo de predicción para este valor al $95\\%$ sabiendo que $x_1=6$ y $x_2=8$."
   ]
  },
  {
   "cell_type": "code",
   "execution_count": null,
   "metadata": {},
   "outputs": [],
   "source": [
    "#Cálculos:\n"
   ]
  },
  {
   "cell_type": "markdown",
   "metadata": {},
   "source": [
    "- Respuesta:\n"
   ]
  },
  {
   "cell_type": "markdown",
   "metadata": {},
   "source": [
    "### Pregunta 7: (1.5 puntos)\n",
    "\n",
    "Se considera el modelo econométrico $Y_t = \\beta_0 X_{t}^{\\beta_1} Z_t^{\\beta_2} {\\rm exp}({u_i})$, $i=1899, \\ldots, 1922$, donde $Y$ es la producción total de un bien, $X$ es el stock de capital, $Z$ es el número de empleados para producir el bien y $u_t$ es la perturbación aleatoria durante los años $1899$ a $1922$.\n",
    "1. Justifica cómo se puede analizar el modelo utilizando Mínimos Cuadrados Ordinarios.\n",
    "1. Estima el modelo para los siguientes e interpreta los coeficientes obtenidos:\n",
    "\n",
    "$X: [100, 105, 110, 118, 123, 116, 125, 133, 138, 121, 140, 144, 145, 152, 154, 149, 154, 182, 196, 200, 193, 193, 147, 161]$\n",
    "\n",
    "$Z: [100, 107, 114, 122, 131, 138, 149, 163, 176, 185, 198, 208, 216, 226, 236, 244, 266, 298, 335, 366, 387, 407, 417, 431]$\n",
    "\n",
    "$Y: [100, 101, 112, 122, 124, 122, 143, 152, 151, 126, 155, 159, 153, 177, 184, 169, 189, 225, 227, 223, 218, 231, 179, 240]$\n",
    "\n",
    "1. Comprueba si $\\beta_1+\\beta_2=1$ e interpreta el resultado obtenido."
   ]
  },
  {
   "cell_type": "code",
   "execution_count": null,
   "metadata": {},
   "outputs": [],
   "source": [
    "#Cálculos:\n"
   ]
  },
  {
   "cell_type": "markdown",
   "metadata": {},
   "source": [
    "- Respuesta:\n"
   ]
  },
  {
   "cell_type": "markdown",
   "metadata": {},
   "source": [
    "### Pregunta 8: (1 punto)\n",
    "\n",
    "En la base de datos \"crime2\" de Wooldridge se facilita información sobre la tasa de crimen (crmrte) en diversas ciudades en los años 1982 y 1987 (variable year). En particular, estamos interesados en utilizar esta base de datos para  saber como afecta el desempleo en la tasa de delincuencia. \n",
    "1. Analiza el modelo lineal que consideres más adecuado para este fin y comenta los resultados obtenidos para toda la base de datos.\n",
    "2. ¿Existen diferencias significativas entre los resultados obtenidos para 1982 y para los de 1987?"
   ]
  },
  {
   "cell_type": "code",
   "execution_count": null,
   "metadata": {},
   "outputs": [],
   "source": [
    "#Cálculos:\n",
    "\n",
    "from wooldridge import *\n",
    "datos8=dataWoo(\"crime2\")"
   ]
  },
  {
   "cell_type": "markdown",
   "metadata": {},
   "source": [
    "- Respuesta:\n"
   ]
  },
  {
   "cell_type": "markdown",
   "metadata": {},
   "source": [
    "### Pregunta 9: (1 punto)\n",
    "\n",
    "Se pretende estudiar el efecto del crecimiento de los salarios en la inflación. Para ello se construye el modelo $Y_t = \\beta_0 + \\beta_1 X_t^3 + u_t$ con $t$ indicando los cuatrimestres desde 1970 a 2010, y donde $Y$ es la inflación y $X$ es el crecimiento porcentual de los salarios en ese periodo.\n",
    "Estima el modelo lineal, usando los datos de *datos1.xls*, y estudia la existencia de autocorrelación en éste. En caso afirmativo, aplica alguna estrategia para corregirla y comprueba si ha concluido con éxito."
   ]
  },
  {
   "cell_type": "code",
   "execution_count": 6,
   "metadata": {},
   "outputs": [],
   "source": [
    "#Cálculos:\n",
    "\n",
    "import pandas as pd\n",
    "datos1 = pd.read_excel (\"datos1.xls\")"
   ]
  },
  {
   "cell_type": "markdown",
   "metadata": {},
   "source": [
    "- Respuesta:\n"
   ]
  },
  {
   "cell_type": "markdown",
   "metadata": {},
   "source": [
    "### Pregunta 10: (1 punto)\n",
    "\n",
    "La base de datos includida en \"datos9.xls\" contiene información acerca de los precios de 940 viviendas, asi como su antigüedad (antiguedad) y sus metros cuadrados (m2). Utiliza el test de Breusch-Pagan para chequear si se cumple alguna de la hipotesis básicas del modelo lineal, y en caso afirmativo, describe la problemática y sus consecuencias."
   ]
  },
  {
   "cell_type": "code",
   "execution_count": 5,
   "metadata": {},
   "outputs": [],
   "source": [
    "#Cálculos:\n",
    "\n",
    "import pandas as pd\n",
    "datos2 = pd.read_excel (\"datos2.xls\")"
   ]
  },
  {
   "cell_type": "markdown",
   "metadata": {},
   "source": [
    "- Respuesta:\n"
   ]
  }
 ],
 "metadata": {
  "kernelspec": {
   "display_name": "Python 3",
   "language": "python",
   "name": "python3"
  },
  "language_info": {
   "codemirror_mode": {
    "name": "ipython",
    "version": 3
   },
   "file_extension": ".py",
   "mimetype": "text/x-python",
   "name": "python",
   "nbconvert_exporter": "python",
   "pygments_lexer": "ipython3",
   "version": "3.8.5"
  }
 },
 "nbformat": 4,
 "nbformat_minor": 4
}
