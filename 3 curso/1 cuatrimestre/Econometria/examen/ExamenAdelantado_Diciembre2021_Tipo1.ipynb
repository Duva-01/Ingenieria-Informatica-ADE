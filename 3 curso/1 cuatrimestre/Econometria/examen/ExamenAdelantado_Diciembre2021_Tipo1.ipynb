{
 "cells": [
  {
   "cell_type": "markdown",
   "id": "88649e2d",
   "metadata": {},
   "source": [
    "# Examen Adelantado - Econometría\n",
    "# TIPO 1\n",
    "## 20 de Diciembre 2021"
   ]
  },
  {
   "cell_type": "markdown",
   "id": "20381cfa",
   "metadata": {},
   "source": [
    "APELLIDOS, NOMBRE: Martinez Diaz, David"
   ]
  },
  {
   "cell_type": "markdown",
   "id": "73a203ad",
   "metadata": {},
   "source": [
    "### El fichero con las respuestas y códigos debe enviarse a la tarea creada en PRADO para tal efecto."
   ]
  },
  {
   "cell_type": "markdown",
   "id": "f05fb4f4",
   "metadata": {},
   "source": [
    "La base de datos **peliculas.xlsx** cuenta con una muestra de datos sobre de 651 películas estrenadas entre 1970 y 2014, y fue creada para analizar los factores que influyen en la valoración de la audiencia sobre una película. La base de datos cuenta con las siguientes variables:\n",
    "- _Valoracion_: Puntuación obtenida por la audiencia de la película.\n",
    "- _Largometraje_: Toma el valor **1** si es un largometraje y **0** si es corto, documental, ...\n",
    "- _Drama_: **1** si es un drama y **0** si no.\n",
    "- _Comedia_: **1** si es comedia y **0** si no.\n",
    "-  _Duracion_: en minutos de la pelicula\n",
    "- _Estreno_a_: año de estreno de la pelicula.\n",
    "- _Estreno_m_: mes de estreno de la película.\n",
    "- _Puntos_Critica_: valoración de los críticos en visionado previo a estreno.\n",
    "- _Nominacion_MejorPelicula_: si la película fue nominada a mejor película en los Oscars.\n",
    "- _Premio_MejorActor_: si el actor principal  fue premiado con Óscar a mejor actor.\n",
    "- _Premio_MejorActriz_: si la actriz principal fue premiada con Óscar a mejor actriz.\n",
    "- _Premio_MejorPelicula_: si la película fue premiada como mejor película en los Oscars.\n",
    "- _Premio_MejorDirector_: si la película fue premiada a mejor película en los Oscars.\n",
    "- _SigloXXI_: **1** si la película se estrenó en el siglo XXI y **0** si se estrenó en el siglo XX.\n",
    "- _ID_: título de la película evaluada.\n",
    "\n",
    "Los datos están disponibles en el fichero **peliculas.xlsx**."
   ]
  },
  {
   "cell_type": "markdown",
   "id": "275096cf",
   "metadata": {},
   "source": [
    "### Ejercicio 1\n",
    "Especifica un modelo de regresión lineal para explicar las valoraciones de las películas en base a $4$ de las variables disponibles (excepto _SigloXXI_). Estima el modelo especificado e interpreta los coeficientes estiados obtenidos."
   ]
  },
  {
   "cell_type": "code",
   "execution_count": 21,
   "id": "114ffb27",
   "metadata": {},
   "outputs": [
    {
     "data": {
      "text/html": [
       "<table class=\"simpletable\">\n",
       "<caption>OLS Regression Results</caption>\n",
       "<tr>\n",
       "  <th>Dep. Variable:</th>       <td>Valoracion</td>    <th>  R-squared:         </th> <td>   0.614</td> \n",
       "</tr>\n",
       "<tr>\n",
       "  <th>Model:</th>                   <td>OLS</td>       <th>  Adj. R-squared:    </th> <td>   0.612</td> \n",
       "</tr>\n",
       "<tr>\n",
       "  <th>Method:</th>             <td>Least Squares</td>  <th>  F-statistic:       </th> <td>   257.3</td> \n",
       "</tr>\n",
       "<tr>\n",
       "  <th>Date:</th>             <td>Mon, 20 Dec 2021</td> <th>  Prob (F-statistic):</th> <td>4.18e-132</td>\n",
       "</tr>\n",
       "<tr>\n",
       "  <th>Time:</th>                 <td>09:07:57</td>     <th>  Log-Likelihood:    </th> <td> -666.00</td> \n",
       "</tr>\n",
       "<tr>\n",
       "  <th>No. Observations:</th>      <td>   651</td>      <th>  AIC:               </th> <td>   1342.</td> \n",
       "</tr>\n",
       "<tr>\n",
       "  <th>Df Residuals:</th>          <td>   646</td>      <th>  BIC:               </th> <td>   1364.</td> \n",
       "</tr>\n",
       "<tr>\n",
       "  <th>Df Model:</th>              <td>     4</td>      <th>                     </th>     <td> </td>    \n",
       "</tr>\n",
       "<tr>\n",
       "  <th>Covariance Type:</th>      <td>nonrobust</td>    <th>                     </th>     <td> </td>    \n",
       "</tr>\n",
       "</table>\n",
       "<table class=\"simpletable\">\n",
       "<tr>\n",
       "         <td></td>           <th>coef</th>     <th>std err</th>      <th>t</th>      <th>P>|t|</th>  <th>[0.025</th>    <th>0.975]</th>  \n",
       "</tr>\n",
       "<tr>\n",
       "  <th>const</th>          <td>    4.4049</td> <td>    0.174</td> <td>   25.255</td> <td> 0.000</td> <td>    4.062</td> <td>    4.747</td>\n",
       "</tr>\n",
       "<tr>\n",
       "  <th>Duracion</th>       <td>    0.0084</td> <td>    0.001</td> <td>    5.894</td> <td> 0.000</td> <td>    0.006</td> <td>    0.011</td>\n",
       "</tr>\n",
       "<tr>\n",
       "  <th>Puntos_Critica</th> <td>    0.0266</td> <td>    0.001</td> <td>   25.668</td> <td> 0.000</td> <td>    0.025</td> <td>    0.029</td>\n",
       "</tr>\n",
       "<tr>\n",
       "  <th>Largometraje</th>   <td>   -0.4228</td> <td>    0.103</td> <td>   -4.097</td> <td> 0.000</td> <td>   -0.625</td> <td>   -0.220</td>\n",
       "</tr>\n",
       "<tr>\n",
       "  <th>Drama</th>          <td>    0.0960</td> <td>    0.058</td> <td>    1.667</td> <td> 0.096</td> <td>   -0.017</td> <td>    0.209</td>\n",
       "</tr>\n",
       "</table>\n",
       "<table class=\"simpletable\">\n",
       "<tr>\n",
       "  <th>Omnibus:</th>       <td>58.000</td> <th>  Durbin-Watson:     </th> <td>   2.046</td>\n",
       "</tr>\n",
       "<tr>\n",
       "  <th>Prob(Omnibus):</th> <td> 0.000</td> <th>  Jarque-Bera (JB):  </th> <td> 108.675</td>\n",
       "</tr>\n",
       "<tr>\n",
       "  <th>Skew:</th>          <td>-0.565</td> <th>  Prob(JB):          </th> <td>2.52e-24</td>\n",
       "</tr>\n",
       "<tr>\n",
       "  <th>Kurtosis:</th>      <td> 4.652</td> <th>  Cond. No.          </th> <td>    858.</td>\n",
       "</tr>\n",
       "</table><br/><br/>Notes:<br/>[1] Standard Errors assume that the covariance matrix of the errors is correctly specified."
      ],
      "text/plain": [
       "<class 'statsmodels.iolib.summary.Summary'>\n",
       "\"\"\"\n",
       "                            OLS Regression Results                            \n",
       "==============================================================================\n",
       "Dep. Variable:             Valoracion   R-squared:                       0.614\n",
       "Model:                            OLS   Adj. R-squared:                  0.612\n",
       "Method:                 Least Squares   F-statistic:                     257.3\n",
       "Date:                Mon, 20 Dec 2021   Prob (F-statistic):          4.18e-132\n",
       "Time:                        09:07:57   Log-Likelihood:                -666.00\n",
       "No. Observations:                 651   AIC:                             1342.\n",
       "Df Residuals:                     646   BIC:                             1364.\n",
       "Df Model:                           4                                         \n",
       "Covariance Type:            nonrobust                                         \n",
       "==================================================================================\n",
       "                     coef    std err          t      P>|t|      [0.025      0.975]\n",
       "----------------------------------------------------------------------------------\n",
       "const              4.4049      0.174     25.255      0.000       4.062       4.747\n",
       "Duracion           0.0084      0.001      5.894      0.000       0.006       0.011\n",
       "Puntos_Critica     0.0266      0.001     25.668      0.000       0.025       0.029\n",
       "Largometraje      -0.4228      0.103     -4.097      0.000      -0.625      -0.220\n",
       "Drama              0.0960      0.058      1.667      0.096      -0.017       0.209\n",
       "==============================================================================\n",
       "Omnibus:                       58.000   Durbin-Watson:                   2.046\n",
       "Prob(Omnibus):                  0.000   Jarque-Bera (JB):              108.675\n",
       "Skew:                          -0.565   Prob(JB):                     2.52e-24\n",
       "Kurtosis:                       4.652   Cond. No.                         858.\n",
       "==============================================================================\n",
       "\n",
       "Notes:\n",
       "[1] Standard Errors assume that the covariance matrix of the errors is correctly specified.\n",
       "\"\"\""
      ]
     },
     "execution_count": 21,
     "metadata": {},
     "output_type": "execute_result"
    }
   ],
   "source": [
    "##Código:\n",
    "\n",
    "import numpy as np\n",
    "import statsmodels.api as sm\n",
    "import statsmodels.formula.api as smf\n",
    "import matplotlib.pylab as plt\n",
    "import statsmodels.stats.api as sms\n",
    "from wooldridge import *\n",
    "import pandas as pd #librería para manejo de datos\n",
    "\n",
    "datos = pd.read_excel ('peliculas.xlsx') \n",
    "\n",
    "Y = datos[\"Valoracion\"]\n",
    "X = datos[[\"Duracion\", \"Puntos_Critica\", \"Largometraje\", \"Drama\"]]\n",
    "\n",
    "mco1 = sm.OLS(Y, sm.add_constant(X)).fit()\n",
    "\n",
    "mco1.summary()\n",
    "\n"
   ]
  },
  {
   "cell_type": "markdown",
   "id": "4e853b45",
   "metadata": {},
   "source": [
    "Respuesta:\n",
    "\n",
    "- En primer lugar he decidido hacer un modelo utilizando las siguientes variables exogenas: \n",
    "  - \"Duracion\". \n",
    "  - \"Puntos_Critica\".\n",
    "  - \"Largometraje\".\n",
    "  - \"Drama\"\n",
    "\n",
    "- En cuanto a la interpretacion de los resultados:\n",
    "\n",
    "  -   Tenemos un R cuadrado del 0.614, esto quiere decir que nuestro modelo explica la variable endogena \"Valoracion\" en un 61%.\n",
    "  -   Tambien podemos mencionar que como nuestro Prob (F-statistic):\t4.18e-132 es menor que el alfa (0.05), podemos decir que el modelo es significativo a nivel global.\n",
    "  \n",
    "  -   En cuanto a las variables:\n",
    "      -   Constante: 1 incremento de esta provoca 4.40 de incremento en nuestra Y y significativa porque el p-valor es < que 0.05.\n",
    "      -   Duracion: 1 incremento provoca el aumento en 0.0084 de la Y y es significativa a nivel individual porque el p-valor < 0.05.\n",
    "      - Puntos_Critica: 1 incremento provoca el aumento en 0.0266 de la Y y es significativa a nivel individual porque el p-valor < 0.05.  \n",
    "      - Largometraje: 1 incremento provoca el decremento en -0.4228 de la Y y es significativa a nivel individual porque el p-valor < 0.05.\n",
    "      - Drama: 1 incremento provoca el incremento en 0.0960 de la Y y pero no es significativa a nivel individual porque el p-valor > 0.05.\n"
   ]
  },
  {
   "cell_type": "markdown",
   "id": "52818700",
   "metadata": {},
   "source": [
    "### Ejercicio 2\n",
    "\n",
    "Justifica que supone la significación global e individual del modelo. Indica los resultados de estos tests en el modelo obtenido tanto a un nivel de significación del 5% como del 10%. ¿Se obtienen conclusiones coherentes de estos?"
   ]
  },
  {
   "cell_type": "code",
   "execution_count": 49,
   "id": "8e12b255",
   "metadata": {},
   "outputs": [
    {
     "name": "stdout",
     "output_type": "stream",
     "text": [
      "Para un nivel de significacion del 5%: \n",
      "\n",
      "\n",
      "F teorica:  2.618671813263447\n",
      "F experimental:  343.63914782707093\n",
      "Como nuestra f-experimental es mayor que la f-teorica, se rechaza la hipotesis nula y decimos que tenemos significacion global\n",
      "\n",
      "Para un nivel de significacion del 10%: \n",
      "\n",
      "\n",
      "F teorica:  2.0922732763140797\n",
      "F experimental:  343.63914782707093\n",
      "Como nuestra f-experimental es mayor que la f-teorica, se rechaza la hipotesis nula y decimos que tenemos significacion global\n"
     ]
    }
   ],
   "source": [
    "##Código:\n",
    "from scipy import stats\n",
    "\n",
    "n = 651\n",
    "k = 4\n",
    "\n",
    "sce = mco1.ess\n",
    "scr = mco1.ssr\n",
    "\n",
    "alpha=0.05\n",
    "f_exp = np.dot(((n-k)/(k-1)), sce/scr)\n",
    "f_teorica = stats.f.ppf(1-alpha, k-1, n-k)\n",
    "\n",
    "print(\"Para un nivel de significacion del 5%: \\n\")\n",
    "\n",
    "print(\"\\nF teorica: \", f_teorica)\n",
    "print(\"F experimental: \", f_exp)\n",
    "print(\"Como nuestra f-experimental es mayor que la f-teorica, se rechaza la hipotesis nula y decimos que tenemos significacion global\\n\")\n",
    "\n",
    "#-----------------------------------\n",
    "\n",
    "alpha=0.1\n",
    "f_exp = np.dot(((n-k)/(k-1)), sce/scr)\n",
    "f_teorica = stats.f.ppf(1-alpha, k-1, n-k)\n",
    "\n",
    "print(\"Para un nivel de significacion del 10%: \\n\")\n",
    "print(\"\\nF teorica: \", f_teorica)\n",
    "print(\"F experimental: \", f_exp)\n",
    "print(\"Como nuestra f-experimental es mayor que la f-teorica, se rechaza la hipotesis nula y decimos que tenemos significacion global\")"
   ]
  },
  {
   "cell_type": "markdown",
   "id": "fc317a46",
   "metadata": {},
   "source": [
    "Respuesta:\n",
    "\n",
    "- La significacion global del modelo, implica que nivel de conjunto de las variables, tienen la capacidad para afectar al valor que se esta estimando, por lo que la modificacion de los valores de sus coeficientes, implicara un cambio en la prediccion.\n",
    "- La significacion individual del modelo, implica que a nivel de cada coeficiente, afectara al resultado de la prediccion o a la modificacion del valor de la Y, por ejemplo, en nuestro caso, el coeficiente Drama, al no ser significativo implicara que apenas modifique el valor de nuestra prediccion.\n",
    "- Como podemos ver, si obtenemos resultados coherentes, ya que como nuestra f-experimental es mayor que la f-teorica, se rechaza la hipotesis nula y decimos que tenemos significacion global.\n"
   ]
  },
  {
   "cell_type": "markdown",
   "id": "7afaa2a9",
   "metadata": {},
   "source": [
    "### Ejercicio 3\n",
    "\n",
    "Aplica algún test de hipótesis que te permita contrastar si existen diferencias entre el comportamiento de las valoraciones en base a las variables escogidas para las películas estrenadas en el Siglo XX y en el Siglo XXI. Explica el test que has aplicado e interpreta los resultados obtenidos."
   ]
  },
  {
   "cell_type": "code",
   "execution_count": 14,
   "id": "24617920",
   "metadata": {},
   "outputs": [
    {
     "data": {
      "text/html": [
       "<table class=\"simpletable\">\n",
       "<caption>OLS Regression Results</caption>\n",
       "<tr>\n",
       "  <th>Dep. Variable:</th>       <td>Valoracion</td>    <th>  R-squared:         </th> <td>   0.614</td> \n",
       "</tr>\n",
       "<tr>\n",
       "  <th>Model:</th>                   <td>OLS</td>       <th>  Adj. R-squared:    </th> <td>   0.612</td> \n",
       "</tr>\n",
       "<tr>\n",
       "  <th>Method:</th>             <td>Least Squares</td>  <th>  F-statistic:       </th> <td>   257.3</td> \n",
       "</tr>\n",
       "<tr>\n",
       "  <th>Date:</th>             <td>Mon, 20 Dec 2021</td> <th>  Prob (F-statistic):</th> <td>4.18e-132</td>\n",
       "</tr>\n",
       "<tr>\n",
       "  <th>Time:</th>                 <td>09:07:56</td>     <th>  Log-Likelihood:    </th> <td> -666.00</td> \n",
       "</tr>\n",
       "<tr>\n",
       "  <th>No. Observations:</th>      <td>   651</td>      <th>  AIC:               </th> <td>   1342.</td> \n",
       "</tr>\n",
       "<tr>\n",
       "  <th>Df Residuals:</th>          <td>   646</td>      <th>  BIC:               </th> <td>   1364.</td> \n",
       "</tr>\n",
       "<tr>\n",
       "  <th>Df Model:</th>              <td>     4</td>      <th>                     </th>     <td> </td>    \n",
       "</tr>\n",
       "<tr>\n",
       "  <th>Covariance Type:</th>      <td>nonrobust</td>    <th>                     </th>     <td> </td>    \n",
       "</tr>\n",
       "</table>\n",
       "<table class=\"simpletable\">\n",
       "<tr>\n",
       "         <td></td>           <th>coef</th>     <th>std err</th>      <th>t</th>      <th>P>|t|</th>  <th>[0.025</th>    <th>0.975]</th>  \n",
       "</tr>\n",
       "<tr>\n",
       "  <th>const</th>          <td>    4.4049</td> <td>    0.174</td> <td>   25.255</td> <td> 0.000</td> <td>    4.062</td> <td>    4.747</td>\n",
       "</tr>\n",
       "<tr>\n",
       "  <th>Duracion</th>       <td>    0.0084</td> <td>    0.001</td> <td>    5.894</td> <td> 0.000</td> <td>    0.006</td> <td>    0.011</td>\n",
       "</tr>\n",
       "<tr>\n",
       "  <th>Puntos_Critica</th> <td>    0.0266</td> <td>    0.001</td> <td>   25.668</td> <td> 0.000</td> <td>    0.025</td> <td>    0.029</td>\n",
       "</tr>\n",
       "<tr>\n",
       "  <th>Largometraje</th>   <td>   -0.4228</td> <td>    0.103</td> <td>   -4.097</td> <td> 0.000</td> <td>   -0.625</td> <td>   -0.220</td>\n",
       "</tr>\n",
       "<tr>\n",
       "  <th>Drama</th>          <td>    0.0960</td> <td>    0.058</td> <td>    1.667</td> <td> 0.096</td> <td>   -0.017</td> <td>    0.209</td>\n",
       "</tr>\n",
       "</table>\n",
       "<table class=\"simpletable\">\n",
       "<tr>\n",
       "  <th>Omnibus:</th>       <td>58.000</td> <th>  Durbin-Watson:     </th> <td>   2.046</td>\n",
       "</tr>\n",
       "<tr>\n",
       "  <th>Prob(Omnibus):</th> <td> 0.000</td> <th>  Jarque-Bera (JB):  </th> <td> 108.675</td>\n",
       "</tr>\n",
       "<tr>\n",
       "  <th>Skew:</th>          <td>-0.565</td> <th>  Prob(JB):          </th> <td>2.52e-24</td>\n",
       "</tr>\n",
       "<tr>\n",
       "  <th>Kurtosis:</th>      <td> 4.652</td> <th>  Cond. No.          </th> <td>    858.</td>\n",
       "</tr>\n",
       "</table><br/><br/>Notes:<br/>[1] Standard Errors assume that the covariance matrix of the errors is correctly specified."
      ],
      "text/plain": [
       "<class 'statsmodels.iolib.summary.Summary'>\n",
       "\"\"\"\n",
       "                            OLS Regression Results                            \n",
       "==============================================================================\n",
       "Dep. Variable:             Valoracion   R-squared:                       0.614\n",
       "Model:                            OLS   Adj. R-squared:                  0.612\n",
       "Method:                 Least Squares   F-statistic:                     257.3\n",
       "Date:                Mon, 20 Dec 2021   Prob (F-statistic):          4.18e-132\n",
       "Time:                        09:07:56   Log-Likelihood:                -666.00\n",
       "No. Observations:                 651   AIC:                             1342.\n",
       "Df Residuals:                     646   BIC:                             1364.\n",
       "Df Model:                           4                                         \n",
       "Covariance Type:            nonrobust                                         \n",
       "==================================================================================\n",
       "                     coef    std err          t      P>|t|      [0.025      0.975]\n",
       "----------------------------------------------------------------------------------\n",
       "const              4.4049      0.174     25.255      0.000       4.062       4.747\n",
       "Duracion           0.0084      0.001      5.894      0.000       0.006       0.011\n",
       "Puntos_Critica     0.0266      0.001     25.668      0.000       0.025       0.029\n",
       "Largometraje      -0.4228      0.103     -4.097      0.000      -0.625      -0.220\n",
       "Drama              0.0960      0.058      1.667      0.096      -0.017       0.209\n",
       "==============================================================================\n",
       "Omnibus:                       58.000   Durbin-Watson:                   2.046\n",
       "Prob(Omnibus):                  0.000   Jarque-Bera (JB):              108.675\n",
       "Skew:                          -0.565   Prob(JB):                     2.52e-24\n",
       "Kurtosis:                       4.652   Cond. No.                         858.\n",
       "==============================================================================\n",
       "\n",
       "Notes:\n",
       "[1] Standard Errors assume that the covariance matrix of the errors is correctly specified.\n",
       "\"\"\""
      ]
     },
     "execution_count": 14,
     "metadata": {},
     "output_type": "execute_result"
    }
   ],
   "source": [
    "##Código:\n",
    "\n",
    "datosXX = datos[datos[\"SigloXXI\"] == 0]\n",
    "\n",
    "Y_XX = datosXX[\"Valoracion\"]\n",
    "X_XX = datosXX[[\"Duracion\", \"Puntos_Critica\", \"Largometraje\", \"Drama\"]]\n",
    "\n",
    "mco3_XX = sm.OLS(Y, sm.add_constant(X)).fit()\n",
    "\n",
    "mco3_XX.summary()"
   ]
  },
  {
   "cell_type": "code",
   "execution_count": 15,
   "id": "6cbc9f0c",
   "metadata": {},
   "outputs": [
    {
     "data": {
      "text/html": [
       "<table class=\"simpletable\">\n",
       "<caption>OLS Regression Results</caption>\n",
       "<tr>\n",
       "  <th>Dep. Variable:</th>       <td>Valoracion</td>    <th>  R-squared:         </th> <td>   0.614</td> \n",
       "</tr>\n",
       "<tr>\n",
       "  <th>Model:</th>                   <td>OLS</td>       <th>  Adj. R-squared:    </th> <td>   0.612</td> \n",
       "</tr>\n",
       "<tr>\n",
       "  <th>Method:</th>             <td>Least Squares</td>  <th>  F-statistic:       </th> <td>   257.3</td> \n",
       "</tr>\n",
       "<tr>\n",
       "  <th>Date:</th>             <td>Mon, 20 Dec 2021</td> <th>  Prob (F-statistic):</th> <td>4.18e-132</td>\n",
       "</tr>\n",
       "<tr>\n",
       "  <th>Time:</th>                 <td>09:07:56</td>     <th>  Log-Likelihood:    </th> <td> -666.00</td> \n",
       "</tr>\n",
       "<tr>\n",
       "  <th>No. Observations:</th>      <td>   651</td>      <th>  AIC:               </th> <td>   1342.</td> \n",
       "</tr>\n",
       "<tr>\n",
       "  <th>Df Residuals:</th>          <td>   646</td>      <th>  BIC:               </th> <td>   1364.</td> \n",
       "</tr>\n",
       "<tr>\n",
       "  <th>Df Model:</th>              <td>     4</td>      <th>                     </th>     <td> </td>    \n",
       "</tr>\n",
       "<tr>\n",
       "  <th>Covariance Type:</th>      <td>nonrobust</td>    <th>                     </th>     <td> </td>    \n",
       "</tr>\n",
       "</table>\n",
       "<table class=\"simpletable\">\n",
       "<tr>\n",
       "         <td></td>           <th>coef</th>     <th>std err</th>      <th>t</th>      <th>P>|t|</th>  <th>[0.025</th>    <th>0.975]</th>  \n",
       "</tr>\n",
       "<tr>\n",
       "  <th>const</th>          <td>    4.4049</td> <td>    0.174</td> <td>   25.255</td> <td> 0.000</td> <td>    4.062</td> <td>    4.747</td>\n",
       "</tr>\n",
       "<tr>\n",
       "  <th>Duracion</th>       <td>    0.0084</td> <td>    0.001</td> <td>    5.894</td> <td> 0.000</td> <td>    0.006</td> <td>    0.011</td>\n",
       "</tr>\n",
       "<tr>\n",
       "  <th>Puntos_Critica</th> <td>    0.0266</td> <td>    0.001</td> <td>   25.668</td> <td> 0.000</td> <td>    0.025</td> <td>    0.029</td>\n",
       "</tr>\n",
       "<tr>\n",
       "  <th>Largometraje</th>   <td>   -0.4228</td> <td>    0.103</td> <td>   -4.097</td> <td> 0.000</td> <td>   -0.625</td> <td>   -0.220</td>\n",
       "</tr>\n",
       "<tr>\n",
       "  <th>Drama</th>          <td>    0.0960</td> <td>    0.058</td> <td>    1.667</td> <td> 0.096</td> <td>   -0.017</td> <td>    0.209</td>\n",
       "</tr>\n",
       "</table>\n",
       "<table class=\"simpletable\">\n",
       "<tr>\n",
       "  <th>Omnibus:</th>       <td>58.000</td> <th>  Durbin-Watson:     </th> <td>   2.046</td>\n",
       "</tr>\n",
       "<tr>\n",
       "  <th>Prob(Omnibus):</th> <td> 0.000</td> <th>  Jarque-Bera (JB):  </th> <td> 108.675</td>\n",
       "</tr>\n",
       "<tr>\n",
       "  <th>Skew:</th>          <td>-0.565</td> <th>  Prob(JB):          </th> <td>2.52e-24</td>\n",
       "</tr>\n",
       "<tr>\n",
       "  <th>Kurtosis:</th>      <td> 4.652</td> <th>  Cond. No.          </th> <td>    858.</td>\n",
       "</tr>\n",
       "</table><br/><br/>Notes:<br/>[1] Standard Errors assume that the covariance matrix of the errors is correctly specified."
      ],
      "text/plain": [
       "<class 'statsmodels.iolib.summary.Summary'>\n",
       "\"\"\"\n",
       "                            OLS Regression Results                            \n",
       "==============================================================================\n",
       "Dep. Variable:             Valoracion   R-squared:                       0.614\n",
       "Model:                            OLS   Adj. R-squared:                  0.612\n",
       "Method:                 Least Squares   F-statistic:                     257.3\n",
       "Date:                Mon, 20 Dec 2021   Prob (F-statistic):          4.18e-132\n",
       "Time:                        09:07:56   Log-Likelihood:                -666.00\n",
       "No. Observations:                 651   AIC:                             1342.\n",
       "Df Residuals:                     646   BIC:                             1364.\n",
       "Df Model:                           4                                         \n",
       "Covariance Type:            nonrobust                                         \n",
       "==================================================================================\n",
       "                     coef    std err          t      P>|t|      [0.025      0.975]\n",
       "----------------------------------------------------------------------------------\n",
       "const              4.4049      0.174     25.255      0.000       4.062       4.747\n",
       "Duracion           0.0084      0.001      5.894      0.000       0.006       0.011\n",
       "Puntos_Critica     0.0266      0.001     25.668      0.000       0.025       0.029\n",
       "Largometraje      -0.4228      0.103     -4.097      0.000      -0.625      -0.220\n",
       "Drama              0.0960      0.058      1.667      0.096      -0.017       0.209\n",
       "==============================================================================\n",
       "Omnibus:                       58.000   Durbin-Watson:                   2.046\n",
       "Prob(Omnibus):                  0.000   Jarque-Bera (JB):              108.675\n",
       "Skew:                          -0.565   Prob(JB):                     2.52e-24\n",
       "Kurtosis:                       4.652   Cond. No.                         858.\n",
       "==============================================================================\n",
       "\n",
       "Notes:\n",
       "[1] Standard Errors assume that the covariance matrix of the errors is correctly specified.\n",
       "\"\"\""
      ]
     },
     "execution_count": 15,
     "metadata": {},
     "output_type": "execute_result"
    }
   ],
   "source": [
    "datosXXI = datos[datos[\"SigloXXI\"] == 1]\n",
    "\n",
    "Y_XXI = datosXX[\"Valoracion\"]\n",
    "X_XXI = datosXX[[\"Duracion\", \"Puntos_Critica\", \"Largometraje\", \"Drama\"]]\n",
    "\n",
    "mco3_XXI = sm.OLS(Y, sm.add_constant(X)).fit()\n",
    "\n",
    "mco3_XXI.summary()"
   ]
  },
  {
   "cell_type": "code",
   "execution_count": 16,
   "id": "5d6737cf",
   "metadata": {},
   "outputs": [
    {
     "name": "stdout",
     "output_type": "stream",
     "text": [
      "La F-teorico:  2.2280609714381163\n",
      "La F-experimental:  -106.83333333333333\n",
      "Como nuestra f-experimental es mas pequeño que f-teorico, no rechazamos la hipotesis nula, por lo que podemos decir que coincide las betas de XXI y XX\n"
     ]
    }
   ],
   "source": [
    "scrXX=mco3_XX.ssr\n",
    "scrXXI=mco3_XXI.ssr\n",
    "scr = mco1.ssr\n",
    "n = mco1.nobs\n",
    "\n",
    "k=4\n",
    "\n",
    "alpha=0.05\n",
    "Fteo= stats.f.ppf(1-alpha,k+1,n-2*k-1)\n",
    "\n",
    "#Test de chow\n",
    "Fexp = ((n-(2*k)-2)/(k-1)) * ((scr-(scrXX+scrXXI))/(scrXX+scrXXI))\n",
    "\n",
    "print(\"La F-teorico: \", Fteo)\n",
    "print(\"La F-experimental: \", Fexp)\n",
    "\n",
    "print(\"Como nuestra f-experimental es mas pequeño que f-teorico, no rechazamos la hipotesis nula, por lo que podemos decir que coincide las betas de XXI y XX\")"
   ]
  },
  {
   "cell_type": "markdown",
   "id": "e6eff8f8",
   "metadata": {},
   "source": [
    "Respuesta:\n",
    "\n",
    "- En primer lugar, he decidido utilizar el test de chow, el cual me permite saber si los coeficientes en dos regresiones lineales en dos sets de datos son iguales.\n",
    "\n",
    "  - La hipótesis nula del test de Chow será que $${\\displaystyle a_{1}=a_{2}}, {\\displaystyle b_{1}=b_{2}}.$$\n",
    "\n",
    "  - El estadístico del test se comporta como una distribución F con k $$ {\\displaystyle N_{1}+N_{2}-2k}.$$\n",
    "  - grados de libertad\n",
    "- Interpretacion de los resultados \n",
    "\n",
    "  -   La F-teorico:  2.2280609714381163\n",
    "  -   La F-experimental:  -106.83333333333333\n",
    "  -   Como nuestra f-experimental es mas pequeño que f-teorico, no rechazamos la hipotesis nula, por lo que podemos decir que coincide las betas de XXI y XX"
   ]
  },
  {
   "cell_type": "markdown",
   "id": "5f9d3dea",
   "metadata": {},
   "source": [
    "### Ejercicio 4\n",
    "\n",
    "Analiza si los datos presentan un problema de multicolinealidad con las medidas de detección que conozcas, y en caso de existir este problema, explica cómo puedes paliar el problema en el modelo."
   ]
  },
  {
   "cell_type": "code",
   "execution_count": 23,
   "id": "cc2a02c6",
   "metadata": {},
   "outputs": [
    {
     "name": "stdout",
     "output_type": "stream",
     "text": [
      "Nuestro condition number es:  858.2105206769918\n",
      "Tendriamos un problema grave de multicolinealidad si fuese mayor que 900.\n"
     ]
    }
   ],
   "source": [
    "##Código:\n",
    "\n",
    "print(\"Nuestro condition number es: \", mco1.condition_number)\n",
    "print(\"Tendriamos un problema grave de multicolinealidad si fuese mayor que 900.\")"
   ]
  },
  {
   "cell_type": "code",
   "execution_count": 30,
   "id": "f37cacae",
   "metadata": {},
   "outputs": [
    {
     "name": "stdout",
     "output_type": "stream",
     "text": [
      "Test de los Vifs:\n",
      "--> Factor de inflacion de la varianza, con el for hacemos que salga  para toda las variables\n",
      "--> Hay problema de multicolinealidad, si vif es mayor que 10 y si es mayor que 20, problema grave\n",
      "\n",
      "[16.89769287754869, 5.495876635093889, 10.22701105529979, 2.1046761770901514]\n",
      "Por lo que nuestra Duracion y Largometraje, presenta problemas de multicolinealidad\n"
     ]
    }
   ],
   "source": [
    "import statsmodels.stats.outliers_influence as oi\n",
    "\n",
    "print(\"Test de los Vifs:\")\n",
    "print(\"--> Factor de inflacion de la varianza, con el for hacemos que salga  para toda las variables\")\n",
    "print(\"--> Hay problema de multicolinealidad, si vif es mayor que 10 y si es mayor que 20, problema grave\\n\")\n",
    "\n",
    "vifs=[oi.variance_inflation_factor(X.values, i) for i in range(X.shape[1])]\n",
    "print(vifs)\n",
    "\n",
    "print(\"Por lo que nuestra Duracion y Largometraje, presenta problemas de multicolinealidad\")"
   ]
  },
  {
   "cell_type": "code",
   "execution_count": 31,
   "id": "a28ebdbd",
   "metadata": {},
   "outputs": [
    {
     "name": "stdout",
     "output_type": "stream",
     "text": [
      "Matriz de autocorrelacion: \n",
      "[[ 1.          0.17134557  0.12871722  0.24196057]\n",
      " [ 0.17134557  1.         -0.32140338  0.14990769]\n",
      " [ 0.12871722 -0.32140338  1.          0.25658523]\n",
      " [ 0.24196057  0.14990769  0.25658523  1.        ]]\n",
      "\n",
      " Lo ideal es que la matriz fuese la identidad\n",
      "Matriz de autocorrelacion a nivel visual: \n"
     ]
    },
    {
     "data": {
      "image/png": "[encoded data removed]",
      "text/plain": [
       "<Figure size 432x288 with 2 Axes>"
      ]
     },
     "metadata": {
      "needs_background": "light"
     },
     "output_type": "display_data"
    }
   ],
   "source": [
    "#Matriz de correlacciones\n",
    "print(\"Matriz de autocorrelacion: \")\n",
    "corr_matrix=np.corrcoef(X.T) #X.T = matriz X traspuesta\n",
    "print(corr_matrix)\n",
    "\n",
    "print(\"\\n Lo ideal es que la matriz fuese la identidad\")\n",
    "import statsmodels.graphics.api as smg\n",
    "print(\"Matriz de autocorrelacion a nivel visual: \")\n",
    "smg.plot_corr(corr_matrix, xnames=[\"Duracion\", \"Puntos_Critica\", \"Largometraje\", \"Drama\"])\n",
    "plt.show()"
   ]
  },
  {
   "cell_type": "markdown",
   "id": "242383e3",
   "metadata": {},
   "source": [
    "- Respuesta:\n",
    "  - En primer lugar comprobamos nuestro condition number es:  858.2105206769918\n",
    "    - Tendriamos un problema grave de multicolinealidad si fuese mayor que 900.\n",
    "  - Luego hemos realizado el test de los vifs para saber la inflacion de la varianza en las variables:\n",
    "    - [16.89769287754869, 5.495876635093889, 10.22701105529979, 2.1046761770901514]\n",
    "    - Por lo que nuestra Duracion y Largometraje, presenta problemas de multicolinealidad pero no muy graves.\n",
    "\n",
    "  - Finalmente, podemos ver la matriz de autocorrelacion para comprobar las variables a nivel visual y es mas o menos lo que habiamos dicho.\n",
    "\n",
    "- Si tuviesemos que solucionarlo (aunque no es encesario en nuestro caso): \n",
    "  \n",
    "  - Deberiamos eliminar dichas variables que tenga una alta relacion eentre ellas, hablando de las variables exogenas.\n",
    "  - Comprobar que no se produzcan combinacion lineales entre las variables independientes.\n",
    "  - Tambien se podria aplicar logaritmos a los datos (pero a mi a nivel practico no me funciona)."
   ]
  },
  {
   "cell_type": "markdown",
   "id": "30f1ea02",
   "metadata": {},
   "source": [
    "### Ejercicio 5\n",
    "\n",
    "Extrae los residuos de tu modelo y chequea si estos siguen una distribución normal gráficamente y con algún test de hipótesis ¿Que consecuencias tendría en tu modelo que no se cumpliera esta hipótesis? Justifica detalladamente la respuesta."
   ]
  },
  {
   "cell_type": "code",
   "execution_count": 45,
   "id": "234d943e",
   "metadata": {},
   "outputs": [
    {
     "data": {
      "image/png": "[encoded data removed]",
      "text/plain": [
       "<Figure size 432x288 with 1 Axes>"
      ]
     },
     "metadata": {
      "needs_background": "light"
     },
     "output_type": "display_data"
    },
    {
     "data": {
      "image/png": "[encoded data removed]",
      "text/plain": [
       "<Figure size 432x288 with 1 Axes>"
      ]
     },
     "metadata": {
      "needs_background": "light"
     },
     "output_type": "display_data"
    }
   ],
   "source": [
    "##Código:\n",
    "\n",
    "# Grafica de los residuos\n",
    "from matplotlib import pyplot\n",
    "from statsmodels.graphics.gofplots import qqplot\n",
    "pyplot.hist(mco1.resid)\n",
    "pyplot.show()\n",
    "qqplot(mco1.resid, line='s')\n",
    "pyplot.show()"
   ]
  },
  {
   "cell_type": "code",
   "execution_count": 46,
   "id": "f637b821",
   "metadata": {},
   "outputs": [
    {
     "name": "stdout",
     "output_type": "stream",
     "text": [
      "Aplicamos el test de kolmogorov-smirnov:\n"
     ]
    },
    {
     "data": {
      "text/plain": [
       "(0.06245607696864991, 0.0009999999999998899)"
      ]
     },
     "execution_count": 46,
     "metadata": {},
     "output_type": "execute_result"
    }
   ],
   "source": [
    "import statsmodels.stats.diagnostic as diag\n",
    "\n",
    "print(\"Aplicamos el test de kolmogorov-smirnov:\")\n",
    "diag.kstest_normal(mco1.resid)"
   ]
  },
  {
   "cell_type": "markdown",
   "id": "909e82b2",
   "metadata": {},
   "source": [
    "Respuesta:\n",
    "\n",
    "- En primer lugar podemos ver a traves de la primera grafica que se presenta una camapana de Gauss, caracteristicas de una distribucion normal.\n",
    "- En la segunda grafica, podemos ver como la mayoria de los residuos se ajusta a la recta, por lo que tambien podemos corroborar que siguien una distribucion normal.\n",
    "- Con el test de kolmogorov-smirnov podemos ver que el p-valor es mayor que alfa (0.05), por lo que definitivamente corroboramos que se trata de una distribucion normal\n",
    "\n",
    "\n",
    "- Consecuencias de no seguir una distribucion normal:\n",
    "\n",
    "  - No se aceptaria las hipotesis mas basica de la econometria por lo que no se podrian hacer estimaciones ni predicciones.\n",
    "  - Y los test que realicemos no tendran ninguna validez, ya sea el r-squared, los test experimentales o cualquier otro.\n",
    "\n"
   ]
  },
  {
   "cell_type": "markdown",
   "id": "408423eb",
   "metadata": {},
   "source": [
    "### Ejercicio 6\n",
    "\n",
    "¿En qué consiste el test de Glejser y qué permite detectar? Aplícalo a tus datos con alguna de las variables que sospeches que podría suponer un problema y comenta los resultados obtenidos."
   ]
  },
  {
   "cell_type": "code",
   "execution_count": 40,
   "id": "4df319d1",
   "metadata": {},
   "outputs": [
    {
     "name": "stdout",
     "output_type": "stream",
     "text": [
      "h:  0.5 -> pvalt: 0.04342082598780415 R2:  0.006270067258391299\n",
      "h:  1 -> pvalt: 0.06366171775471681 R2:  0.005289465128469284\n",
      "h:  2 -> pvalt: 0.20813031523177314 R2:  0.002440169003822934\n"
     ]
    },
    {
     "data": {
      "text/html": [
       "<table class=\"simpletable\">\n",
       "<caption>WLS Regression Results</caption>\n",
       "<tr>\n",
       "  <th>Dep. Variable:</th>       <td>Valoracion</td>    <th>  R-squared:         </th> <td>   0.615</td> \n",
       "</tr>\n",
       "<tr>\n",
       "  <th>Model:</th>                   <td>WLS</td>       <th>  Adj. R-squared:    </th> <td>   0.613</td> \n",
       "</tr>\n",
       "<tr>\n",
       "  <th>Method:</th>             <td>Least Squares</td>  <th>  F-statistic:       </th> <td>   258.4</td> \n",
       "</tr>\n",
       "<tr>\n",
       "  <th>Date:</th>             <td>Mon, 20 Dec 2021</td> <th>  Prob (F-statistic):</th> <td>1.83e-132</td>\n",
       "</tr>\n",
       "<tr>\n",
       "  <th>Time:</th>                 <td>09:25:49</td>     <th>  Log-Likelihood:    </th> <td> -668.42</td> \n",
       "</tr>\n",
       "<tr>\n",
       "  <th>No. Observations:</th>      <td>   651</td>      <th>  AIC:               </th> <td>   1347.</td> \n",
       "</tr>\n",
       "<tr>\n",
       "  <th>Df Residuals:</th>          <td>   646</td>      <th>  BIC:               </th> <td>   1369.</td> \n",
       "</tr>\n",
       "<tr>\n",
       "  <th>Df Model:</th>              <td>     4</td>      <th>                     </th>     <td> </td>    \n",
       "</tr>\n",
       "<tr>\n",
       "  <th>Covariance Type:</th>      <td>nonrobust</td>    <th>                     </th>     <td> </td>    \n",
       "</tr>\n",
       "</table>\n",
       "<table class=\"simpletable\">\n",
       "<tr>\n",
       "         <td></td>           <th>coef</th>     <th>std err</th>      <th>t</th>      <th>P>|t|</th>  <th>[0.025</th>    <th>0.975]</th>  \n",
       "</tr>\n",
       "<tr>\n",
       "  <th>const</th>          <td>    4.3873</td> <td>    0.176</td> <td>   24.985</td> <td> 0.000</td> <td>    4.042</td> <td>    4.732</td>\n",
       "</tr>\n",
       "<tr>\n",
       "  <th>Duracion</th>       <td>    0.0086</td> <td>    0.001</td> <td>    5.845</td> <td> 0.000</td> <td>    0.006</td> <td>    0.012</td>\n",
       "</tr>\n",
       "<tr>\n",
       "  <th>Puntos_Critica</th> <td>    0.0267</td> <td>    0.001</td> <td>   25.747</td> <td> 0.000</td> <td>    0.025</td> <td>    0.029</td>\n",
       "</tr>\n",
       "<tr>\n",
       "  <th>Largometraje</th>   <td>   -0.4305</td> <td>    0.103</td> <td>   -4.185</td> <td> 0.000</td> <td>   -0.632</td> <td>   -0.229</td>\n",
       "</tr>\n",
       "<tr>\n",
       "  <th>Drama</th>          <td>    0.0928</td> <td>    0.058</td> <td>    1.602</td> <td> 0.110</td> <td>   -0.021</td> <td>    0.207</td>\n",
       "</tr>\n",
       "</table>\n",
       "<table class=\"simpletable\">\n",
       "<tr>\n",
       "  <th>Omnibus:</th>       <td>59.317</td> <th>  Durbin-Watson:     </th> <td>   2.042</td>\n",
       "</tr>\n",
       "<tr>\n",
       "  <th>Prob(Omnibus):</th> <td> 0.000</td> <th>  Jarque-Bera (JB):  </th> <td> 112.374</td>\n",
       "</tr>\n",
       "<tr>\n",
       "  <th>Skew:</th>          <td>-0.572</td> <th>  Prob(JB):          </th> <td>3.97e-25</td>\n",
       "</tr>\n",
       "<tr>\n",
       "  <th>Kurtosis:</th>      <td> 4.683</td> <th>  Cond. No.          </th> <td>    851.</td>\n",
       "</tr>\n",
       "</table><br/><br/>Notes:<br/>[1] Standard Errors assume that the covariance matrix of the errors is correctly specified."
      ],
      "text/plain": [
       "<class 'statsmodels.iolib.summary.Summary'>\n",
       "\"\"\"\n",
       "                            WLS Regression Results                            \n",
       "==============================================================================\n",
       "Dep. Variable:             Valoracion   R-squared:                       0.615\n",
       "Model:                            WLS   Adj. R-squared:                  0.613\n",
       "Method:                 Least Squares   F-statistic:                     258.4\n",
       "Date:                Mon, 20 Dec 2021   Prob (F-statistic):          1.83e-132\n",
       "Time:                        09:25:49   Log-Likelihood:                -668.42\n",
       "No. Observations:                 651   AIC:                             1347.\n",
       "Df Residuals:                     646   BIC:                             1369.\n",
       "Df Model:                           4                                         \n",
       "Covariance Type:            nonrobust                                         \n",
       "==================================================================================\n",
       "                     coef    std err          t      P>|t|      [0.025      0.975]\n",
       "----------------------------------------------------------------------------------\n",
       "const              4.3873      0.176     24.985      0.000       4.042       4.732\n",
       "Duracion           0.0086      0.001      5.845      0.000       0.006       0.012\n",
       "Puntos_Critica     0.0267      0.001     25.747      0.000       0.025       0.029\n",
       "Largometraje      -0.4305      0.103     -4.185      0.000      -0.632      -0.229\n",
       "Drama              0.0928      0.058      1.602      0.110      -0.021       0.207\n",
       "==============================================================================\n",
       "Omnibus:                       59.317   Durbin-Watson:                   2.042\n",
       "Prob(Omnibus):                  0.000   Jarque-Bera (JB):              112.374\n",
       "Skew:                          -0.572   Prob(JB):                     3.97e-25\n",
       "Kurtosis:                       4.683   Cond. No.                         851.\n",
       "==============================================================================\n",
       "\n",
       "Notes:\n",
       "[1] Standard Errors assume that the covariance matrix of the errors is correctly specified.\n",
       "\"\"\""
      ]
     },
     "execution_count": 40,
     "metadata": {},
     "output_type": "execute_result"
    }
   ],
   "source": [
    "##Código:\n",
    "\n",
    "#\"Duracion\", \"Puntos_Critica\", \"Largometraje\", \"Drama\"\n",
    "z=datos[\"Duracion\"]\n",
    "for h in [0.5,1,2]:\n",
    "    mcoaux=sm.OLS(abs(mco1.resid),sm.add_constant(z**h)).fit()\n",
    "    pval=mcoaux.pvalues[1]\n",
    "    print(\"h: \",h,\"-> pvalt:\",pval,\"R2: \", mcoaux.rsquared)\n",
    "    \n",
    "#nos fijamos en los pvalores mas pequenios que 0.05, y dentro de eso los que tienen el R cuadrado mas grande, \n",
    "#si lo rechazo tengo un problema, de esas cual es la que tiene el R cuadrado mas grande, Z^2, se corrige con minimos \n",
    "#cuadrados ponderados, multiplicando mis datos por 1/sqrt(Z^2)\n",
    "\n",
    "mcp = sm.WLS(Y, sm.add_constant(X),weights=1./np.sqrt (z**0.5)).fit() # minimos cuadrados ponderados\n",
    "mcp.summary()\n"
   ]
  },
  {
   "cell_type": "markdown",
   "id": "020da9f8",
   "metadata": {},
   "source": [
    "Respuesta:\n",
    "\n",
    "- El test de Glejser es un test de heterocedasticidad para modelos aditivos de la desviación estándar en función de variables exógenas. \n",
    "  \n",
    "  - Se toma como variable dependiente la raíz cuadrada del\n",
    "estimador de las varianzas en función de las variables\n",
    "exógenas.\n",
    "  - Después de obtener los residuales ûi de la regresión MCO, Glejser sugiere regresar los valores absolutos de ûi sobre la variable X que se cree que está muy asociada con σi².\n",
    "\n",
    "\n",
    "- Interpretacion de los resultados:\n",
    "\n",
    "  -   El unico que daba problemas era la variable Duracion, ya que para h=0.5, su p-valor era menor que el alfa (0.05), por lo que ahi tendriamos un problema de heterocedasticidad.\n",
    "  \n",
    "- Para solucionarlo:\n",
    "    -   Debemos de utilizar un nuevo modelo aplicando la exponencial del valor que nos provocaba problemas de heterocedasticidad por su h (en este caso 0.5), utilizando minimos cuadrados ponderados.\n"
   ]
  },
  {
   "cell_type": "markdown",
   "id": "9ffe93b4",
   "metadata": {},
   "source": [
    "### Ejercicio 7\n",
    "\n",
    "Explica en qué consiste el problema de Autocorrelación. Justifica si existe este problema en tu modelo, y en caso afirmativo, aplica alguna técnica para su corrección."
   ]
  },
  {
   "cell_type": "code",
   "execution_count": 43,
   "id": "69ca0400",
   "metadata": {},
   "outputs": [
    {
     "name": "stdout",
     "output_type": "stream",
     "text": [
      "Nuestro durbin-watson:  2.0459559701099033 --> Miramos en la tabla\n",
      "DL = 1.738, Du = 1.799\n",
      "--> Por tanto nuestro modelo presenta unos residuos incorrelados\n"
     ]
    }
   ],
   "source": [
    "##Código:\n",
    "\n",
    "from statsmodels.stats.stattools import durbin_watson #Si DW es 0, correlacion positiva, si es 4, correlacion negativa y si es 2 es incorrelaccionado, si no es alguno de esos valores me fijo en las tablas\n",
    "dw=durbin_watson(mco1.resid) #con el DW 0.066 tengo un problema de correlacion positiva\n",
    "\n",
    "print (\"Nuestro durbin-watson: \", dw, \"--> Miramos en la tabla\")\n",
    "print(\"DL = 1.738, Du = 1.799\")\n",
    "print(\"--> Por tanto nuestro modelo presenta unos residuos incorrelados\")"
   ]
  },
  {
   "cell_type": "code",
   "execution_count": 44,
   "id": "cb87399c",
   "metadata": {},
   "outputs": [
    {
     "name": "stdout",
     "output_type": "stream",
     "text": [
      "-0.022977985054951633\n",
      "Iterations used = 13 Converged True\n",
      "Rho =  [-0.02567963]\n"
     ]
    },
    {
     "data": {
      "text/html": [
       "<table class=\"simpletable\">\n",
       "<caption>GLSAR Regression Results</caption>\n",
       "<tr>\n",
       "  <th>Dep. Variable:</th>       <td>Valoracion</td>    <th>  R-squared:         </th> <td>   0.614</td> \n",
       "</tr>\n",
       "<tr>\n",
       "  <th>Model:</th>                  <td>GLSAR</td>      <th>  Adj. R-squared:    </th> <td>   0.612</td> \n",
       "</tr>\n",
       "<tr>\n",
       "  <th>Method:</th>             <td>Least Squares</td>  <th>  F-statistic:       </th> <td>   257.0</td> \n",
       "</tr>\n",
       "<tr>\n",
       "  <th>Date:</th>             <td>Mon, 20 Dec 2021</td> <th>  Prob (F-statistic):</th> <td>6.25e-132</td>\n",
       "</tr>\n",
       "<tr>\n",
       "  <th>Time:</th>                 <td>09:30:01</td>     <th>  Log-Likelihood:    </th> <td> -665.03</td> \n",
       "</tr>\n",
       "<tr>\n",
       "  <th>No. Observations:</th>      <td>   650</td>      <th>  AIC:               </th> <td>   1340.</td> \n",
       "</tr>\n",
       "<tr>\n",
       "  <th>Df Residuals:</th>          <td>   645</td>      <th>  BIC:               </th> <td>   1362.</td> \n",
       "</tr>\n",
       "<tr>\n",
       "  <th>Df Model:</th>              <td>     4</td>      <th>                     </th>     <td> </td>    \n",
       "</tr>\n",
       "<tr>\n",
       "  <th>Covariance Type:</th>      <td>nonrobust</td>    <th>                     </th>     <td> </td>    \n",
       "</tr>\n",
       "</table>\n",
       "<table class=\"simpletable\">\n",
       "<tr>\n",
       "         <td></td>           <th>coef</th>     <th>std err</th>      <th>t</th>      <th>P>|t|</th>  <th>[0.025</th>    <th>0.975]</th>  \n",
       "</tr>\n",
       "<tr>\n",
       "  <th>const</th>          <td>    4.4140</td> <td>    0.175</td> <td>   25.269</td> <td> 0.000</td> <td>    4.071</td> <td>    4.757</td>\n",
       "</tr>\n",
       "<tr>\n",
       "  <th>Duracion</th>       <td>    0.0083</td> <td>    0.001</td> <td>    5.795</td> <td> 0.000</td> <td>    0.006</td> <td>    0.011</td>\n",
       "</tr>\n",
       "<tr>\n",
       "  <th>Puntos_Critica</th> <td>    0.0266</td> <td>    0.001</td> <td>   25.694</td> <td> 0.000</td> <td>    0.025</td> <td>    0.029</td>\n",
       "</tr>\n",
       "<tr>\n",
       "  <th>Largometraje</th>   <td>   -0.4201</td> <td>    0.103</td> <td>   -4.069</td> <td> 0.000</td> <td>   -0.623</td> <td>   -0.217</td>\n",
       "</tr>\n",
       "<tr>\n",
       "  <th>Drama</th>          <td>    0.1005</td> <td>    0.058</td> <td>    1.745</td> <td> 0.082</td> <td>   -0.013</td> <td>    0.214</td>\n",
       "</tr>\n",
       "</table>\n",
       "<table class=\"simpletable\">\n",
       "<tr>\n",
       "  <th>Omnibus:</th>       <td>59.261</td> <th>  Durbin-Watson:     </th> <td>   1.998</td>\n",
       "</tr>\n",
       "<tr>\n",
       "  <th>Prob(Omnibus):</th> <td> 0.000</td> <th>  Jarque-Bera (JB):  </th> <td> 111.444</td>\n",
       "</tr>\n",
       "<tr>\n",
       "  <th>Skew:</th>          <td>-0.575</td> <th>  Prob(JB):          </th> <td>6.31e-25</td>\n",
       "</tr>\n",
       "<tr>\n",
       "  <th>Kurtosis:</th>      <td> 4.671</td> <th>  Cond. No.          </th> <td>    880.</td>\n",
       "</tr>\n",
       "</table><br/><br/>Notes:<br/>[1] Standard Errors assume that the covariance matrix of the errors is correctly specified."
      ],
      "text/plain": [
       "<class 'statsmodels.iolib.summary.Summary'>\n",
       "\"\"\"\n",
       "                           GLSAR Regression Results                           \n",
       "==============================================================================\n",
       "Dep. Variable:             Valoracion   R-squared:                       0.614\n",
       "Model:                          GLSAR   Adj. R-squared:                  0.612\n",
       "Method:                 Least Squares   F-statistic:                     257.0\n",
       "Date:                Mon, 20 Dec 2021   Prob (F-statistic):          6.25e-132\n",
       "Time:                        09:30:01   Log-Likelihood:                -665.03\n",
       "No. Observations:                 650   AIC:                             1340.\n",
       "Df Residuals:                     645   BIC:                             1362.\n",
       "Df Model:                           4                                         \n",
       "Covariance Type:            nonrobust                                         \n",
       "==================================================================================\n",
       "                     coef    std err          t      P>|t|      [0.025      0.975]\n",
       "----------------------------------------------------------------------------------\n",
       "const              4.4140      0.175     25.269      0.000       4.071       4.757\n",
       "Duracion           0.0083      0.001      5.795      0.000       0.006       0.011\n",
       "Puntos_Critica     0.0266      0.001     25.694      0.000       0.025       0.029\n",
       "Largometraje      -0.4201      0.103     -4.069      0.000      -0.623      -0.217\n",
       "Drama              0.1005      0.058      1.745      0.082      -0.013       0.214\n",
       "==============================================================================\n",
       "Omnibus:                       59.261   Durbin-Watson:                   1.998\n",
       "Prob(Omnibus):                  0.000   Jarque-Bera (JB):              111.444\n",
       "Skew:                          -0.575   Prob(JB):                     6.31e-25\n",
       "Kurtosis:                       4.671   Cond. No.                         880.\n",
       "==============================================================================\n",
       "\n",
       "Notes:\n",
       "[1] Standard Errors assume that the covariance matrix of the errors is correctly specified.\n",
       "\"\"\""
      ]
     },
     "execution_count": 44,
     "metadata": {},
     "output_type": "execute_result"
    }
   ],
   "source": [
    "# Aun asi vamos a utilizar cochrane orcutt (test de los rho):\n",
    "\n",
    "rho= 1 - dw/2 # ro estimado inicial\n",
    "\n",
    "print (rho) # rho inicial\n",
    "mco_autocorr=sm.GLSAR(Y, sm.add_constant(X), rho=rho) # minimos cuadrados generalizados\n",
    "res = mco_autocorr.iterative_fit(maxiter=2000, rtol = 100**(-10)) # iteraciones y tolerancia, la tolerancia es si entre un rho y otro hay muy poca diferencia paro (10^-10)\n",
    "\n",
    "print ('Iterations used = %d Converged %s' % (res.iter, res.converged) )\n",
    "print ('Rho = ', mco_autocorr.rho)\n",
    "res.summary()"
   ]
  },
  {
   "cell_type": "markdown",
   "id": "0483fbd9",
   "metadata": {},
   "source": [
    "Respuesta:\n",
    "\n",
    "- En primer lugar vamos a utilizar el test de Durbin-Watson el cual nos permite saber si nuestros residuos estan incorrelados:\n",
    "  - Resultados:\n",
    "    - Nuestro durbin-watson:  2.0459559701099033 -->\n",
    "    - Miramos en la tabla --> DL = 1.738, Du = 1.799\n",
    "    - Por tanto nuestro modelo presenta unos residuos incorrelados.\n",
    "\n",
    "- Si nos diesen unos residuos correlados, deberiamos aplicar en este caso el test de los rho, que ajusta un modelo lineal de correlación serial en el término de error.\n",
    "\n",
    "- La idea es transformar el modelo de regresi´on en un modelo cuyo t´ermino de error\n",
    "sea ruido blanco. Dada la relacion entre Yt y ut, podemos definir directamente las variables\n",
    "- Utilizando un nuevo modelo de minimos cuadrados generalizados.\n",
    "\n"
   ]
  },
  {
   "cell_type": "markdown",
   "id": "21fb6a3b",
   "metadata": {},
   "source": []
  }
 ],
 "metadata": {
  "kernelspec": {
   "display_name": "Python 3 (ipykernel)",
   "language": "python",
   "name": "python3"
  },
  "language_info": {
   "codemirror_mode": {
    "name": "ipython",
    "version": 3
   },
   "file_extension": ".py",
   "mimetype": "text/x-python",
   "name": "python",
   "nbconvert_exporter": "python",
   "pygments_lexer": "ipython3",
   "version": "3.8.8"
  }
 },
 "nbformat": 4,
 "nbformat_minor": 5
}
